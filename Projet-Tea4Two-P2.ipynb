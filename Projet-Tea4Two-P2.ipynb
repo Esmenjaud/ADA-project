{
 "cells": [
  {
   "cell_type": "markdown",
   "metadata": {},
   "source": [
    "# 0. Import librairies"
   ]
  },
  {
   "cell_type": "markdown",
   "metadata": {},
   "source": [
    "Import the librairies"
   ]
  },
  {
   "cell_type": "code",
   "execution_count": 71,
   "id": "345892f1",
   "metadata": {
    "tags": []
   },
   "outputs": [],
   "source": [
    "import pandas as pd\n",
    "import numpy as np\n",
    "import os\n",
    "import json\n",
    "import matplotlib.pyplot as plt\n",
    "import plotly.express as px\n",
    "import plotly.graph_objects as go\n",
    "import plotly.graph_objects as go\n",
    "import IPython.display as display\n",
    "from IPython.display import Markdown\n",
    "from kaleido.scopes.plotly import PlotlyScope\n",
    "from wordcloud import WordCloud, ImageColorGenerator\n",
    "from plotly.subplots import make_subplots"
   ]
  },
  {
   "cell_type": "code",
   "execution_count": 72,
   "metadata": {},
   "outputs": [],
   "source": [
    "# Function to save or show a figure\n",
    "\n",
    "# GLOBAL VARIABLE: display_option = \"static\" or \"dynamic\"\n",
    "DISPLAY_OPTION = \"static\" #for github mainly\n",
    "#DISPLAY_OPTION = \"dynamic\" #for interactive display  \n",
    "\n",
    "def save_or_show_figure(fig, filename, format=\"svg\", display_option=DISPLAY_OPTION):\n",
    "    scope = PlotlyScope(\n",
    "        plotlyjs=\"https://cdn.plot.ly/plotly-latest.min.js\",\n",
    "    )\n",
    "\n",
    "    if format == \"svg\":\n",
    "        with open(filename, \"wb\") as f:\n",
    "            f.write(scope.transform(fig, format=\"svg\"))\n",
    "    else:\n",
    "        fig.write_image(filename)\n",
    "\n",
    "    if display_option == \"static\":\n",
    "        return Markdown(\"\"\"![{filename}]({filename})\"\"\".format(filename=filename))\n",
    "    else:\n",
    "        return fig.show()"
   ]
  },
  {
   "cell_type": "markdown",
   "metadata": {},
   "source": [
    "Import the datasets"
   ]
  },
  {
   "cell_type": "code",
   "execution_count": 107,
   "id": "24196a7e",
   "metadata": {
    "tags": []
   },
   "outputs": [
    {
     "name": "stderr",
     "output_type": "stream",
     "text": [
      "C:\\Users\\paul\\AppData\\Local\\Temp\\ipykernel_30860\\2810662041.py:25: ParserWarning:\n",
      "\n",
      "Length of header or names does not match length of data. This leads to a loss of data with index_col=False.\n",
      "\n"
     ]
    }
   ],
   "source": [
    "PATH_IN = './MovieSummaries/'\n",
    "\n",
    "def OpenDf(PATH) :\n",
    "    '''\n",
    "    This function opens the dataframes stored in the file with location PATH\n",
    "    '''\n",
    "    \n",
    "    character_file = os.path.join(PATH_IN, 'character.metadata.tsv')\n",
    "    movie_file = os.path.join(PATH_IN, 'movie.metadata.tsv')\n",
    "    name_file = os.path.join(PATH_IN, 'name.clusters.txt')\n",
    "    plot_file = os.path.join(PATH_IN, 'plot_summaries.txt')\n",
    "    tvtrop_file = os.path.join(PATH_IN, 'tvtropes.clusters.txt')\n",
    "\n",
    "    movie_col= [\"Wikipedia movie ID\",\"Freebase movie ID\",\"Movie name\",\"Movie release date\",\n",
    "                 \"Movie box office revenue\",\"Movie runtime\",\"Movie languages\",\"Movie countries\",\n",
    "                 \"Movie genres\"]\n",
    "\n",
    "    character_col = [\"Wikipedia movie ID\",\"Freebase movie ID\",\"Movie release date\",\"Character Name\",\"Actor DOB\",\n",
    "             \"Actor gender\",\"Actor height\",\"Actor ethnicity\",\"Actor Name\",\n",
    "             \"Actor age at movie release\",\"Freebase character map\"]\n",
    "    name_col = [\"Character Name\",\"Freebase character map ?\"]\n",
    "\n",
    "    plot_col = [\"Wikipedia movie ID\",\"Plot\"]\n",
    "\n",
    "    characterDF = pd.read_table(character_file,names=character_col,index_col=False)\n",
    "    movieDF = pd.read_table(movie_file,names=movie_col,index_col=False)\n",
    "    nameDF = pd.read_csv(name_file, sep=\"\\t\",names=name_col,index_col=False)\n",
    "    plotDF = pd.read_csv(plot_file, sep=\"\\t\",names=plot_col,index_col=False)\n",
    "\n",
    "    tvtrop_f = open(tvtrop_file)\n",
    "    lines = tvtrop_f.readlines()\n",
    "    tvtrop_f.close()\n",
    "    tvtropDF = pd.DataFrame(columns=[\"stereotype\",\"char\",\"movie\",\"id\",\"actor\"])\n",
    "    for line in lines:\n",
    "        char_type,dico = line.split(\"\\t\")\n",
    "        dico = json.loads(dico)\n",
    "        dico[\"stereotype\"] = char_type\n",
    "        tvtropDF = pd.concat([tvtropDF,pd.DataFrame([dico])],ignore_index=True)\n",
    "        \n",
    "    return characterDF,movieDF,nameDF,plotDF,tvtropDF\n",
    "\n",
    "characterDF,movieDF,nameDF,plotDF,tvtropDF = OpenDf(PATH_IN)"
   ]
  },
  {
   "cell_type": "markdown",
   "metadata": {},
   "source": [
    "# 1. Building a ‘robot portrait’ of human beings thanks to the CMU dataset, and comparing it to reality"
   ]
  },
  {
   "cell_type": "markdown",
   "metadata": {},
   "source": [
    "# 2. Influence of movies on society, and vice-versa"
   ]
  },
  {
   "cell_type": "markdown",
   "metadata": {},
   "source": [
    "### 2 a. Adding real babies names dataset and comparing temporal frequencies between reality and fiction (consider only the 100 most famous movies)"
   ]
  },
  {
   "cell_type": "markdown",
   "metadata": {},
   "source": [
    "##### Study on the top 100 movies"
   ]
  },
  {
   "cell_type": "code",
   "execution_count": 70,
   "metadata": {},
   "outputs": [
    {
     "name": "stdout",
     "output_type": "stream",
     "text": [
      "Percentage of movie with nan in movie box office revenue: 89.72%\n",
      "Number of movie with nan in movie box office revenue: 73340 out of 81741\n"
     ]
    },
    {
     "data": {
      "text/markdown": [
       "![img/Top100movies.svg](img/Top100movies.svg)"
      ],
      "text/plain": [
       "<IPython.core.display.Markdown object>"
      ]
     },
     "execution_count": 70,
     "metadata": {},
     "output_type": "execute_result"
    }
   ],
   "source": [
    "print(\"Percentage of movie with nan in movie box office revenue: {:.2f}%\".format(movieDF[\"Movie box office revenue\"].isna().sum()/len(movieDF)*100))\n",
    "print(\"Number of movie with nan in movie box office revenue: {} out of {}\".format(movieDF[\"Movie box office revenue\"].isna().sum(),len(movieDF)))\n",
    "\n",
    "fig = go.Figure(go.Bar(\n",
    "    x=movieDF.dropna(subset=[\"Movie box office revenue\"]).sort_values(by=\"Movie box office revenue\",ascending=True).tail(100)[\"Movie box office revenue\"], \n",
    "    y=movieDF.dropna(subset=[\"Movie box office revenue\"]).sort_values(by=\"Movie box office revenue\",ascending=True).tail(100)[\"Movie name\"], \n",
    "    orientation='h',\n",
    "    text=movieDF.dropna(subset=[\"Movie box office revenue\"]).sort_values(by=\"Movie box office revenue\",ascending=True).tail(100)[\"Movie box office revenue\"],\n",
    "    textposition='outside'\n",
    "))\n",
    "\n",
    "fig.update_layout(\n",
    "    height=2000,\n",
    "    xaxis_title=\"Box Office Revenue ($)\",\n",
    "    yaxis_title=\"Movie Name\",\n",
    "    title=\"Top 100 Movies by Box Office Revenue\",\n",
    "    plot_bgcolor='rgba(0,0,0,0)'\n",
    ")\n",
    "\n",
    "save_or_show_figure(fig, \"img/Top100movies.svg\")"
   ]
  },
  {
   "cell_type": "markdown",
   "metadata": {},
   "source": [
    "Wordcloud of the top100 movie names"
   ]
  },
  {
   "cell_type": "code",
   "execution_count": 75,
   "metadata": {},
   "outputs": [
    {
     "data": {
      "image/png": "[encoded data removed]",
      "text/plain": [
       "<Figure size 800x800 with 1 Axes>"
      ]
     },
     "metadata": {},
     "output_type": "display_data"
    }
   ],
   "source": [
    "# Drop rows with missing values in the \"Movie box office revenue\" column\n",
    "movieDF_cleaned = movieDF.dropna(subset=[\"Movie box office revenue\"])\n",
    "\n",
    "# Create a dictionary with movie names as keys and their box office revenue as values\n",
    "movie_name_revenue_dict = dict(zip(movieDF_cleaned[\"Movie name\"], movieDF_cleaned[\"Movie box office revenue\"]))\n",
    "\n",
    "# Generate the word cloud from the movie names and their box office revenue\n",
    "wordcloud = WordCloud(\n",
    "    max_font_size=50,\n",
    "    background_color=\"white\",\n",
    "    colormap=\"cividis\",\n",
    ").generate_from_frequencies(movie_name_revenue_dict)\n",
    "\n",
    "# Display the word cloud\n",
    "plt.figure(figsize=(8, 8), facecolor=None)\n",
    "plt.imshow(wordcloud)\n",
    "plt.axis(\"off\")\n",
    "plt.tight_layout(pad=0)\n",
    "plt.show()"
   ]
  },
  {
   "cell_type": "markdown",
   "metadata": {},
   "source": [
    "##### Study on the characters present in the top 100 movies"
   ]
  },
  {
   "cell_type": "markdown",
   "metadata": {},
   "source": [
    "Import the babyname dataset in the US"
   ]
  },
  {
   "cell_type": "code",
   "execution_count": 76,
   "metadata": {},
   "outputs": [],
   "source": [
    "# we will extract only the characters from the top 100 movies in the dataset based movieDF[\"Movie box office revenue\"]\n",
    "top100_characters = characterDF[characterDF[\"Wikipedia movie ID\"].isin(movieDF.sort_values(by=\"Movie box office revenue\",ascending=False)[\"Wikipedia movie ID\"].head(100))]\n",
    "\n",
    "PATH_IN = './Name/'\n",
    "\n",
    "def OpenNameDf(PATH) :\n",
    "    '''\n",
    "    This function opens the dataframes stored in the file with location PATH\n",
    "    '''\n",
    "    \n",
    "    #for all file present in the folder\n",
    "    files = os.listdir(PATH)\n",
    "    baby_nameDF = pd.DataFrame()\n",
    "    \n",
    "    for file in files:\n",
    "        if file.endswith(\".txt\"):\n",
    "            name_file = os.path.join(PATH, file)\n",
    "            # name_col = [\"Firstname\",\"Sexe\",\"Number\"]\n",
    "            name_a_yearDF = pd.read_table(name_file, sep=\",\",index_col=False)\n",
    "            name_a_yearDF = name_a_yearDF.drop_duplicates()\n",
    "            name_a_yearDF = name_a_yearDF.drop(name_a_yearDF[name_a_yearDF[\"Firstname\"]==\"Firstname\"].index)\n",
    "            #add a column for the year given in the filename\n",
    "            name_a_yearDF[\"Year\"] = file.split(\".\")[0].replace(\"yob\",\"\")\n",
    "            name_a_yearDF.to_csv(os.path.join(PATH_IN, file),index=False)\n",
    "            \n",
    "            # Concatenate the new data with the existing data\n",
    "            baby_nameDF = pd.concat([baby_nameDF, name_a_yearDF])\n",
    "        \n",
    "    return baby_nameDF\n",
    "\n",
    "baby_nameDF = OpenNameDf(PATH_IN)"
   ]
  },
  {
   "cell_type": "code",
   "execution_count": 77,
   "metadata": {},
   "outputs": [
    {
     "name": "stderr",
     "output_type": "stream",
     "text": [
      "C:\\Users\\paul\\AppData\\Local\\Temp\\ipykernel_30860\\3864172068.py:22: SettingWithCopyWarning:\n",
      "\n",
      "\n",
      "A value is trying to be set on a copy of a slice from a DataFrame.\n",
      "Try using .loc[row_indexer,col_indexer] = value instead\n",
      "\n",
      "See the caveats in the documentation: https://pandas.pydata.org/pandas-docs/stable/user_guide/indexing.html#returning-a-view-versus-a-copy\n",
      "\n",
      "C:\\Users\\paul\\AppData\\Local\\Temp\\ipykernel_30860\\3864172068.py:25: SettingWithCopyWarning:\n",
      "\n",
      "\n",
      "A value is trying to be set on a copy of a slice from a DataFrame\n",
      "\n",
      "See the caveats in the documentation: https://pandas.pydata.org/pandas-docs/stable/user_guide/indexing.html#returning-a-view-versus-a-copy\n",
      "\n"
     ]
    },
    {
     "name": "stdout",
     "output_type": "stream",
     "text": [
      "Number of unique name in top100 :  830\n"
     ]
    },
    {
     "name": "stderr",
     "output_type": "stream",
     "text": [
      "C:\\Users\\paul\\AppData\\Local\\Temp\\ipykernel_30860\\3864172068.py:34: SettingWithCopyWarning:\n",
      "\n",
      "\n",
      "A value is trying to be set on a copy of a slice from a DataFrame.\n",
      "Try using .loc[row_indexer,col_indexer] = value instead\n",
      "\n",
      "See the caveats in the documentation: https://pandas.pydata.org/pandas-docs/stable/user_guide/indexing.html#returning-a-view-versus-a-copy\n",
      "\n"
     ]
    }
   ],
   "source": [
    "# Create a set of valid first names from baby_nameDF[\"Firstname\"]\n",
    "valid_firstnames = set(baby_nameDF[\"Firstname\"])\n",
    "\n",
    "# Group and aggregate the data to calculate total occurrences by name\n",
    "name_occurrences = baby_nameDF[baby_nameDF[\"Firstname\"].isin(valid_firstnames)].groupby(\"Firstname\")[\"Number\"].sum().reset_index()\n",
    "\n",
    "\n",
    "# Create a dictionary that maps first names to their total occurrences\n",
    "name_occurrences_dict = dict(zip(name_occurrences[\"Firstname\"], name_occurrences[\"Number\"]))\n",
    "\n",
    "# Define a function to extract the top firstname\n",
    "def extract_top_firstname(name):\n",
    "    if isinstance(name, str):\n",
    "        names = name.split()\n",
    "        firstnames = [n for n in names if n in valid_firstnames]\n",
    "        if firstnames:\n",
    "            top_firstname = max(firstnames, key=lambda n: name_occurrences_dict.get(n, 0))\n",
    "            return top_firstname\n",
    "    return None\n",
    "\n",
    "# Apply the function to the \"Character Name\" column\n",
    "top100_characters[\"Character firstname\"] = top100_characters[\"Character Name\"].apply(extract_top_firstname)\n",
    "\n",
    "# Drop rows where \"Character firstname\" is NaN\n",
    "top100_characters.dropna(subset=[\"Character firstname\"], inplace=True)\n",
    "\n",
    "#count number of unique name in top100\n",
    "print(\"Number of unique name in top100 : \",len(top100_characters[\"Character firstname\"].unique()))\n",
    "\n",
    "# to name_occurences, add the column \"First year appearance\"\n",
    "name_occurrences[\"First year appearance\"] = baby_nameDF[baby_nameDF[\"Firstname\"].isin(valid_firstnames)].groupby(\"Firstname\")[\"Year\"].min().reset_index()[\"Year\"]\n",
    "\n",
    "# Convert \"Movie release Date\" to a datetime object and extract the year\n",
    "top100_characters[\"Year\"] = pd.to_datetime(top100_characters[\"Movie release date\"]).dt.year"
   ]
  },
  {
   "cell_type": "markdown",
   "metadata": {},
   "source": [
    "##### Study on the babies firstname recensed in the US after their presence in a movie"
   ]
  },
  {
   "cell_type": "markdown",
   "metadata": {},
   "source": [
    "A first simple study could be to see if new firstname ermarged after the apparition of a movie. This doesn't conclude wether the movie created this firstname or not, but the event could be correlated."
   ]
  },
  {
   "cell_type": "code",
   "execution_count": 78,
   "metadata": {},
   "outputs": [
    {
     "name": "stdout",
     "output_type": "stream",
     "text": [
      "Number of names with their films where the name wasn't present before the film in name_occurrences: 84\n"
     ]
    },
    {
     "data": {
      "image/png": "[encoded data removed]",
      "text/plain": [
       "<Figure size 800x800 with 1 Axes>"
      ]
     },
     "metadata": {},
     "output_type": "display_data"
    }
   ],
   "source": [
    "# Merge the DataFrames on the \"Firstname\" column\n",
    "merged_data = top100_characters.merge(name_occurrences, left_on=\"Character firstname\", right_on=\"Firstname\", how=\"left\")\n",
    "\n",
    "# Convert the \"First year appearance\" and \"Year\" columns to integers\n",
    "merged_data[\"First year appearance\"] = merged_data[\"First year appearance\"].astype(int)\n",
    "merged_data[\"Year\"] = merged_data[\"Year\"].astype(int)\n",
    "\n",
    "# Filter the rows where \"First year appearance\" is greater than \"Year\"\n",
    "filtered_data = merged_data[merged_data[\"First year appearance\"] > merged_data[\"Year\"]]\n",
    "\n",
    "# Calculate the number of names and their films\n",
    "num_names_with_films = len(filtered_data)\n",
    "\n",
    "# Print the result\n",
    "print(\"Number of names with their films where the name wasn't present before the film in name_occurrences:\", num_names_with_films)\n",
    "\n",
    "# Generate the word cloud with a specific colormap (e.g., 'viridis')\n",
    "wordcloud = WordCloud(\n",
    "    max_font_size=50,\n",
    "    max_words=100,\n",
    "    background_color=\"white\",\n",
    "    colormap='magma'\n",
    ").generate_from_frequencies(dict(zip(filtered_data[\"Character firstname\"], filtered_data[\"Number\"])))\n",
    "\n",
    "# Display the word cloud\n",
    "plt.figure(figsize=(8, 8), facecolor=None)\n",
    "plt.imshow(wordcloud)\n",
    "plt.axis(\"off\")\n",
    "plt.tight_layout(pad=0)\n",
    "\n",
    "plt.show()"
   ]
  },
  {
   "cell_type": "markdown",
   "metadata": {},
   "source": [
    "As we can see on the worldcloud map, some names are higly likely to be created by a movie like \"Kenobi\" in Star Wars or \"Ollivander\" in Harry Potter."
   ]
  },
  {
   "cell_type": "code",
   "execution_count": 81,
   "metadata": {},
   "outputs": [],
   "source": [
    "# display the movie name linked with these name in a pandaframe by crossing Wikipedia movie ID in movieDF\n",
    "probable_newFirstnameDF = filtered_data.merge(movieDF, left_on=\"Wikipedia movie ID\", right_on=\"Wikipedia movie ID\", how=\"left\")[[\"Movie name\",\"Character firstname\"]].drop_duplicates()"
   ]
  },
  {
   "cell_type": "markdown",
   "metadata": {},
   "source": [
    "We can make a simple test if it implies that the name comes from a highest-grossing film"
   ]
  },
  {
   "cell_type": "code",
   "execution_count": 85,
   "metadata": {},
   "outputs": [
    {
     "name": "stdout",
     "output_type": "stream",
     "text": [
      "Number of names with their films where the name wasn't present before the film in name_occurrences: 50\n"
     ]
    },
    {
     "data": {
      "text/html": [
       "<div>\n",
       "<style scoped>\n",
       "    .dataframe tbody tr th:only-of-type {\n",
       "        vertical-align: middle;\n",
       "    }\n",
       "\n",
       "    .dataframe tbody tr th {\n",
       "        vertical-align: top;\n",
       "    }\n",
       "\n",
       "    .dataframe thead th {\n",
       "        text-align: right;\n",
       "    }\n",
       "</style>\n",
       "<table border=\"1\" class=\"dataframe\">\n",
       "  <thead>\n",
       "    <tr style=\"text-align: right;\">\n",
       "      <th></th>\n",
       "      <th>Wikipedia movie ID</th>\n",
       "      <th>Freebase movie ID</th>\n",
       "      <th>Movie name</th>\n",
       "      <th>Movie release date</th>\n",
       "      <th>Movie box office revenue</th>\n",
       "      <th>Movie runtime</th>\n",
       "      <th>Movie languages</th>\n",
       "      <th>Movie countries</th>\n",
       "      <th>Movie genres</th>\n",
       "    </tr>\n",
       "  </thead>\n",
       "  <tbody>\n",
       "    <tr>\n",
       "      <th>23702</th>\n",
       "      <td>4273140</td>\n",
       "      <td>/m/0bth54</td>\n",
       "      <td>Avatar</td>\n",
       "      <td>2009-12-10</td>\n",
       "      <td>2.782275e+09</td>\n",
       "      <td>178.0</td>\n",
       "      <td>{\"/m/02h40lc\": \"English Language\", \"/m/06nm1\":...</td>\n",
       "      <td>{\"/m/09c7w0\": \"United States of America\", \"/m/...</td>\n",
       "      <td>{\"/m/01jfsb\": \"Thriller\", \"/m/06n90\": \"Science...</td>\n",
       "    </tr>\n",
       "    <tr>\n",
       "      <th>22256</th>\n",
       "      <td>52371</td>\n",
       "      <td>/m/0dr_4</td>\n",
       "      <td>Titanic</td>\n",
       "      <td>1997-11-01</td>\n",
       "      <td>2.185372e+09</td>\n",
       "      <td>194.0</td>\n",
       "      <td>{\"/m/02bjrlw\": \"Italian Language\", \"/m/02h40lc...</td>\n",
       "      <td>{\"/m/09c7w0\": \"United States of America\"}</td>\n",
       "      <td>{\"/m/0fx2s\": \"Tragedy\", \"/m/04xvh5\": \"Costume ...</td>\n",
       "    </tr>\n",
       "    <tr>\n",
       "      <th>30278</th>\n",
       "      <td>31941988</td>\n",
       "      <td>/m/0gvsynb</td>\n",
       "      <td>Harry Potter and the Deathly Hallows – Part 2</td>\n",
       "      <td>2011-07-07</td>\n",
       "      <td>1.328111e+09</td>\n",
       "      <td>130.0</td>\n",
       "      <td>{\"/m/02h40lc\": \"English Language\"}</td>\n",
       "      <td>{\"/m/09c7w0\": \"United States of America\", \"/m/...</td>\n",
       "      <td>{\"/m/07s9rl0\": \"Drama\", \"/m/02n4kr\": \"Mystery\"...</td>\n",
       "    </tr>\n",
       "    <tr>\n",
       "      <th>18645</th>\n",
       "      <td>25001260</td>\n",
       "      <td>/m/0872p_c</td>\n",
       "      <td>Transformers: Dark of the Moon</td>\n",
       "      <td>2011-06-23</td>\n",
       "      <td>1.123747e+09</td>\n",
       "      <td>157.0</td>\n",
       "      <td>{\"/m/02h40lc\": \"English Language\"}</td>\n",
       "      <td>{\"/m/09c7w0\": \"United States of America\"}</td>\n",
       "      <td>{\"/m/0hj3mt0\": \"Alien Film\", \"/m/06n90\": \"Scie...</td>\n",
       "    </tr>\n",
       "    <tr>\n",
       "      <th>80920</th>\n",
       "      <td>174251</td>\n",
       "      <td>/m/017jd9</td>\n",
       "      <td>The Lord of the Rings: The Return of the King</td>\n",
       "      <td>2003-12-17</td>\n",
       "      <td>1.119930e+09</td>\n",
       "      <td>250.0</td>\n",
       "      <td>{\"/m/05p2d\": \"Old English language\", \"/m/02h40...</td>\n",
       "      <td>{\"/m/09c7w0\": \"United States of America\", \"/m/...</td>\n",
       "      <td>{\"/m/0hj3n2k\": \"Fantasy Adventure\", \"/m/03k9fj...</td>\n",
       "    </tr>\n",
       "    <tr>\n",
       "      <th>50039</th>\n",
       "      <td>50793</td>\n",
       "      <td>/m/0ddt_</td>\n",
       "      <td>Star Wars Episode I: The Phantom Menace</td>\n",
       "      <td>1999-05-19</td>\n",
       "      <td>1.027045e+09</td>\n",
       "      <td>136.0</td>\n",
       "      <td>{\"/m/02h40lc\": \"English Language\"}</td>\n",
       "      <td>{\"/m/09c7w0\": \"United States of America\"}</td>\n",
       "      <td>{\"/m/06n90\": \"Science Fiction\", \"/m/02kdv5l\": ...</td>\n",
       "    </tr>\n",
       "    <tr>\n",
       "      <th>71442</th>\n",
       "      <td>667361</td>\n",
       "      <td>/m/03176f</td>\n",
       "      <td>Harry Potter and the Philosopher's Stone</td>\n",
       "      <td>2001-11-16</td>\n",
       "      <td>9.747554e+08</td>\n",
       "      <td>153.0</td>\n",
       "      <td>{\"/m/02h40lc\": \"English Language\"}</td>\n",
       "      <td>{\"/m/09c7w0\": \"United States of America\", \"/m/...</td>\n",
       "      <td>{\"/m/0hj3n2k\": \"Fantasy Adventure\", \"/m/03k9fj...</td>\n",
       "    </tr>\n",
       "    <tr>\n",
       "      <th>59574</th>\n",
       "      <td>9834441</td>\n",
       "      <td>/m/02pth35</td>\n",
       "      <td>Harry Potter and the Deathly Hallows: Part I</td>\n",
       "      <td>2010-11-17</td>\n",
       "      <td>9.563997e+08</td>\n",
       "      <td>146.0</td>\n",
       "      <td>{\"/m/02h40lc\": \"English Language\"}</td>\n",
       "      <td>{\"/m/09c7w0\": \"United States of America\", \"/m/...</td>\n",
       "      <td>{\"/m/03k9fj\": \"Adventure\", \"/m/02n4kr\": \"Myste...</td>\n",
       "    </tr>\n",
       "    <tr>\n",
       "      <th>21432</th>\n",
       "      <td>88678</td>\n",
       "      <td>/m/0m63c</td>\n",
       "      <td>The Lion King</td>\n",
       "      <td>1994-06-15</td>\n",
       "      <td>9.515838e+08</td>\n",
       "      <td>87.0</td>\n",
       "      <td>{\"/m/0nl8g\": \"Xhosa Language\", \"/m/0gndv\": \"Zu...</td>\n",
       "      <td>{\"/m/09c7w0\": \"United States of America\"}</td>\n",
       "      <td>{\"/m/04rlf\": \"Music\", \"/m/03k9fj\": \"Adventure\"...</td>\n",
       "    </tr>\n",
       "    <tr>\n",
       "      <th>17924</th>\n",
       "      <td>670407</td>\n",
       "      <td>/m/031hcx</td>\n",
       "      <td>Harry Potter and the Order of the Phoenix</td>\n",
       "      <td>2007-06-28</td>\n",
       "      <td>9.398859e+08</td>\n",
       "      <td>137.0</td>\n",
       "      <td>{\"/m/02h40lc\": \"English Language\"}</td>\n",
       "      <td>{\"/m/09c7w0\": \"United States of America\", \"/m/...</td>\n",
       "      <td>{\"/m/02n4kr\": \"Mystery\", \"/m/0hqxf\": \"Family F...</td>\n",
       "    </tr>\n",
       "    <tr>\n",
       "      <th>7358</th>\n",
       "      <td>858575</td>\n",
       "      <td>/m/03hxsv</td>\n",
       "      <td>Harry Potter and the Half-Blood Prince</td>\n",
       "      <td>2009-07-06</td>\n",
       "      <td>9.344165e+08</td>\n",
       "      <td>153.0</td>\n",
       "      <td>{\"/m/0k0sv\": \"Croatian language\", \"/m/02h40lc\"...</td>\n",
       "      <td>{\"/m/09c7w0\": \"United States of America\", \"/m/...</td>\n",
       "      <td>{\"/m/0hj3n2k\": \"Fantasy Adventure\", \"/m/03k9fj...</td>\n",
       "    </tr>\n",
       "    <tr>\n",
       "      <th>8821</th>\n",
       "      <td>173944</td>\n",
       "      <td>/m/017gm7</td>\n",
       "      <td>The Lord of the Rings: The Two Towers</td>\n",
       "      <td>2002-12-05</td>\n",
       "      <td>9.260471e+08</td>\n",
       "      <td>179.0</td>\n",
       "      <td>{\"/m/05p2d\": \"Old English language\", \"/m/02h40...</td>\n",
       "      <td>{\"/m/09c7w0\": \"United States of America\", \"/m/...</td>\n",
       "      <td>{\"/m/0hj3n2k\": \"Fantasy Adventure\", \"/m/03k9fj...</td>\n",
       "    </tr>\n",
       "    <tr>\n",
       "      <th>13479</th>\n",
       "      <td>239587</td>\n",
       "      <td>/m/01jrbb</td>\n",
       "      <td>Finding Nemo</td>\n",
       "      <td>2003-05-30</td>\n",
       "      <td>9.211112e+08</td>\n",
       "      <td>100.0</td>\n",
       "      <td>{\"/m/02h40lc\": \"English Language\"}</td>\n",
       "      <td>{\"/m/09c7w0\": \"United States of America\", \"/m/...</td>\n",
       "      <td>{\"/m/03k9fj\": \"Adventure\", \"/m/0hj3myq\": \"Chil...</td>\n",
       "    </tr>\n",
       "    <tr>\n",
       "      <th>10820</th>\n",
       "      <td>667372</td>\n",
       "      <td>/m/031786</td>\n",
       "      <td>Harry Potter and the Goblet of Fire</td>\n",
       "      <td>2005-11-06</td>\n",
       "      <td>8.969111e+08</td>\n",
       "      <td>156.0</td>\n",
       "      <td>{\"/m/064_8sq\": \"French Language\", \"/m/02h40lc\"...</td>\n",
       "      <td>{\"/m/09c7w0\": \"United States of America\", \"/m/...</td>\n",
       "      <td>{\"/m/01jfsb\": \"Thriller\", \"/m/06n90\": \"Science...</td>\n",
       "    </tr>\n",
       "    <tr>\n",
       "      <th>41200</th>\n",
       "      <td>667368</td>\n",
       "      <td>/m/031778</td>\n",
       "      <td>Harry Potter and the Chamber of Secrets</td>\n",
       "      <td>2002-11-03</td>\n",
       "      <td>8.789796e+08</td>\n",
       "      <td>174.0</td>\n",
       "      <td>{\"/m/02h40lc\": \"English Language\"}</td>\n",
       "      <td>{\"/m/09c7w0\": \"United States of America\", \"/m/...</td>\n",
       "      <td>{\"/m/0hj3n2k\": \"Fantasy Adventure\", \"/m/03k9fj...</td>\n",
       "    </tr>\n",
       "    <tr>\n",
       "      <th>79973</th>\n",
       "      <td>173941</td>\n",
       "      <td>/m/017gl1</td>\n",
       "      <td>The Lord of the Rings: The Fellowship of the Ring</td>\n",
       "      <td>2001-12-10</td>\n",
       "      <td>8.715303e+08</td>\n",
       "      <td>178.0</td>\n",
       "      <td>{\"/m/02h40lc\": \"English Language\"}</td>\n",
       "      <td>{\"/m/09c7w0\": \"United States of America\", \"/m/...</td>\n",
       "      <td>{\"/m/0hj3n2k\": \"Fantasy Adventure\", \"/m/03k9fj...</td>\n",
       "    </tr>\n",
       "    <tr>\n",
       "      <th>62303</th>\n",
       "      <td>55447</td>\n",
       "      <td>/m/0fdv3</td>\n",
       "      <td>Star Wars Episode III: Revenge of the Sith</td>\n",
       "      <td>2005-05-15</td>\n",
       "      <td>8.487548e+08</td>\n",
       "      <td>140.0</td>\n",
       "      <td>{\"/m/02h40lc\": \"English Language\"}</td>\n",
       "      <td>{\"/m/09c7w0\": \"United States of America\"}</td>\n",
       "      <td>{\"/m/06n90\": \"Science Fiction\", \"/m/02kdv5l\": ...</td>\n",
       "    </tr>\n",
       "    <tr>\n",
       "      <th>24339</th>\n",
       "      <td>12319832</td>\n",
       "      <td>/m/047csmy</td>\n",
       "      <td>Transformers: Revenge of the Fallen</td>\n",
       "      <td>2009-06-19</td>\n",
       "      <td>8.363037e+08</td>\n",
       "      <td>150.0</td>\n",
       "      <td>{\"/m/02h40lc\": \"English Language\", \"/m/06nm1\":...</td>\n",
       "      <td>{\"/m/09c7w0\": \"United States of America\"}</td>\n",
       "      <td>{\"/m/01jfsb\": \"Thriller\", \"/m/06n90\": \"Science...</td>\n",
       "    </tr>\n",
       "    <tr>\n",
       "      <th>60260</th>\n",
       "      <td>23270459</td>\n",
       "      <td>/m/0661ql3</td>\n",
       "      <td>Inception</td>\n",
       "      <td>2010-07-08</td>\n",
       "      <td>8.255328e+08</td>\n",
       "      <td>148.0</td>\n",
       "      <td>{\"/m/064_8sq\": \"French Language\", \"/m/03_9r\": ...</td>\n",
       "      <td>{\"/m/09c7w0\": \"United States of America\", \"/m/...</td>\n",
       "      <td>{\"/m/01jfsb\": \"Thriller\", \"/m/06n90\": \"Science...</td>\n",
       "    </tr>\n",
       "    <tr>\n",
       "      <th>3035</th>\n",
       "      <td>146947</td>\n",
       "      <td>/m/012s1d</td>\n",
       "      <td>Spider-Man</td>\n",
       "      <td>2002-05-03</td>\n",
       "      <td>8.217086e+08</td>\n",
       "      <td>121.0</td>\n",
       "      <td>{\"/m/02h40lc\": \"English Language\"}</td>\n",
       "      <td>{\"/m/09c7w0\": \"United States of America\"}</td>\n",
       "      <td>{\"/m/03k9fj\": \"Adventure\", \"/m/04pbhw\": \"Super...</td>\n",
       "    </tr>\n",
       "    <tr>\n",
       "      <th>41251</th>\n",
       "      <td>667371</td>\n",
       "      <td>/m/03177r</td>\n",
       "      <td>Harry Potter and the Prisoner of Azkaban</td>\n",
       "      <td>2004-06-04</td>\n",
       "      <td>7.966885e+08</td>\n",
       "      <td>141.0</td>\n",
       "      <td>{\"/m/02h40lc\": \"English Language\"}</td>\n",
       "      <td>{\"/m/09c7w0\": \"United States of America\", \"/m/...</td>\n",
       "      <td>{\"/m/0hj3n2k\": \"Fantasy Adventure\", \"/m/03k9fj...</td>\n",
       "    </tr>\n",
       "    <tr>\n",
       "      <th>57552</th>\n",
       "      <td>73441</td>\n",
       "      <td>/m/0jqn5</td>\n",
       "      <td>E.T. the Extra-Terrestrial</td>\n",
       "      <td>1982-05-26</td>\n",
       "      <td>7.929106e+08</td>\n",
       "      <td>120.0</td>\n",
       "      <td>{\"/m/02h40lc\": \"English Language\"}</td>\n",
       "      <td>{\"/m/09c7w0\": \"United States of America\"}</td>\n",
       "      <td>{\"/m/06n90\": \"Science Fiction\", \"/m/03k9fj\": \"...</td>\n",
       "    </tr>\n",
       "    <tr>\n",
       "      <th>33405</th>\n",
       "      <td>1252914</td>\n",
       "      <td>/m/04mcw4</td>\n",
       "      <td>Indiana Jones and the Kingdom of the Crystal S...</td>\n",
       "      <td>2008-05-22</td>\n",
       "      <td>7.866360e+08</td>\n",
       "      <td>121.0</td>\n",
       "      <td>{\"/m/02h40lc\": \"English Language\", \"/m/06b_j\":...</td>\n",
       "      <td>{\"/m/09c7w0\": \"United States of America\"}</td>\n",
       "      <td>{\"/m/01jfsb\": \"Thriller\", \"/m/03k9fj\": \"Advent...</td>\n",
       "    </tr>\n",
       "    <tr>\n",
       "      <th>14453</th>\n",
       "      <td>612052</td>\n",
       "      <td>/m/02wgk1</td>\n",
       "      <td>Spider-Man 2</td>\n",
       "      <td>2004-06-25</td>\n",
       "      <td>7.837663e+08</td>\n",
       "      <td>127.0</td>\n",
       "      <td>{\"/m/01r2l\": \"Chinese language\", \"/m/02h40lc\":...</td>\n",
       "      <td>{\"/m/09c7w0\": \"United States of America\"}</td>\n",
       "      <td>{\"/m/01jfsb\": \"Thriller\", \"/m/06n90\": \"Science...</td>\n",
       "    </tr>\n",
       "    <tr>\n",
       "      <th>80800</th>\n",
       "      <td>52549</td>\n",
       "      <td>/m/0dtfn</td>\n",
       "      <td>Star Wars Episode IV: A New Hope</td>\n",
       "      <td>1977-05-25</td>\n",
       "      <td>7.753980e+08</td>\n",
       "      <td>122.0</td>\n",
       "      <td>{\"/m/02h40lc\": \"English Language\"}</td>\n",
       "      <td>{\"/m/09c7w0\": \"United States of America\"}</td>\n",
       "      <td>{\"/m/06n90\": \"Science Fiction\", \"/m/03k9fj\": \"...</td>\n",
       "    </tr>\n",
       "    <tr>\n",
       "      <th>49438</th>\n",
       "      <td>27193568</td>\n",
       "      <td>/m/02qydsh</td>\n",
       "      <td>Shrek Forever After</td>\n",
       "      <td>2010-04-21</td>\n",
       "      <td>7.526009e+08</td>\n",
       "      <td>93.0</td>\n",
       "      <td>{\"/m/02h40lc\": \"English Language\"}</td>\n",
       "      <td>{\"/m/09c7w0\": \"United States of America\"}</td>\n",
       "      <td>{\"/m/0hj3n2s\": \"Fantasy Comedy\", \"/m/03k9fj\": ...</td>\n",
       "    </tr>\n",
       "    <tr>\n",
       "      <th>35156</th>\n",
       "      <td>123417</td>\n",
       "      <td>/m/0x25q</td>\n",
       "      <td>The Matrix Reloaded</td>\n",
       "      <td>2003-05-07</td>\n",
       "      <td>7.421285e+08</td>\n",
       "      <td>138.0</td>\n",
       "      <td>{\"/m/064_8sq\": \"French Language\", \"/m/02h40lc\"...</td>\n",
       "      <td>{\"/m/09c7w0\": \"United States of America\", \"/m/...</td>\n",
       "      <td>{\"/m/03btsm8\": \"Action/Adventure\", \"/m/01jfsb\"...</td>\n",
       "    </tr>\n",
       "    <tr>\n",
       "      <th>49114</th>\n",
       "      <td>2236472</td>\n",
       "      <td>/m/05zlld0</td>\n",
       "      <td>Transformers</td>\n",
       "      <td>2007-06-12</td>\n",
       "      <td>7.097098e+08</td>\n",
       "      <td>144.0</td>\n",
       "      <td>{\"/m/02h40lc\": \"English Language\", \"/m/06nm1\":...</td>\n",
       "      <td>{\"/m/09c7w0\": \"United States of America\"}</td>\n",
       "      <td>{\"/m/01jfsb\": \"Thriller\", \"/m/06n90\": \"Science...</td>\n",
       "    </tr>\n",
       "    <tr>\n",
       "      <th>40199</th>\n",
       "      <td>21678052</td>\n",
       "      <td>/m/075wx7_</td>\n",
       "      <td>Eclipse</td>\n",
       "      <td>2010-06-24</td>\n",
       "      <td>6.984913e+08</td>\n",
       "      <td>124.0</td>\n",
       "      <td>{\"/m/02h40lc\": \"English Language\"}</td>\n",
       "      <td>{\"/m/09c7w0\": \"United States of America\"}</td>\n",
       "      <td>{\"/m/01jfsb\": \"Thriller\", \"/m/06n90\": \"Science...</td>\n",
       "    </tr>\n",
       "    <tr>\n",
       "      <th>78373</th>\n",
       "      <td>31186339</td>\n",
       "      <td>/m/0gkz15s</td>\n",
       "      <td>The Hunger Games</td>\n",
       "      <td>2012-03-12</td>\n",
       "      <td>6.865333e+08</td>\n",
       "      <td>142.0</td>\n",
       "      <td>{\"/m/02h40lc\": \"English Language\"}</td>\n",
       "      <td>{\"/m/09c7w0\": \"United States of America\"}</td>\n",
       "      <td>{\"/m/03btsm8\": \"Action/Adventure\", \"/m/06n90\":...</td>\n",
       "    </tr>\n",
       "    <tr>\n",
       "      <th>65287</th>\n",
       "      <td>41528</td>\n",
       "      <td>/m/0bdjd</td>\n",
       "      <td>Forrest Gump</td>\n",
       "      <td>1994-06-23</td>\n",
       "      <td>6.773877e+08</td>\n",
       "      <td>136.0</td>\n",
       "      <td>{\"/m/02h40lc\": \"English Language\"}</td>\n",
       "      <td>{\"/m/09c7w0\": \"United States of America\"}</td>\n",
       "      <td>{\"/m/01j1n2\": \"Coming of age\", \"/m/05p553\": \"C...</td>\n",
       "    </tr>\n",
       "    <tr>\n",
       "      <th>81225</th>\n",
       "      <td>2303174</td>\n",
       "      <td>/m/0729rh</td>\n",
       "      <td>Ice Age: The Meltdown</td>\n",
       "      <td>2006-03-01</td>\n",
       "      <td>6.553882e+08</td>\n",
       "      <td>90.0</td>\n",
       "      <td>{\"/m/02h40lc\": \"English Language\"}</td>\n",
       "      <td>{\"/m/09c7w0\": \"United States of America\"}</td>\n",
       "      <td>{\"/m/03k9fj\": \"Adventure\", \"/m/0hj3myq\": \"Chil...</td>\n",
       "    </tr>\n",
       "    <tr>\n",
       "      <th>5955</th>\n",
       "      <td>50957</td>\n",
       "      <td>/m/0dfw0</td>\n",
       "      <td>Star Wars Episode II: Attack of the Clones</td>\n",
       "      <td>2002-05-16</td>\n",
       "      <td>6.493983e+08</td>\n",
       "      <td>142.0</td>\n",
       "      <td>{\"/m/02h40lc\": \"English Language\"}</td>\n",
       "      <td>{\"/m/09c7w0\": \"United States of America\"}</td>\n",
       "      <td>{\"/m/06n90\": \"Science Fiction\", \"/m/03k9fj\": \"...</td>\n",
       "    </tr>\n",
       "    <tr>\n",
       "      <th>64107</th>\n",
       "      <td>28085067</td>\n",
       "      <td>/m/0bq6ntw</td>\n",
       "      <td>Fast Five</td>\n",
       "      <td>2011-04-15</td>\n",
       "      <td>6.261000e+08</td>\n",
       "      <td>130.0</td>\n",
       "      <td>{\"/m/05zjd\": \"Portuguese Language\", \"/m/02h40l...</td>\n",
       "      <td>{\"/m/09c7w0\": \"United States of America\"}</td>\n",
       "      <td>{\"/m/01jfsb\": \"Thriller\", \"/m/0lsxr\": \"Crime F...</td>\n",
       "    </tr>\n",
       "    <tr>\n",
       "      <th>81055</th>\n",
       "      <td>20926377</td>\n",
       "      <td>/m/02vrgnr</td>\n",
       "      <td>Hancock</td>\n",
       "      <td>2008-07-02</td>\n",
       "      <td>6.243867e+08</td>\n",
       "      <td>102.0</td>\n",
       "      <td>{\"/m/03_9r\": \"Japanese Language\", \"/m/02h40lc\"...</td>\n",
       "      <td>{\"/m/09c7w0\": \"United States of America\"}</td>\n",
       "      <td>{\"/m/0lsxr\": \"Crime Fiction\", \"/m/06n90\": \"Sci...</td>\n",
       "    </tr>\n",
       "    <tr>\n",
       "      <th>15058</th>\n",
       "      <td>535335</td>\n",
       "      <td>/m/02mmwk</td>\n",
       "      <td>War of the Worlds</td>\n",
       "      <td>2005-06-13</td>\n",
       "      <td>5.917456e+08</td>\n",
       "      <td>112.0</td>\n",
       "      <td>{\"/m/02h40lc\": \"English Language\"}</td>\n",
       "      <td>{\"/m/09c7w0\": \"United States of America\"}</td>\n",
       "      <td>{\"/m/01jfsb\": \"Thriller\", \"/m/06n90\": \"Science...</td>\n",
       "    </tr>\n",
       "    <tr>\n",
       "      <th>23547</th>\n",
       "      <td>4167411</td>\n",
       "      <td>/m/0bmssv</td>\n",
       "      <td>Night at the Museum</td>\n",
       "      <td>2006-12-17</td>\n",
       "      <td>5.744808e+08</td>\n",
       "      <td>108.0</td>\n",
       "      <td>{\"/m/02bjrlw\": \"Italian Language\", \"/m/03hkp\":...</td>\n",
       "      <td>{\"/m/09c7w0\": \"United States of America\", \"/m/...</td>\n",
       "      <td>{\"/m/0hj3n2k\": \"Fantasy Adventure\", \"/m/03k9fj...</td>\n",
       "    </tr>\n",
       "    <tr>\n",
       "      <th>58885</th>\n",
       "      <td>16839388</td>\n",
       "      <td>/m/0407yj_</td>\n",
       "      <td>Cars 2</td>\n",
       "      <td>2011-06-18</td>\n",
       "      <td>5.598524e+08</td>\n",
       "      <td>106.0</td>\n",
       "      <td>{\"/m/064_8sq\": \"French Language\", \"/m/03_9r\": ...</td>\n",
       "      <td>{\"/m/09c7w0\": \"United States of America\"}</td>\n",
       "      <td>{\"/m/03k9fj\": \"Adventure\", \"/m/0hj3myq\": \"Chil...</td>\n",
       "    </tr>\n",
       "    <tr>\n",
       "      <th>48033</th>\n",
       "      <td>52390</td>\n",
       "      <td>/m/0ds33</td>\n",
       "      <td>Armageddon</td>\n",
       "      <td>1998-06-30</td>\n",
       "      <td>5.537098e+08</td>\n",
       "      <td>150.0</td>\n",
       "      <td>{\"/m/02h40lc\": \"English Language\", \"/m/06b_j\":...</td>\n",
       "      <td>{\"/m/09c7w0\": \"United States of America\"}</td>\n",
       "      <td>{\"/m/01jfsb\": \"Thriller\", \"/m/01drsx\": \"Disast...</td>\n",
       "    </tr>\n",
       "    <tr>\n",
       "      <th>55873</th>\n",
       "      <td>53964</td>\n",
       "      <td>/m/0f3m1</td>\n",
       "      <td>Star Wars Episode V: The Empire Strikes Back</td>\n",
       "      <td>1980-05-21</td>\n",
       "      <td>5.383751e+08</td>\n",
       "      <td>124.0</td>\n",
       "      <td>{\"/m/02h40lc\": \"English Language\"}</td>\n",
       "      <td>{\"/m/09c7w0\": \"United States of America\"}</td>\n",
       "      <td>{\"/m/06n90\": \"Science Fiction\", \"/m/03k9fj\": \"...</td>\n",
       "    </tr>\n",
       "    <tr>\n",
       "      <th>37149</th>\n",
       "      <td>73170</td>\n",
       "      <td>/m/0jnwx</td>\n",
       "      <td>Aladdin</td>\n",
       "      <td>1992-11-11</td>\n",
       "      <td>5.040502e+08</td>\n",
       "      <td>90.0</td>\n",
       "      <td>{\"/m/02h40lc\": \"English Language\"}</td>\n",
       "      <td>{\"/m/09c7w0\": \"United States of America\"}</td>\n",
       "      <td>{\"/m/03k9fj\": \"Adventure\", \"/m/04xvh5\": \"Costu...</td>\n",
       "    </tr>\n",
       "    <tr>\n",
       "      <th>5359</th>\n",
       "      <td>323715</td>\n",
       "      <td>/m/01vw8k</td>\n",
       "      <td>Troy</td>\n",
       "      <td>2004-05-13</td>\n",
       "      <td>4.974099e+08</td>\n",
       "      <td>86.0</td>\n",
       "      <td>{\"/m/02h40lc\": \"English Language\"}</td>\n",
       "      <td>{\"/m/09c7w0\": \"United States of America\", \"/m/...</td>\n",
       "      <td>{\"/m/01lmb_\": \"Sword and Sandal\", \"/m/03k9fj\":...</td>\n",
       "    </tr>\n",
       "    <tr>\n",
       "      <th>80003</th>\n",
       "      <td>1203778</td>\n",
       "      <td>/m/04h14p</td>\n",
       "      <td>Titanic</td>\n",
       "      <td>1953-04-16</td>\n",
       "      <td>2.250000e+06</td>\n",
       "      <td>103.0</td>\n",
       "      <td>{\"/m/02h40lc\": \"English Language\"}</td>\n",
       "      <td>{\"/m/09c7w0\": \"United States of America\"}</td>\n",
       "      <td>{\"/m/01g6gs\": \"Black-and-white\", \"/m/03btsm8\":...</td>\n",
       "    </tr>\n",
       "    <tr>\n",
       "      <th>15526</th>\n",
       "      <td>2052143</td>\n",
       "      <td>/m/06hqw7</td>\n",
       "      <td>Titanic</td>\n",
       "      <td>1943-11-10</td>\n",
       "      <td>NaN</td>\n",
       "      <td>85.0</td>\n",
       "      <td>{\"/m/04306rv\": \"German Language\"}</td>\n",
       "      <td>{\"/m/0345h\": \"Germany\"}</td>\n",
       "      <td>{\"/m/01drsx\": \"Disaster\", \"/m/05swd\": \"Propaga...</td>\n",
       "    </tr>\n",
       "    <tr>\n",
       "      <th>37789</th>\n",
       "      <td>29448256</td>\n",
       "      <td>/m/0dr_b26</td>\n",
       "      <td>Avatar</td>\n",
       "      <td>NaN</td>\n",
       "      <td>NaN</td>\n",
       "      <td>NaN</td>\n",
       "      <td>{}</td>\n",
       "      <td>{}</td>\n",
       "      <td>{\"/m/06ppq\": \"Silent film\"}</td>\n",
       "    </tr>\n",
       "    <tr>\n",
       "      <th>52274</th>\n",
       "      <td>15945267</td>\n",
       "      <td>/m/03qhwlm</td>\n",
       "      <td>Avatar</td>\n",
       "      <td>2004</td>\n",
       "      <td>NaN</td>\n",
       "      <td>90.0</td>\n",
       "      <td>{\"/m/02h40lc\": \"English Language\"}</td>\n",
       "      <td>{\"/m/06t2t\": \"Singapore\"}</td>\n",
       "      <td>{\"/m/01jfsb\": \"Thriller\", \"/m/06n90\": \"Science...</td>\n",
       "    </tr>\n",
       "    <tr>\n",
       "      <th>52694</th>\n",
       "      <td>5587473</td>\n",
       "      <td>/m/0dtyh9</td>\n",
       "      <td>Aladdin</td>\n",
       "      <td>1994</td>\n",
       "      <td>NaN</td>\n",
       "      <td>49.0</td>\n",
       "      <td>{\"/m/02h40lc\": \"English Language\"}</td>\n",
       "      <td>{\"/m/09c7w0\": \"United States of America\", \"/m/...</td>\n",
       "      <td>{\"/m/0hqxf\": \"Family Film\", \"/m/0gw5n2f\": \"Jap...</td>\n",
       "    </tr>\n",
       "    <tr>\n",
       "      <th>63986</th>\n",
       "      <td>1742101</td>\n",
       "      <td>/m/05sgqr</td>\n",
       "      <td>Titanic</td>\n",
       "      <td>1996-11-17</td>\n",
       "      <td>NaN</td>\n",
       "      <td>173.0</td>\n",
       "      <td>{\"/m/02h40lc\": \"English Language\"}</td>\n",
       "      <td>{\"/m/09c7w0\": \"United States of America\", \"/m/...</td>\n",
       "      <td>{\"/m/01drsx\": \"Disaster\", \"/m/04xvh5\": \"Costum...</td>\n",
       "    </tr>\n",
       "    <tr>\n",
       "      <th>70141</th>\n",
       "      <td>6159020</td>\n",
       "      <td>/m/0ft99m</td>\n",
       "      <td>Armageddon</td>\n",
       "      <td>1997</td>\n",
       "      <td>NaN</td>\n",
       "      <td>117.0</td>\n",
       "      <td>{\"/m/0653m\": \"Standard Mandarin\", \"/m/012w70\":...</td>\n",
       "      <td>{\"/m/03h64\": \"Hong Kong\"}</td>\n",
       "      <td>{\"/m/03btsm8\": \"Action/Adventure\", \"/m/01hmnh\"...</td>\n",
       "    </tr>\n",
       "    <tr>\n",
       "      <th>70390</th>\n",
       "      <td>21564646</td>\n",
       "      <td>/m/05h2tj8</td>\n",
       "      <td>Eclipse</td>\n",
       "      <td>1994</td>\n",
       "      <td>NaN</td>\n",
       "      <td>97.0</td>\n",
       "      <td>{\"/m/02h40lc\": \"English Language\"}</td>\n",
       "      <td>{\"/m/0d060g\": \"Canada\", \"/m/0345h\": \"Germany\"}</td>\n",
       "      <td>{\"/m/02l7c8\": \"Romance Film\", \"/m/07s9rl0\": \"D...</td>\n",
       "    </tr>\n",
       "  </tbody>\n",
       "</table>\n",
       "</div>"
      ],
      "text/plain": [
       "       Wikipedia movie ID Freebase movie ID  \\\n",
       "23702             4273140         /m/0bth54   \n",
       "22256               52371          /m/0dr_4   \n",
       "30278            31941988        /m/0gvsynb   \n",
       "18645            25001260        /m/0872p_c   \n",
       "80920              174251         /m/017jd9   \n",
       "50039               50793          /m/0ddt_   \n",
       "71442              667361         /m/03176f   \n",
       "59574             9834441        /m/02pth35   \n",
       "21432               88678          /m/0m63c   \n",
       "17924              670407         /m/031hcx   \n",
       "7358               858575         /m/03hxsv   \n",
       "8821               173944         /m/017gm7   \n",
       "13479              239587         /m/01jrbb   \n",
       "10820              667372         /m/031786   \n",
       "41200              667368         /m/031778   \n",
       "79973              173941         /m/017gl1   \n",
       "62303               55447          /m/0fdv3   \n",
       "24339            12319832        /m/047csmy   \n",
       "60260            23270459        /m/0661ql3   \n",
       "3035               146947         /m/012s1d   \n",
       "41251              667371         /m/03177r   \n",
       "57552               73441          /m/0jqn5   \n",
       "33405             1252914         /m/04mcw4   \n",
       "14453              612052         /m/02wgk1   \n",
       "80800               52549          /m/0dtfn   \n",
       "49438            27193568        /m/02qydsh   \n",
       "35156              123417          /m/0x25q   \n",
       "49114             2236472        /m/05zlld0   \n",
       "40199            21678052        /m/075wx7_   \n",
       "78373            31186339        /m/0gkz15s   \n",
       "65287               41528          /m/0bdjd   \n",
       "81225             2303174         /m/0729rh   \n",
       "5955                50957          /m/0dfw0   \n",
       "64107            28085067        /m/0bq6ntw   \n",
       "81055            20926377        /m/02vrgnr   \n",
       "15058              535335         /m/02mmwk   \n",
       "23547             4167411         /m/0bmssv   \n",
       "58885            16839388        /m/0407yj_   \n",
       "48033               52390          /m/0ds33   \n",
       "55873               53964          /m/0f3m1   \n",
       "37149               73170          /m/0jnwx   \n",
       "5359               323715         /m/01vw8k   \n",
       "80003             1203778         /m/04h14p   \n",
       "15526             2052143         /m/06hqw7   \n",
       "37789            29448256        /m/0dr_b26   \n",
       "52274            15945267        /m/03qhwlm   \n",
       "52694             5587473         /m/0dtyh9   \n",
       "63986             1742101         /m/05sgqr   \n",
       "70141             6159020         /m/0ft99m   \n",
       "70390            21564646        /m/05h2tj8   \n",
       "\n",
       "                                              Movie name Movie release date  \\\n",
       "23702                                             Avatar         2009-12-10   \n",
       "22256                                            Titanic         1997-11-01   \n",
       "30278      Harry Potter and the Deathly Hallows – Part 2         2011-07-07   \n",
       "18645                     Transformers: Dark of the Moon         2011-06-23   \n",
       "80920      The Lord of the Rings: The Return of the King         2003-12-17   \n",
       "50039            Star Wars Episode I: The Phantom Menace         1999-05-19   \n",
       "71442           Harry Potter and the Philosopher's Stone         2001-11-16   \n",
       "59574       Harry Potter and the Deathly Hallows: Part I         2010-11-17   \n",
       "21432                                      The Lion King         1994-06-15   \n",
       "17924          Harry Potter and the Order of the Phoenix         2007-06-28   \n",
       "7358              Harry Potter and the Half-Blood Prince         2009-07-06   \n",
       "8821               The Lord of the Rings: The Two Towers         2002-12-05   \n",
       "13479                                       Finding Nemo         2003-05-30   \n",
       "10820                Harry Potter and the Goblet of Fire         2005-11-06   \n",
       "41200            Harry Potter and the Chamber of Secrets         2002-11-03   \n",
       "79973  The Lord of the Rings: The Fellowship of the Ring         2001-12-10   \n",
       "62303         Star Wars Episode III: Revenge of the Sith         2005-05-15   \n",
       "24339                Transformers: Revenge of the Fallen         2009-06-19   \n",
       "60260                                          Inception         2010-07-08   \n",
       "3035                                          Spider-Man         2002-05-03   \n",
       "41251           Harry Potter and the Prisoner of Azkaban         2004-06-04   \n",
       "57552                         E.T. the Extra-Terrestrial         1982-05-26   \n",
       "33405  Indiana Jones and the Kingdom of the Crystal S...         2008-05-22   \n",
       "14453                                       Spider-Man 2         2004-06-25   \n",
       "80800                   Star Wars Episode IV: A New Hope         1977-05-25   \n",
       "49438                                Shrek Forever After         2010-04-21   \n",
       "35156                                The Matrix Reloaded         2003-05-07   \n",
       "49114                                       Transformers         2007-06-12   \n",
       "40199                                            Eclipse         2010-06-24   \n",
       "78373                                   The Hunger Games         2012-03-12   \n",
       "65287                                       Forrest Gump         1994-06-23   \n",
       "81225                              Ice Age: The Meltdown         2006-03-01   \n",
       "5955          Star Wars Episode II: Attack of the Clones         2002-05-16   \n",
       "64107                                          Fast Five         2011-04-15   \n",
       "81055                                            Hancock         2008-07-02   \n",
       "15058                                  War of the Worlds         2005-06-13   \n",
       "23547                                Night at the Museum         2006-12-17   \n",
       "58885                                             Cars 2         2011-06-18   \n",
       "48033                                         Armageddon         1998-06-30   \n",
       "55873       Star Wars Episode V: The Empire Strikes Back         1980-05-21   \n",
       "37149                                            Aladdin         1992-11-11   \n",
       "5359                                                Troy         2004-05-13   \n",
       "80003                                            Titanic         1953-04-16   \n",
       "15526                                            Titanic         1943-11-10   \n",
       "37789                                             Avatar                NaN   \n",
       "52274                                             Avatar               2004   \n",
       "52694                                            Aladdin               1994   \n",
       "63986                                            Titanic         1996-11-17   \n",
       "70141                                         Armageddon               1997   \n",
       "70390                                            Eclipse               1994   \n",
       "\n",
       "       Movie box office revenue  Movie runtime  \\\n",
       "23702              2.782275e+09          178.0   \n",
       "22256              2.185372e+09          194.0   \n",
       "30278              1.328111e+09          130.0   \n",
       "18645              1.123747e+09          157.0   \n",
       "80920              1.119930e+09          250.0   \n",
       "50039              1.027045e+09          136.0   \n",
       "71442              9.747554e+08          153.0   \n",
       "59574              9.563997e+08          146.0   \n",
       "21432              9.515838e+08           87.0   \n",
       "17924              9.398859e+08          137.0   \n",
       "7358               9.344165e+08          153.0   \n",
       "8821               9.260471e+08          179.0   \n",
       "13479              9.211112e+08          100.0   \n",
       "10820              8.969111e+08          156.0   \n",
       "41200              8.789796e+08          174.0   \n",
       "79973              8.715303e+08          178.0   \n",
       "62303              8.487548e+08          140.0   \n",
       "24339              8.363037e+08          150.0   \n",
       "60260              8.255328e+08          148.0   \n",
       "3035               8.217086e+08          121.0   \n",
       "41251              7.966885e+08          141.0   \n",
       "57552              7.929106e+08          120.0   \n",
       "33405              7.866360e+08          121.0   \n",
       "14453              7.837663e+08          127.0   \n",
       "80800              7.753980e+08          122.0   \n",
       "49438              7.526009e+08           93.0   \n",
       "35156              7.421285e+08          138.0   \n",
       "49114              7.097098e+08          144.0   \n",
       "40199              6.984913e+08          124.0   \n",
       "78373              6.865333e+08          142.0   \n",
       "65287              6.773877e+08          136.0   \n",
       "81225              6.553882e+08           90.0   \n",
       "5955               6.493983e+08          142.0   \n",
       "64107              6.261000e+08          130.0   \n",
       "81055              6.243867e+08          102.0   \n",
       "15058              5.917456e+08          112.0   \n",
       "23547              5.744808e+08          108.0   \n",
       "58885              5.598524e+08          106.0   \n",
       "48033              5.537098e+08          150.0   \n",
       "55873              5.383751e+08          124.0   \n",
       "37149              5.040502e+08           90.0   \n",
       "5359               4.974099e+08           86.0   \n",
       "80003              2.250000e+06          103.0   \n",
       "15526                       NaN           85.0   \n",
       "37789                       NaN            NaN   \n",
       "52274                       NaN           90.0   \n",
       "52694                       NaN           49.0   \n",
       "63986                       NaN          173.0   \n",
       "70141                       NaN          117.0   \n",
       "70390                       NaN           97.0   \n",
       "\n",
       "                                         Movie languages  \\\n",
       "23702  {\"/m/02h40lc\": \"English Language\", \"/m/06nm1\":...   \n",
       "22256  {\"/m/02bjrlw\": \"Italian Language\", \"/m/02h40lc...   \n",
       "30278                 {\"/m/02h40lc\": \"English Language\"}   \n",
       "18645                 {\"/m/02h40lc\": \"English Language\"}   \n",
       "80920  {\"/m/05p2d\": \"Old English language\", \"/m/02h40...   \n",
       "50039                 {\"/m/02h40lc\": \"English Language\"}   \n",
       "71442                 {\"/m/02h40lc\": \"English Language\"}   \n",
       "59574                 {\"/m/02h40lc\": \"English Language\"}   \n",
       "21432  {\"/m/0nl8g\": \"Xhosa Language\", \"/m/0gndv\": \"Zu...   \n",
       "17924                 {\"/m/02h40lc\": \"English Language\"}   \n",
       "7358   {\"/m/0k0sv\": \"Croatian language\", \"/m/02h40lc\"...   \n",
       "8821   {\"/m/05p2d\": \"Old English language\", \"/m/02h40...   \n",
       "13479                 {\"/m/02h40lc\": \"English Language\"}   \n",
       "10820  {\"/m/064_8sq\": \"French Language\", \"/m/02h40lc\"...   \n",
       "41200                 {\"/m/02h40lc\": \"English Language\"}   \n",
       "79973                 {\"/m/02h40lc\": \"English Language\"}   \n",
       "62303                 {\"/m/02h40lc\": \"English Language\"}   \n",
       "24339  {\"/m/02h40lc\": \"English Language\", \"/m/06nm1\":...   \n",
       "60260  {\"/m/064_8sq\": \"French Language\", \"/m/03_9r\": ...   \n",
       "3035                  {\"/m/02h40lc\": \"English Language\"}   \n",
       "41251                 {\"/m/02h40lc\": \"English Language\"}   \n",
       "57552                 {\"/m/02h40lc\": \"English Language\"}   \n",
       "33405  {\"/m/02h40lc\": \"English Language\", \"/m/06b_j\":...   \n",
       "14453  {\"/m/01r2l\": \"Chinese language\", \"/m/02h40lc\":...   \n",
       "80800                 {\"/m/02h40lc\": \"English Language\"}   \n",
       "49438                 {\"/m/02h40lc\": \"English Language\"}   \n",
       "35156  {\"/m/064_8sq\": \"French Language\", \"/m/02h40lc\"...   \n",
       "49114  {\"/m/02h40lc\": \"English Language\", \"/m/06nm1\":...   \n",
       "40199                 {\"/m/02h40lc\": \"English Language\"}   \n",
       "78373                 {\"/m/02h40lc\": \"English Language\"}   \n",
       "65287                 {\"/m/02h40lc\": \"English Language\"}   \n",
       "81225                 {\"/m/02h40lc\": \"English Language\"}   \n",
       "5955                  {\"/m/02h40lc\": \"English Language\"}   \n",
       "64107  {\"/m/05zjd\": \"Portuguese Language\", \"/m/02h40l...   \n",
       "81055  {\"/m/03_9r\": \"Japanese Language\", \"/m/02h40lc\"...   \n",
       "15058                 {\"/m/02h40lc\": \"English Language\"}   \n",
       "23547  {\"/m/02bjrlw\": \"Italian Language\", \"/m/03hkp\":...   \n",
       "58885  {\"/m/064_8sq\": \"French Language\", \"/m/03_9r\": ...   \n",
       "48033  {\"/m/02h40lc\": \"English Language\", \"/m/06b_j\":...   \n",
       "55873                 {\"/m/02h40lc\": \"English Language\"}   \n",
       "37149                 {\"/m/02h40lc\": \"English Language\"}   \n",
       "5359                  {\"/m/02h40lc\": \"English Language\"}   \n",
       "80003                 {\"/m/02h40lc\": \"English Language\"}   \n",
       "15526                  {\"/m/04306rv\": \"German Language\"}   \n",
       "37789                                                 {}   \n",
       "52274                 {\"/m/02h40lc\": \"English Language\"}   \n",
       "52694                 {\"/m/02h40lc\": \"English Language\"}   \n",
       "63986                 {\"/m/02h40lc\": \"English Language\"}   \n",
       "70141  {\"/m/0653m\": \"Standard Mandarin\", \"/m/012w70\":...   \n",
       "70390                 {\"/m/02h40lc\": \"English Language\"}   \n",
       "\n",
       "                                         Movie countries  \\\n",
       "23702  {\"/m/09c7w0\": \"United States of America\", \"/m/...   \n",
       "22256          {\"/m/09c7w0\": \"United States of America\"}   \n",
       "30278  {\"/m/09c7w0\": \"United States of America\", \"/m/...   \n",
       "18645          {\"/m/09c7w0\": \"United States of America\"}   \n",
       "80920  {\"/m/09c7w0\": \"United States of America\", \"/m/...   \n",
       "50039          {\"/m/09c7w0\": \"United States of America\"}   \n",
       "71442  {\"/m/09c7w0\": \"United States of America\", \"/m/...   \n",
       "59574  {\"/m/09c7w0\": \"United States of America\", \"/m/...   \n",
       "21432          {\"/m/09c7w0\": \"United States of America\"}   \n",
       "17924  {\"/m/09c7w0\": \"United States of America\", \"/m/...   \n",
       "7358   {\"/m/09c7w0\": \"United States of America\", \"/m/...   \n",
       "8821   {\"/m/09c7w0\": \"United States of America\", \"/m/...   \n",
       "13479  {\"/m/09c7w0\": \"United States of America\", \"/m/...   \n",
       "10820  {\"/m/09c7w0\": \"United States of America\", \"/m/...   \n",
       "41200  {\"/m/09c7w0\": \"United States of America\", \"/m/...   \n",
       "79973  {\"/m/09c7w0\": \"United States of America\", \"/m/...   \n",
       "62303          {\"/m/09c7w0\": \"United States of America\"}   \n",
       "24339          {\"/m/09c7w0\": \"United States of America\"}   \n",
       "60260  {\"/m/09c7w0\": \"United States of America\", \"/m/...   \n",
       "3035           {\"/m/09c7w0\": \"United States of America\"}   \n",
       "41251  {\"/m/09c7w0\": \"United States of America\", \"/m/...   \n",
       "57552          {\"/m/09c7w0\": \"United States of America\"}   \n",
       "33405          {\"/m/09c7w0\": \"United States of America\"}   \n",
       "14453          {\"/m/09c7w0\": \"United States of America\"}   \n",
       "80800          {\"/m/09c7w0\": \"United States of America\"}   \n",
       "49438          {\"/m/09c7w0\": \"United States of America\"}   \n",
       "35156  {\"/m/09c7w0\": \"United States of America\", \"/m/...   \n",
       "49114          {\"/m/09c7w0\": \"United States of America\"}   \n",
       "40199          {\"/m/09c7w0\": \"United States of America\"}   \n",
       "78373          {\"/m/09c7w0\": \"United States of America\"}   \n",
       "65287          {\"/m/09c7w0\": \"United States of America\"}   \n",
       "81225          {\"/m/09c7w0\": \"United States of America\"}   \n",
       "5955           {\"/m/09c7w0\": \"United States of America\"}   \n",
       "64107          {\"/m/09c7w0\": \"United States of America\"}   \n",
       "81055          {\"/m/09c7w0\": \"United States of America\"}   \n",
       "15058          {\"/m/09c7w0\": \"United States of America\"}   \n",
       "23547  {\"/m/09c7w0\": \"United States of America\", \"/m/...   \n",
       "58885          {\"/m/09c7w0\": \"United States of America\"}   \n",
       "48033          {\"/m/09c7w0\": \"United States of America\"}   \n",
       "55873          {\"/m/09c7w0\": \"United States of America\"}   \n",
       "37149          {\"/m/09c7w0\": \"United States of America\"}   \n",
       "5359   {\"/m/09c7w0\": \"United States of America\", \"/m/...   \n",
       "80003          {\"/m/09c7w0\": \"United States of America\"}   \n",
       "15526                            {\"/m/0345h\": \"Germany\"}   \n",
       "37789                                                 {}   \n",
       "52274                          {\"/m/06t2t\": \"Singapore\"}   \n",
       "52694  {\"/m/09c7w0\": \"United States of America\", \"/m/...   \n",
       "63986  {\"/m/09c7w0\": \"United States of America\", \"/m/...   \n",
       "70141                          {\"/m/03h64\": \"Hong Kong\"}   \n",
       "70390     {\"/m/0d060g\": \"Canada\", \"/m/0345h\": \"Germany\"}   \n",
       "\n",
       "                                            Movie genres  \n",
       "23702  {\"/m/01jfsb\": \"Thriller\", \"/m/06n90\": \"Science...  \n",
       "22256  {\"/m/0fx2s\": \"Tragedy\", \"/m/04xvh5\": \"Costume ...  \n",
       "30278  {\"/m/07s9rl0\": \"Drama\", \"/m/02n4kr\": \"Mystery\"...  \n",
       "18645  {\"/m/0hj3mt0\": \"Alien Film\", \"/m/06n90\": \"Scie...  \n",
       "80920  {\"/m/0hj3n2k\": \"Fantasy Adventure\", \"/m/03k9fj...  \n",
       "50039  {\"/m/06n90\": \"Science Fiction\", \"/m/02kdv5l\": ...  \n",
       "71442  {\"/m/0hj3n2k\": \"Fantasy Adventure\", \"/m/03k9fj...  \n",
       "59574  {\"/m/03k9fj\": \"Adventure\", \"/m/02n4kr\": \"Myste...  \n",
       "21432  {\"/m/04rlf\": \"Music\", \"/m/03k9fj\": \"Adventure\"...  \n",
       "17924  {\"/m/02n4kr\": \"Mystery\", \"/m/0hqxf\": \"Family F...  \n",
       "7358   {\"/m/0hj3n2k\": \"Fantasy Adventure\", \"/m/03k9fj...  \n",
       "8821   {\"/m/0hj3n2k\": \"Fantasy Adventure\", \"/m/03k9fj...  \n",
       "13479  {\"/m/03k9fj\": \"Adventure\", \"/m/0hj3myq\": \"Chil...  \n",
       "10820  {\"/m/01jfsb\": \"Thriller\", \"/m/06n90\": \"Science...  \n",
       "41200  {\"/m/0hj3n2k\": \"Fantasy Adventure\", \"/m/03k9fj...  \n",
       "79973  {\"/m/0hj3n2k\": \"Fantasy Adventure\", \"/m/03k9fj...  \n",
       "62303  {\"/m/06n90\": \"Science Fiction\", \"/m/02kdv5l\": ...  \n",
       "24339  {\"/m/01jfsb\": \"Thriller\", \"/m/06n90\": \"Science...  \n",
       "60260  {\"/m/01jfsb\": \"Thriller\", \"/m/06n90\": \"Science...  \n",
       "3035   {\"/m/03k9fj\": \"Adventure\", \"/m/04pbhw\": \"Super...  \n",
       "41251  {\"/m/0hj3n2k\": \"Fantasy Adventure\", \"/m/03k9fj...  \n",
       "57552  {\"/m/06n90\": \"Science Fiction\", \"/m/03k9fj\": \"...  \n",
       "33405  {\"/m/01jfsb\": \"Thriller\", \"/m/03k9fj\": \"Advent...  \n",
       "14453  {\"/m/01jfsb\": \"Thriller\", \"/m/06n90\": \"Science...  \n",
       "80800  {\"/m/06n90\": \"Science Fiction\", \"/m/03k9fj\": \"...  \n",
       "49438  {\"/m/0hj3n2s\": \"Fantasy Comedy\", \"/m/03k9fj\": ...  \n",
       "35156  {\"/m/03btsm8\": \"Action/Adventure\", \"/m/01jfsb\"...  \n",
       "49114  {\"/m/01jfsb\": \"Thriller\", \"/m/06n90\": \"Science...  \n",
       "40199  {\"/m/01jfsb\": \"Thriller\", \"/m/06n90\": \"Science...  \n",
       "78373  {\"/m/03btsm8\": \"Action/Adventure\", \"/m/06n90\":...  \n",
       "65287  {\"/m/01j1n2\": \"Coming of age\", \"/m/05p553\": \"C...  \n",
       "81225  {\"/m/03k9fj\": \"Adventure\", \"/m/0hj3myq\": \"Chil...  \n",
       "5955   {\"/m/06n90\": \"Science Fiction\", \"/m/03k9fj\": \"...  \n",
       "64107  {\"/m/01jfsb\": \"Thriller\", \"/m/0lsxr\": \"Crime F...  \n",
       "81055  {\"/m/0lsxr\": \"Crime Fiction\", \"/m/06n90\": \"Sci...  \n",
       "15058  {\"/m/01jfsb\": \"Thriller\", \"/m/06n90\": \"Science...  \n",
       "23547  {\"/m/0hj3n2k\": \"Fantasy Adventure\", \"/m/03k9fj...  \n",
       "58885  {\"/m/03k9fj\": \"Adventure\", \"/m/0hj3myq\": \"Chil...  \n",
       "48033  {\"/m/01jfsb\": \"Thriller\", \"/m/01drsx\": \"Disast...  \n",
       "55873  {\"/m/06n90\": \"Science Fiction\", \"/m/03k9fj\": \"...  \n",
       "37149  {\"/m/03k9fj\": \"Adventure\", \"/m/04xvh5\": \"Costu...  \n",
       "5359   {\"/m/01lmb_\": \"Sword and Sandal\", \"/m/03k9fj\":...  \n",
       "80003  {\"/m/01g6gs\": \"Black-and-white\", \"/m/03btsm8\":...  \n",
       "15526  {\"/m/01drsx\": \"Disaster\", \"/m/05swd\": \"Propaga...  \n",
       "37789                        {\"/m/06ppq\": \"Silent film\"}  \n",
       "52274  {\"/m/01jfsb\": \"Thriller\", \"/m/06n90\": \"Science...  \n",
       "52694  {\"/m/0hqxf\": \"Family Film\", \"/m/0gw5n2f\": \"Jap...  \n",
       "63986  {\"/m/01drsx\": \"Disaster\", \"/m/04xvh5\": \"Costum...  \n",
       "70141  {\"/m/03btsm8\": \"Action/Adventure\", \"/m/01hmnh\"...  \n",
       "70390  {\"/m/02l7c8\": \"Romance Film\", \"/m/07s9rl0\": \"D...  "
      ]
     },
     "execution_count": 85,
     "metadata": {},
     "output_type": "execute_result"
    }
   ],
   "source": [
    "probable_newFirstnameDF_inTop400 = movieDF[movieDF[\"Movie name\"].isin(probable_newFirstnameDF[\"Movie name\"])].sort_values(by=\"Movie box office revenue\",ascending=False).head(400)\n",
    "\n",
    "print(\"Number of names with their films where the name wasn't present before the film in name_occurrences:\", len(probable_newFirstnameDF_inTop400))\n",
    "\n",
    "probable_newFirstnameDF_inTop400"
   ]
  },
  {
   "cell_type": "markdown",
   "metadata": {},
   "source": [
    "We are not too suprise of this result. For them it is highly probable that these movies created a trend for these firstnames. Still, it means half of it, hence the other half could be linked with other events."
   ]
  },
  {
   "cell_type": "markdown",
   "metadata": {},
   "source": [
    "##### Study on the top 20 firstnames in movies over the year"
   ]
  },
  {
   "cell_type": "markdown",
   "metadata": {},
   "source": [
    "An other relevant study could be to see a trend in firstnames. We are not just focusing on the new firstnames or the ones highlighted by movies but we would like to see if the major trends in reality also appear in movies. This will guide us to name our human with it's most likely name depending on the year and the location."
   ]
  },
  {
   "cell_type": "code",
   "execution_count": 105,
   "metadata": {},
   "outputs": [
    {
     "data": {
      "text/markdown": [
       "![img/Top20firstname.svg](img/Top20firstname.svg)"
      ],
      "text/plain": [
       "<IPython.core.display.Markdown object>"
      ]
     },
     "execution_count": 105,
     "metadata": {},
     "output_type": "execute_result"
    }
   ],
   "source": [
    "# Choose a year\n",
    "year = 2022\n",
    "\n",
    "# Define the valid date range for your dataset\n",
    "min_valid_date = \"1850-01-01\"\n",
    "max_valid_date = \"2023-11-11\"\n",
    "characterDF[\"Year\"] = characterDF[\"Movie release date\"].str.extract(r'(\\d{4})', expand=False).astype(float)\n",
    "\n",
    "# Apply the function to the \"Character Name\" column\n",
    "characterDF[\"Character firstname\"] = characterDF[\"Character Name\"].apply(extract_top_firstname)\n",
    "Firstname_characterDF = characterDF\n",
    "Firstname_characterDF.dropna(subset=[\"Character firstname\"], inplace=True)\n",
    "\n",
    "# Create a new DataFrame with the number of occurrences of each firstname groupping by the counting given in baby_nameDF of this firstname for each year\n",
    "# keep only the firstnames present in the film (characterDF[\"Character firstname\"])\n",
    "name_occurrences_by_year = baby_nameDF.groupby([\"Firstname\", \"Year\"])[\"Number\"].sum().reset_index()\n",
    "name_occurrences_by_year = name_occurrences_by_year[name_occurrences_by_year[\"Firstname\"].isin(characterDF[\"Character firstname\"].unique())]\n",
    "name_occurrences_by_year[\"Year\"] = pd.to_datetime(name_occurrences_by_year[\"Year\"], format='%Y')\n",
    "\n",
    "# Horizontal bar\n",
    "# px.bar(name_occurrences_by_year[name_occurrences_by_year[\"Year\"].dt.year == year].sort_values(by=\"Number\",ascending=False).head(20),x=\"Number\",y=\"Firstname\", orientation='h')\n",
    "fig = go.Figure(go.Bar(\n",
    "    x=name_occurrences_by_year[name_occurrences_by_year[\"Year\"].dt.year == year].sort_values(by=\"Number\",ascending=False).head(20)[\"Number\"],\n",
    "    y=name_occurrences_by_year[name_occurrences_by_year[\"Year\"].dt.year == year].sort_values(by=\"Number\",ascending=False).head(20)[\"Firstname\"],\n",
    "    orientation='h',\n",
    "    text=name_occurrences_by_year[name_occurrences_by_year[\"Year\"].dt.year == year].sort_values(by=\"Number\",ascending=False).head(20)[\"Number\"],\n",
    "    textposition='outside'\n",
    "))\n",
    "\n",
    "fig.update_layout(\n",
    "    xaxis_title=\"Number of occurences\",\n",
    "    yaxis_title=\"Firstname\",\n",
    "    title=\"Top 20 Firstname in {}\".format(year),\n",
    "    plot_bgcolor='rgba(0,0,0,0)'\n",
    ")\n",
    "\n",
    "save_or_show_figure(fig, \"img/Top20firstname.svg\")"
   ]
  },
  {
   "cell_type": "markdown",
   "metadata": {},
   "source": [
    "On this trend, a simple way of doing it is to see the top 20 firstnames in movies over the year. We want to see who are the most recurrent firsnames in top50 each year and if we have at the end 50 name (Assumption on the fact that no evolution was seen in the top50 over the year) or way more.(Assumption on the fact that the top50 is not stable over the year)."
   ]
  },
  {
   "cell_type": "code",
   "execution_count": 11,
   "metadata": {},
   "outputs": [
    {
     "name": "stdout",
     "output_type": "stream",
     "text": [
      "Number of unique names in top 100:  283\n"
     ]
    }
   ],
   "source": [
    "name_occurrences_full = pd.DataFrame()\n",
    "\n",
    "for year in range(1850, 2023):\n",
    "    year_datetime = pd.to_datetime(year, format='%Y')\n",
    "    year_data = name_occurrences_by_year[name_occurrences_by_year[\"Year\"].dt.year == year].sort_values(by=\"Number\", ascending=False).head(50)\n",
    "    name_occurrences_full = pd.concat([name_occurrences_full, year_data])\n",
    "\n",
    "print(\"Number of unique names in top 100: \", len(name_occurrences_full[\"Firstname\"].unique()))"
   ]
  },
  {
   "cell_type": "markdown",
   "metadata": {},
   "source": [
    "### Trying to see if the tendency is that movies are in advance or copy what existed previously."
   ]
  },
  {
   "cell_type": "markdown",
   "metadata": {},
   "source": [
    "To lighten the study, we will only focus on the top 400 firstnames in the US. The goal of this study is to have a better understanding of the firstnames in movies compared to what we have in reality. At the end, we are more focusing on if they both follow the same trends with a certain delay or not. This probable correlation will help us to name our human."
   ]
  },
  {
   "cell_type": "code",
   "execution_count": 111,
   "metadata": {},
   "outputs": [],
   "source": [
    "TOP = 400\n",
    "\n",
    "# keep the top 400 firstname in baby_nameDF\n",
    "firstname_occurrences_by_year = Firstname_characterDF.groupby([\"Year\", \"Character firstname\", \"Actor gender\"]).size().reset_index(name=\"Number of Occurrences\")\n",
    "# add a column of firstname_occurrences_by_year where it is the Total number of occurences of this firstname in the dataset\n",
    "firstname_occurrences_by_year[\"Total number of occurences\"] = firstname_occurrences_by_year.groupby([\"Character firstname\", \"Actor gender\"])[\"Number of Occurrences\"].transform(\"sum\")\n",
    "\n",
    "top400_firstnamesDF = baby_nameDF.merge(firstname_occurrences_by_year, left_on=\"Firstname\", right_on=\"Character firstname\", how=\"left\")\n",
    "top400_firstnamesDF = top400_firstnamesDF[top400_firstnamesDF[\"Year_x\"].astype(float)==top400_firstnamesDF[\"Year_y\"].astype(float)]\n",
    "top400_firstnamesDF[\"Year\"] = top400_firstnamesDF[\"Year_x\"]\n",
    "top400_firstnamesDF = top400_firstnamesDF.drop(columns=[\"Year_x\",\"Year_y\"])\n",
    "top400_firstnamesDF[\"Firstname\"] = top400_firstnamesDF[\"Firstname\"]\n",
    "top400_firstnamesDF = top400_firstnamesDF.drop(columns=[\"Character firstname\"])\n",
    "top400_firstnamesDF = top400_firstnamesDF.rename(columns={\"Number\":\"Number of birth\",\"Number of Occurrences\":\"Number of occurences in movies\"})\n",
    "top400_firstnamesDF =top400_firstnamesDF.drop(columns=[\"Actor gender\"])\n",
    "\n",
    "# keep the top 400 unique firstname in top400_firstnamesDF in column Number of occurences in movies\n",
    "keep_top_400 = top400_firstnamesDF.drop_duplicates(subset=[\"Firstname\"])\n",
    "keep_top_400 = keep_top_400.sort_values(by=\"Total number of occurences\",ascending=False).head(TOP)\n",
    "top400_firstnamesDF = top400_firstnamesDF[top400_firstnamesDF[\"Firstname\"].isin(keep_top_400[\"Firstname\"])]\n",
    "\n",
    "sum_by_name_gender = top400_firstnamesDF.groupby([\"Firstname\", \"Sexe\"])[\"Number of birth\"].sum().reset_index().rename(columns={\"Number of birth\": \"Number\"})\n",
    "idx_max_gender = sum_by_name_gender.groupby(\"Firstname\")[\"Number\"].idxmax()\n",
    "max_gender_lines = sum_by_name_gender.loc[idx_max_gender]\n",
    "\n",
    "top400_firstnamesDF = top400_firstnamesDF.merge(max_gender_lines, on=[\"Firstname\", \"Sexe\"], how=\"inner\")"
   ]
  },
  {
   "cell_type": "markdown",
   "metadata": {},
   "source": [
    "To understand what we will be doing at a bigger scale, we will first do it on one individual. Aribitraly, we chose Christopher.\n",
    "So Christopher, show us what you got!\n",
    "Is it a trendy name in the US? Was it? Will it be? (no, we're kidding we're not forecasting the name of your eventual future child)\n",
    "Does movies have an impact on the name of Christopher in the babyname frequency?"
   ]
  },
  {
   "cell_type": "code",
   "execution_count": 115,
   "metadata": {},
   "outputs": [
    {
     "data": {
      "application/vnd.plotly.v1+json": {
       "config": {
        "plotlyServerURL": "https://plot.ly"
       },
       "data": [
        {
         "line": {
          "color": "blue"
         },
         "mode": "lines",
         "name": "Number of Birth",
         "type": "scatter",
         "x": [
          "1929",
          "1933",
          "1936",
          "1938",
          "1947",
          "1949",
          "1951",
          "1952",
          "1954",
          "1955",
          "1956",
          "1964",
          "1965",
          "1966",
          "1967",
          "1968",
          "1969",
          "1976",
          "1976",
          "1977",
          "1979",
          "1981",
          "1981",
          "1983",
          "1984",
          "1985",
          "1990",
          "1990",
          "1992",
          "1993",
          "1993",
          "1994",
          "1995",
          "1996",
          "1998",
          "1999",
          "2000",
          "2001",
          "2001",
          "2002",
          "2002",
          "2005",
          "2006",
          "2007",
          "2008",
          "2009",
          "2010",
          "2010",
          "2011",
          "2012",
          "2013"
         ],
         "xaxis": "x",
         "y": [
          273,
          205,
          277,
          308,
          2273,
          3999,
          5734,
          6301,
          6083,
          7920,
          8385,
          19633,
          24643,
          27867,
          29416,
          31468,
          35690,
          45203,
          45203,
          46736,
          50678,
          50224,
          50224,
          59340,
          60024,
          59610,
          52353,
          52353,
          42465,
          38236,
          38236,
          34804,
          32673,
          30903,
          27004,
          25604,
          24936,
          23131,
          23131,
          21687,
          21687,
          19173,
          19685,
          20027,
          17960,
          16362,
          14294,
          14294,
          13019,
          11915,
          10872
         ],
         "yaxis": "y"
        },
        {
         "line": {
          "color": "red"
         },
         "mode": "lines",
         "name": "Number of Occurrences in Movies",
         "type": "scatter",
         "x": [
          "1929",
          "1933",
          "1936",
          "1938",
          "1947",
          "1949",
          "1951",
          "1952",
          "1954",
          "1955",
          "1956",
          "1964",
          "1965",
          "1966",
          "1967",
          "1968",
          "1969",
          "1976",
          "1976",
          "1977",
          "1979",
          "1981",
          "1981",
          "1983",
          "1984",
          "1985",
          "1990",
          "1990",
          "1992",
          "1993",
          "1993",
          "1994",
          "1995",
          "1996",
          "1998",
          "1999",
          "2000",
          "2001",
          "2001",
          "2002",
          "2002",
          "2005",
          "2006",
          "2007",
          "2008",
          "2009",
          "2010",
          "2010",
          "2011",
          "2012",
          "2013"
         ],
         "xaxis": "x",
         "y": [
          1,
          1,
          1,
          1,
          1,
          1,
          1,
          2,
          4,
          1,
          1,
          2,
          1,
          1,
          2,
          1,
          1,
          1,
          1,
          1,
          1,
          1,
          2,
          1,
          1,
          1,
          1,
          2,
          2,
          1,
          3,
          1,
          2,
          3,
          1,
          1,
          1,
          1,
          1,
          1,
          2,
          3,
          6,
          4,
          5,
          8,
          1,
          4,
          6,
          4,
          1
         ],
         "yaxis": "y2"
        }
       ],
       "layout": {
        "plot_bgcolor": "rgba(0,0,0,0)",
        "template": {
         "data": {
          "bar": [
           {
            "error_x": {
             "color": "#2a3f5f"
            },
            "error_y": {
             "color": "#2a3f5f"
            },
            "marker": {
             "line": {
              "color": "#E5ECF6",
              "width": 0.5
             },
             "pattern": {
              "fillmode": "overlay",
              "size": 10,
              "solidity": 0.2
             }
            },
            "type": "bar"
           }
          ],
          "barpolar": [
           {
            "marker": {
             "line": {
              "color": "#E5ECF6",
              "width": 0.5
             },
             "pattern": {
              "fillmode": "overlay",
              "size": 10,
              "solidity": 0.2
             }
            },
            "type": "barpolar"
           }
          ],
          "carpet": [
           {
            "aaxis": {
             "endlinecolor": "#2a3f5f",
             "gridcolor": "white",
             "linecolor": "white",
             "minorgridcolor": "white",
             "startlinecolor": "#2a3f5f"
            },
            "baxis": {
             "endlinecolor": "#2a3f5f",
             "gridcolor": "white",
             "linecolor": "white",
             "minorgridcolor": "white",
             "startlinecolor": "#2a3f5f"
            },
            "type": "carpet"
           }
          ],
          "choropleth": [
           {
            "colorbar": {
             "outlinewidth": 0,
             "ticks": ""
            },
            "type": "choropleth"
           }
          ],
          "contour": [
           {
            "colorbar": {
             "outlinewidth": 0,
             "ticks": ""
            },
            "colorscale": [
             [
              0,
              "#0d0887"
             ],
             [
              0.1111111111111111,
              "#46039f"
             ],
             [
              0.2222222222222222,
              "#7201a8"
             ],
             [
              0.3333333333333333,
              "#9c179e"
             ],
             [
              0.4444444444444444,
              "#bd3786"
             ],
             [
              0.5555555555555556,
              "#d8576b"
             ],
             [
              0.6666666666666666,
              "#ed7953"
             ],
             [
              0.7777777777777778,
              "#fb9f3a"
             ],
             [
              0.8888888888888888,
              "#fdca26"
             ],
             [
              1,
              "#f0f921"
             ]
            ],
            "type": "contour"
           }
          ],
          "contourcarpet": [
           {
            "colorbar": {
             "outlinewidth": 0,
             "ticks": ""
            },
            "type": "contourcarpet"
           }
          ],
          "heatmap": [
           {
            "colorbar": {
             "outlinewidth": 0,
             "ticks": ""
            },
            "colorscale": [
             [
              0,
              "#0d0887"
             ],
             [
              0.1111111111111111,
              "#46039f"
             ],
             [
              0.2222222222222222,
              "#7201a8"
             ],
             [
              0.3333333333333333,
              "#9c179e"
             ],
             [
              0.4444444444444444,
              "#bd3786"
             ],
             [
              0.5555555555555556,
              "#d8576b"
             ],
             [
              0.6666666666666666,
              "#ed7953"
             ],
             [
              0.7777777777777778,
              "#fb9f3a"
             ],
             [
              0.8888888888888888,
              "#fdca26"
             ],
             [
              1,
              "#f0f921"
             ]
            ],
            "type": "heatmap"
           }
          ],
          "heatmapgl": [
           {
            "colorbar": {
             "outlinewidth": 0,
             "ticks": ""
            },
            "colorscale": [
             [
              0,
              "#0d0887"
             ],
             [
              0.1111111111111111,
              "#46039f"
             ],
             [
              0.2222222222222222,
              "#7201a8"
             ],
             [
              0.3333333333333333,
              "#9c179e"
             ],
             [
              0.4444444444444444,
              "#bd3786"
             ],
             [
              0.5555555555555556,
              "#d8576b"
             ],
             [
              0.6666666666666666,
              "#ed7953"
             ],
             [
              0.7777777777777778,
              "#fb9f3a"
             ],
             [
              0.8888888888888888,
              "#fdca26"
             ],
             [
              1,
              "#f0f921"
             ]
            ],
            "type": "heatmapgl"
           }
          ],
          "histogram": [
           {
            "marker": {
             "pattern": {
              "fillmode": "overlay",
              "size": 10,
              "solidity": 0.2
             }
            },
            "type": "histogram"
           }
          ],
          "histogram2d": [
           {
            "colorbar": {
             "outlinewidth": 0,
             "ticks": ""
            },
            "colorscale": [
             [
              0,
              "#0d0887"
             ],
             [
              0.1111111111111111,
              "#46039f"
             ],
             [
              0.2222222222222222,
              "#7201a8"
             ],
             [
              0.3333333333333333,
              "#9c179e"
             ],
             [
              0.4444444444444444,
              "#bd3786"
             ],
             [
              0.5555555555555556,
              "#d8576b"
             ],
             [
              0.6666666666666666,
              "#ed7953"
             ],
             [
              0.7777777777777778,
              "#fb9f3a"
             ],
             [
              0.8888888888888888,
              "#fdca26"
             ],
             [
              1,
              "#f0f921"
             ]
            ],
            "type": "histogram2d"
           }
          ],
          "histogram2dcontour": [
           {
            "colorbar": {
             "outlinewidth": 0,
             "ticks": ""
            },
            "colorscale": [
             [
              0,
              "#0d0887"
             ],
             [
              0.1111111111111111,
              "#46039f"
             ],
             [
              0.2222222222222222,
              "#7201a8"
             ],
             [
              0.3333333333333333,
              "#9c179e"
             ],
             [
              0.4444444444444444,
              "#bd3786"
             ],
             [
              0.5555555555555556,
              "#d8576b"
             ],
             [
              0.6666666666666666,
              "#ed7953"
             ],
             [
              0.7777777777777778,
              "#fb9f3a"
             ],
             [
              0.8888888888888888,
              "#fdca26"
             ],
             [
              1,
              "#f0f921"
             ]
            ],
            "type": "histogram2dcontour"
           }
          ],
          "mesh3d": [
           {
            "colorbar": {
             "outlinewidth": 0,
             "ticks": ""
            },
            "type": "mesh3d"
           }
          ],
          "parcoords": [
           {
            "line": {
             "colorbar": {
              "outlinewidth": 0,
              "ticks": ""
             }
            },
            "type": "parcoords"
           }
          ],
          "pie": [
           {
            "automargin": true,
            "type": "pie"
           }
          ],
          "scatter": [
           {
            "fillpattern": {
             "fillmode": "overlay",
             "size": 10,
             "solidity": 0.2
            },
            "type": "scatter"
           }
          ],
          "scatter3d": [
           {
            "line": {
             "colorbar": {
              "outlinewidth": 0,
              "ticks": ""
             }
            },
            "marker": {
             "colorbar": {
              "outlinewidth": 0,
              "ticks": ""
             }
            },
            "type": "scatter3d"
           }
          ],
          "scattercarpet": [
           {
            "marker": {
             "colorbar": {
              "outlinewidth": 0,
              "ticks": ""
             }
            },
            "type": "scattercarpet"
           }
          ],
          "scattergeo": [
           {
            "marker": {
             "colorbar": {
              "outlinewidth": 0,
              "ticks": ""
             }
            },
            "type": "scattergeo"
           }
          ],
          "scattergl": [
           {
            "marker": {
             "colorbar": {
              "outlinewidth": 0,
              "ticks": ""
             }
            },
            "type": "scattergl"
           }
          ],
          "scattermapbox": [
           {
            "marker": {
             "colorbar": {
              "outlinewidth": 0,
              "ticks": ""
             }
            },
            "type": "scattermapbox"
           }
          ],
          "scatterpolar": [
           {
            "marker": {
             "colorbar": {
              "outlinewidth": 0,
              "ticks": ""
             }
            },
            "type": "scatterpolar"
           }
          ],
          "scatterpolargl": [
           {
            "marker": {
             "colorbar": {
              "outlinewidth": 0,
              "ticks": ""
             }
            },
            "type": "scatterpolargl"
           }
          ],
          "scatterternary": [
           {
            "marker": {
             "colorbar": {
              "outlinewidth": 0,
              "ticks": ""
             }
            },
            "type": "scatterternary"
           }
          ],
          "surface": [
           {
            "colorbar": {
             "outlinewidth": 0,
             "ticks": ""
            },
            "colorscale": [
             [
              0,
              "#0d0887"
             ],
             [
              0.1111111111111111,
              "#46039f"
             ],
             [
              0.2222222222222222,
              "#7201a8"
             ],
             [
              0.3333333333333333,
              "#9c179e"
             ],
             [
              0.4444444444444444,
              "#bd3786"
             ],
             [
              0.5555555555555556,
              "#d8576b"
             ],
             [
              0.6666666666666666,
              "#ed7953"
             ],
             [
              0.7777777777777778,
              "#fb9f3a"
             ],
             [
              0.8888888888888888,
              "#fdca26"
             ],
             [
              1,
              "#f0f921"
             ]
            ],
            "type": "surface"
           }
          ],
          "table": [
           {
            "cells": {
             "fill": {
              "color": "#EBF0F8"
             },
             "line": {
              "color": "white"
             }
            },
            "header": {
             "fill": {
              "color": "#C8D4E3"
             },
             "line": {
              "color": "white"
             }
            },
            "type": "table"
           }
          ]
         },
         "layout": {
          "annotationdefaults": {
           "arrowcolor": "#2a3f5f",
           "arrowhead": 0,
           "arrowwidth": 1
          },
          "autotypenumbers": "strict",
          "coloraxis": {
           "colorbar": {
            "outlinewidth": 0,
            "ticks": ""
           }
          },
          "colorscale": {
           "diverging": [
            [
             0,
             "#8e0152"
            ],
            [
             0.1,
             "#c51b7d"
            ],
            [
             0.2,
             "#de77ae"
            ],
            [
             0.3,
             "#f1b6da"
            ],
            [
             0.4,
             "#fde0ef"
            ],
            [
             0.5,
             "#f7f7f7"
            ],
            [
             0.6,
             "#e6f5d0"
            ],
            [
             0.7,
             "#b8e186"
            ],
            [
             0.8,
             "#7fbc41"
            ],
            [
             0.9,
             "#4d9221"
            ],
            [
             1,
             "#276419"
            ]
           ],
           "sequential": [
            [
             0,
             "#0d0887"
            ],
            [
             0.1111111111111111,
             "#46039f"
            ],
            [
             0.2222222222222222,
             "#7201a8"
            ],
            [
             0.3333333333333333,
             "#9c179e"
            ],
            [
             0.4444444444444444,
             "#bd3786"
            ],
            [
             0.5555555555555556,
             "#d8576b"
            ],
            [
             0.6666666666666666,
             "#ed7953"
            ],
            [
             0.7777777777777778,
             "#fb9f3a"
            ],
            [
             0.8888888888888888,
             "#fdca26"
            ],
            [
             1,
             "#f0f921"
            ]
           ],
           "sequentialminus": [
            [
             0,
             "#0d0887"
            ],
            [
             0.1111111111111111,
             "#46039f"
            ],
            [
             0.2222222222222222,
             "#7201a8"
            ],
            [
             0.3333333333333333,
             "#9c179e"
            ],
            [
             0.4444444444444444,
             "#bd3786"
            ],
            [
             0.5555555555555556,
             "#d8576b"
            ],
            [
             0.6666666666666666,
             "#ed7953"
            ],
            [
             0.7777777777777778,
             "#fb9f3a"
            ],
            [
             0.8888888888888888,
             "#fdca26"
            ],
            [
             1,
             "#f0f921"
            ]
           ]
          },
          "colorway": [
           "#636efa",
           "#EF553B",
           "#00cc96",
           "#ab63fa",
           "#FFA15A",
           "#19d3f3",
           "#FF6692",
           "#B6E880",
           "#FF97FF",
           "#FECB52"
          ],
          "font": {
           "color": "#2a3f5f"
          },
          "geo": {
           "bgcolor": "white",
           "lakecolor": "white",
           "landcolor": "#E5ECF6",
           "showlakes": true,
           "showland": true,
           "subunitcolor": "white"
          },
          "hoverlabel": {
           "align": "left"
          },
          "hovermode": "closest",
          "mapbox": {
           "style": "light"
          },
          "paper_bgcolor": "white",
          "plot_bgcolor": "#E5ECF6",
          "polar": {
           "angularaxis": {
            "gridcolor": "white",
            "linecolor": "white",
            "ticks": ""
           },
           "bgcolor": "#E5ECF6",
           "radialaxis": {
            "gridcolor": "white",
            "linecolor": "white",
            "ticks": ""
           }
          },
          "scene": {
           "xaxis": {
            "backgroundcolor": "#E5ECF6",
            "gridcolor": "white",
            "gridwidth": 2,
            "linecolor": "white",
            "showbackground": true,
            "ticks": "",
            "zerolinecolor": "white"
           },
           "yaxis": {
            "backgroundcolor": "#E5ECF6",
            "gridcolor": "white",
            "gridwidth": 2,
            "linecolor": "white",
            "showbackground": true,
            "ticks": "",
            "zerolinecolor": "white"
           },
           "zaxis": {
            "backgroundcolor": "#E5ECF6",
            "gridcolor": "white",
            "gridwidth": 2,
            "linecolor": "white",
            "showbackground": true,
            "ticks": "",
            "zerolinecolor": "white"
           }
          },
          "shapedefaults": {
           "line": {
            "color": "#2a3f5f"
           }
          },
          "ternary": {
           "aaxis": {
            "gridcolor": "white",
            "linecolor": "white",
            "ticks": ""
           },
           "baxis": {
            "gridcolor": "white",
            "linecolor": "white",
            "ticks": ""
           },
           "bgcolor": "#E5ECF6",
           "caxis": {
            "gridcolor": "white",
            "linecolor": "white",
            "ticks": ""
           }
          },
          "title": {
           "x": 0.05
          },
          "xaxis": {
           "automargin": true,
           "gridcolor": "white",
           "linecolor": "white",
           "ticks": "",
           "title": {
            "standoff": 15
           },
           "zerolinecolor": "white",
           "zerolinewidth": 2
          },
          "yaxis": {
           "automargin": true,
           "gridcolor": "white",
           "linecolor": "white",
           "ticks": "",
           "title": {
            "standoff": 15
           },
           "zerolinecolor": "white",
           "zerolinewidth": 2
          }
         }
        },
        "title": {
         "text": "Christopher"
        },
        "xaxis": {
         "anchor": "y",
         "domain": [
          0,
          0.94
         ],
         "showticklabels": true,
         "title": {
          "text": "Year"
         }
        },
        "yaxis": {
         "anchor": "x",
         "domain": [
          0,
          1
         ],
         "showticklabels": false,
         "title": {
          "text": "Number of Birth"
         }
        },
        "yaxis2": {
         "anchor": "x",
         "overlaying": "y",
         "showticklabels": false,
         "side": "right"
        }
       }
      }
     },
     "metadata": {},
     "output_type": "display_data"
    }
   ],
   "source": [
    "firstname = \"Christopher\"\n",
    "\n",
    "fig1 = make_subplots(\n",
    "    rows=1,\n",
    "    cols=1,\n",
    "    specs=[[{\"secondary_y\": True}]]\n",
    ")\n",
    "\n",
    "# Sort the dataframes by \"Year\" for consistency\n",
    "df1 = top400_firstnamesDF[top400_firstnamesDF[\"Firstname\"] == firstname].sort_values(by=\"Year\")\n",
    "df2 = top400_firstnamesDF[top400_firstnamesDF[\"Firstname\"] == firstname].sort_values(by=\"Year\")\n",
    "\n",
    "# Add a trace for the first line (e.g., blue)\n",
    "trace1 = go.Scatter(x=df1[\"Year\"], y=df1[\"Number of birth\"], mode='lines', name=\"Number of Birth\", line=dict(color='blue'))\n",
    "\n",
    "# Add a trace for the second line (e.g., red)\n",
    "trace2 = go.Scatter(x=df2[\"Year\"], y=df2[\"Number of occurences in movies\"], mode='lines', name=\"Number of Occurrences in Movies\", line=dict(color='red'), yaxis=\"y2\")\n",
    "\n",
    "# Update the subplot and axis properties\n",
    "fig1.add_trace(trace1, row=1, col=1)\n",
    "fig1.add_trace(trace2, row=1, col=1, secondary_y=True)\n",
    "\n",
    "fig1.update_xaxes(title_text='Year', row=1, col=1)\n",
    "fig1.update_xaxes(showticklabels=True, row=1, col=1)  # Show x-axis tick labels\n",
    "\n",
    "fig1.update_yaxes(showticklabels=False, row=1, col=1)\n",
    "fig1.update_yaxes(showticklabels=False, row=1, col=1, secondary_y=True)\n",
    "\n",
    "fig1.update_layout(\n",
    "    xaxis_title=\"Year\",\n",
    "    yaxis_title=\"Number of Birth\",\n",
    "    title_text=firstname,\n",
    "    plot_bgcolor='rgba(0,0,0,0)'\n",
    "    )\n",
    "\n",
    "# Show the figure\n",
    "fig1.show()\n",
    "# save_or_show_figure(fig1, \"img/ChristopheBirthOccurence.svg\")"
   ]
  },
  {
   "cell_type": "markdown",
   "metadata": {},
   "source": [
    "Well done Christopher! Looks like the babyname occurence of Christopher is in advance of the movie occurence. And fast observation guide to see that there is a delay of 30 years. Could we assume that at 30 years, we have in the movies a correct interpretation of the baynames repartition 30 years before? Difficult to say for the moment.\n",
    "Oh by the way, is it really the number that is relevant to observe? Or should we look at the frequency of the name in the population?\n",
    "Actually, it is not really useful or interesting to interpret on numbers, so we plot their frequencies"
   ]
  },
  {
   "cell_type": "code",
   "execution_count": 118,
   "metadata": {},
   "outputs": [
    {
     "data": {
      "text/markdown": [
       "![img/ChristopheBirthFrequency.svg](img/ChristopheBirthFrequency.svg)"
      ],
      "text/plain": [
       "<IPython.core.display.Markdown object>"
      ]
     },
     "execution_count": 118,
     "metadata": {},
     "output_type": "execute_result"
    }
   ],
   "source": [
    "# Calculate the sum of the number of births and number of firstnames for each year\n",
    "births_by_year = baby_nameDF.groupby(\"Year\")[\"Number\"].sum().reset_index()\n",
    "firstnames_by_year = baby_nameDF.groupby(\"Year\")[\"Firstname\"].count().reset_index()\n",
    "\n",
    "firstname = \"Christopher\"\n",
    "\n",
    "# Sort the dataframes by \"Year\" for consistency\n",
    "df1 = top400_firstnamesDF[top400_firstnamesDF[\"Firstname\"] == firstname].sort_values(by=\"Year\")\n",
    "df2 = top400_firstnamesDF[top400_firstnamesDF[\"Firstname\"] == firstname].sort_values(by=\"Year\")\n",
    "\n",
    "# Calculate the frequency for each year using apply\n",
    "df1[\"Frequency\"] = df1.apply(lambda row: row[\"Number of birth\"] / births_by_year[births_by_year[\"Year\"] == row[\"Year\"]][\"Number\"].values[0], axis=1)\n",
    "df2[\"Frequency\"] = df2.apply(lambda row: row[\"Number of occurences in movies\"] / firstnames_by_year[firstnames_by_year[\"Year\"] == row[\"Year\"]][\"Firstname\"].values[0], axis=1)\n",
    "\n",
    "# Rename the columns\n",
    "df1 = df1.rename(columns={\"Frequency\": \"Frequency of Birth\"})\n",
    "df2 = df2.rename(columns={\"Frequency\": \"Frequency in Movies\"})\n",
    "\n",
    "fig1 = make_subplots(\n",
    "    rows=1,\n",
    "    cols=1,\n",
    "    specs=[[{\"secondary_y\": True}]]\n",
    ")\n",
    "\n",
    "# Add a trace for the first line (e.g., blue)\n",
    "trace1 = go.Scatter(x=df1[\"Year\"], y=df1[\"Frequency of Birth\"], mode='lines', name=\"Frequency of Birth\", line=dict(color='blue'))\n",
    "\n",
    "# Add a trace for the second line (e.g., red)\n",
    "trace2 = go.Scatter(x=df2[\"Year\"], y=df2[\"Frequency in Movies\"], mode='lines', name=\"Frequency of Occurrences in Movies\", line=dict(color='red'), yaxis=\"y2\")\n",
    "\n",
    "# Update the subplot and axis properties\n",
    "fig1.add_trace(trace1, row=1, col=1)\n",
    "fig1.add_trace(trace2, row=1, col=1, secondary_y=True)\n",
    "\n",
    "fig1.update_xaxes(title_text='Year', row=1, col=1)\n",
    "fig1.update_xaxes(showticklabels=True, row=1, col=1)  # Show x-axis tick labels\n",
    "\n",
    "# Hide y-axis labels for both traces\n",
    "fig1.update_yaxes(showticklabels=False, row=1, col=1)\n",
    "fig1.update_yaxes(showticklabels=False, row=1, col=1, secondary_y=True)\n",
    "\n",
    "# Set the subplot title as the firstname\n",
    "fig1.update_layout(\n",
    "    xaxis_title=\"Year\",\n",
    "    yaxis_title=\"Number of Birth\",\n",
    "    title_text=firstname,\n",
    "    plot_bgcolor='rgba(0,0,0,0)'\n",
    ")\n",
    "\n",
    "# Show the figure\n",
    "save_or_show_figure(fig1, \"img/ChristopheBirthFrequency.svg\")"
   ]
  },
  {
   "cell_type": "markdown",
   "metadata": {},
   "source": [
    "Looks like the results are mitigating on this above graph! We can't conclude the same way or with the same insurance. Later analysis on P3 will be to ass the trust interval on this correlation.\n",
    "Below, we are processing the same thing as on Christopher but on 400 firstnames!\n",
    "The diagram could look like a picture on kitchen apron (am I the only one to think that?) but it is not. 2 curves for each firstnames help us to see if a correlation is present and if yes, is it with a delay or not?\n",
    "Hence, we don't care about the real frequency, we just want to see at once if a trend is shared. \n",
    "Last, this graph was chosen because we also want to emphasize on the firstname (like the kitchen apron where each one wants to see if his firstname is present on the graph), so the firstname are ordered alphabetically!\n",
    "Try to catch your firstname (if you think it could be in top400 firstnames over the years) and see if your parents chose this firstname because a great movie with your firstname was released before your birth?"
   ]
  },
  {
   "cell_type": "code",
   "execution_count": 119,
   "metadata": {},
   "outputs": [
    {
     "data": {
      "text/markdown": [
       "![img/FirstnameOccurenceFrequencyTop400.svg](img/FirstnameOccurenceFrequencyTop400.svg)"
      ],
      "text/plain": [
       "<IPython.core.display.Markdown object>"
      ]
     },
     "execution_count": 119,
     "metadata": {},
     "output_type": "execute_result"
    }
   ],
   "source": [
    "fig = make_subplots(\n",
    "    rows=20,\n",
    "    cols=20,\n",
    "    subplot_titles=sorted(top400_firstnamesDF[\"Firstname\"].unique()),\n",
    "    specs=[[{\"secondary_y\": True}] * 20] * 20\n",
    ")\n",
    "\n",
    "legends_added = False  # A flag to ensure legends are added only once\n",
    "\n",
    "for i, firstname in enumerate(sorted(top400_firstnamesDF[\"Firstname\"].unique())):\n",
    "    row = i // 20 + 1\n",
    "    col = i % 20 + 1\n",
    "    \n",
    "    # Sort the dataframes by \"Year\" for consistency\n",
    "    df1 = top400_firstnamesDF[top400_firstnamesDF[\"Firstname\"] == firstname].sort_values(by=\"Year\")\n",
    "    df2 = top400_firstnamesDF[top400_firstnamesDF[\"Firstname\"] == firstname].sort_values(by=\"Year\")\n",
    "\n",
    "    # Calculate the frequency for each year using apply\n",
    "    df1[\"Frequency\"] = df1.apply(lambda row: row[\"Number of birth\"] / births_by_year[births_by_year[\"Year\"] == row[\"Year\"]][\"Number\"].values[0], axis=1)\n",
    "    df2[\"Frequency\"] = df2.apply(lambda row: row[\"Number of occurences in movies\"] / firstnames_by_year[firstnames_by_year[\"Year\"] == row[\"Year\"]][\"Firstname\"].values[0], axis=1)\n",
    "\n",
    "    # Rename the columns\n",
    "    df1 = df1.rename(columns={\"Frequency\": \"Frequency of Birth\"})\n",
    "    df2 = df2.rename(columns={\"Frequency\": \"Frequency in Movies\"})\n",
    "\n",
    "    fig1 = make_subplots(\n",
    "        rows=1,\n",
    "        cols=1,\n",
    "        specs=[[{\"secondary_y\": True}]]\n",
    "    )\n",
    "\n",
    "    if row==1:\n",
    "        # Add a trace for the first line (e.g., blue)\n",
    "        trace1 = go.Scatter(x=df1[\"Year\"], y=df1[\"Frequency of Birth\"], mode='lines', name=\"Frequency of Birth\", line=dict(color='blue'),legendgroup='Frequency of birth')\n",
    "        # Add a trace for the second line (e.g., red)\n",
    "        trace2 = go.Scatter(x=df2[\"Year\"], y=df2[\"Frequency in Movies\"], mode='lines', name=\"Frequency of Occurrences in Movies\", line=dict(color='orange'),legendgroup='Frequency of occurence in movies', yaxis=\"y2\")\n",
    "\n",
    "    # Add a trace for the first line (e.g., blue)\n",
    "    trace1 = go.Scatter(x=df1[\"Year\"], y=df1[\"Frequency of Birth\"], mode='lines', name=\"Frequency of Birth\", line=dict(color='blue'),legendgroup='Frequency of birth',showlegend=False)\n",
    "    # Add a trace for the second line (e.g., red)\n",
    "    trace2 = go.Scatter(x=df2[\"Year\"], y=df2[\"Frequency in Movies\"], mode='lines', name=\"Frequency of Occurrences in Movies\", line=dict(color='orange'),legendgroup='Frequency of occurence in movies',showlegend=False, yaxis=\"y2\")\n",
    "\n",
    "    # Add the traces to the subplot\n",
    "    fig.add_trace(trace1, row=row, col=col)\n",
    "    fig.add_trace(trace2, row=row, col=col, secondary_y=True)\n",
    "\n",
    "    fig.update_xaxes(title_text='', row=row, col=col)  # Remove x-axis label\n",
    "    fig.update_yaxes(title_text='', row=row, col=col)  # Remove y-axis label for the primary y-axis\n",
    "    fig.update_yaxes(title_text='', row=row, col=col, secondary_y=True)  # Remove y-axis label for the secondary y-axis\n",
    "    fig.update_xaxes(showticklabels=False, showgrid=False, row=row, col=col)\n",
    "    fig.update_yaxes(showticklabels=False, showgrid=False, row=row, col=col)\n",
    "    fig.update_yaxes(showticklabels=False, showgrid=False, row=row, col=col, secondary_y=True)\n",
    "\n",
    "    # Set the subplot title as the firstname using update_xaxes\n",
    "    # fig.update_xaxes(title_text=firstname, row=row, col=col)\n",
    "\n",
    "# Update the figure properties\n",
    "fig.update_annotations(font_size=8)\n",
    "fig.update_layout(\n",
    "    height=1000,\n",
    "    width=1400,  # Increase the width to accommodate the legend\n",
    "    title_text=\"Firstname occurrence frequency in top400 names over the years\",\n",
    "    plot_bgcolor=\"white\",\n",
    "    showlegend=True,  # Show the full plot legend\n",
    "    legend=dict(\n",
    "        orientation=\"v\",  # Set orientation to vertical for a legend on the right\n",
    "        x=1.05,  # Adjust the x position as needed\n",
    "        y=0.5,  # Adjust the y position as needed\n",
    "        itemsizing='constant',  # Set the size of legend items to be constant\n",
    "        tracegroupgap=10,  # Add some space between the legend groups\n",
    "        traceorder=\"normal\",  # Set the order of the legend items\n",
    "        bgcolor=\"white\",  # Set the background color of the legend\n",
    "        bordercolor=\"black\",  # Set the border color of the legend\n",
    "        borderwidth=1,  # Set the border width of the legend\n",
    "        font=dict(size=8),  # Set the font size of the legend\n",
    "        title=dict(text=\"Legend\"),  # Set the title of the legend\n",
    "    ),\n",
    "    font=dict(size=8),\n",
    "    xaxis=dict(showticklabels=False, showgrid=False),\n",
    "    xaxis_title=\"\",\n",
    "    title_font_size=20,  # set font size of subplot titles\n",
    ")\n",
    "\n",
    "\n",
    "# Show the figure\n",
    "save_or_show_figure(fig, \"img/FirstnameOccurenceFrequencyTop400.svg\")"
   ]
  },
  {
   "cell_type": "markdown",
   "metadata": {},
   "source": [
    "Great, but now we are tired of searching for another firstname, we want to see the general trend. We would like to see if some firstnames are in advance of movies in babynames distribution or the contrary. We are less focusing on the firstnames but more on the potential delay of correlation between movies and reality."
   ]
  },
  {
   "cell_type": "code",
   "execution_count": 122,
   "metadata": {},
   "outputs": [
    {
     "name": "stderr",
     "output_type": "stream",
     "text": [
      "C:\\Users\\paul\\AppData\\Local\\Temp\\ipykernel_30860\\3866632939.py:19: FutureWarning:\n",
      "\n",
      "The behavior of DataFrame concatenation with empty or all-NA entries is deprecated. In a future version, this will no longer exclude empty or all-NA columns when determining the result dtypes. To retain the old behavior, exclude the relevant entries before the concat operation.\n",
      "\n",
      "c:\\Users\\paul\\OneDrive\\Documents\\GitHub\\ada-2023-project-tea4two\\.venv\\lib\\site-packages\\numpy\\lib\\function_base.py:2889: RuntimeWarning:\n",
      "\n",
      "Degrees of freedom <= 0 for slice\n",
      "\n",
      "c:\\Users\\paul\\OneDrive\\Documents\\GitHub\\ada-2023-project-tea4two\\.venv\\lib\\site-packages\\numpy\\lib\\function_base.py:2748: RuntimeWarning:\n",
      "\n",
      "divide by zero encountered in divide\n",
      "\n",
      "c:\\Users\\paul\\OneDrive\\Documents\\GitHub\\ada-2023-project-tea4two\\.venv\\lib\\site-packages\\numpy\\lib\\function_base.py:2748: RuntimeWarning:\n",
      "\n",
      "invalid value encountered in multiply\n",
      "\n",
      "c:\\Users\\paul\\OneDrive\\Documents\\GitHub\\ada-2023-project-tea4two\\.venv\\lib\\site-packages\\numpy\\lib\\function_base.py:2889: RuntimeWarning:\n",
      "\n",
      "Degrees of freedom <= 0 for slice\n",
      "\n",
      "c:\\Users\\paul\\OneDrive\\Documents\\GitHub\\ada-2023-project-tea4two\\.venv\\lib\\site-packages\\numpy\\lib\\function_base.py:2748: RuntimeWarning:\n",
      "\n",
      "divide by zero encountered in divide\n",
      "\n",
      "c:\\Users\\paul\\OneDrive\\Documents\\GitHub\\ada-2023-project-tea4two\\.venv\\lib\\site-packages\\numpy\\lib\\function_base.py:2748: RuntimeWarning:\n",
      "\n",
      "invalid value encountered in multiply\n",
      "\n",
      "c:\\Users\\paul\\OneDrive\\Documents\\GitHub\\ada-2023-project-tea4two\\.venv\\lib\\site-packages\\numpy\\lib\\function_base.py:2889: RuntimeWarning:\n",
      "\n",
      "Degrees of freedom <= 0 for slice\n",
      "\n",
      "c:\\Users\\paul\\OneDrive\\Documents\\GitHub\\ada-2023-project-tea4two\\.venv\\lib\\site-packages\\numpy\\lib\\function_base.py:2748: RuntimeWarning:\n",
      "\n",
      "divide by zero encountered in divide\n",
      "\n",
      "c:\\Users\\paul\\OneDrive\\Documents\\GitHub\\ada-2023-project-tea4two\\.venv\\lib\\site-packages\\numpy\\lib\\function_base.py:2748: RuntimeWarning:\n",
      "\n",
      "invalid value encountered in multiply\n",
      "\n",
      "c:\\Users\\paul\\OneDrive\\Documents\\GitHub\\ada-2023-project-tea4two\\.venv\\lib\\site-packages\\numpy\\lib\\function_base.py:2889: RuntimeWarning:\n",
      "\n",
      "Degrees of freedom <= 0 for slice\n",
      "\n",
      "c:\\Users\\paul\\OneDrive\\Documents\\GitHub\\ada-2023-project-tea4two\\.venv\\lib\\site-packages\\numpy\\lib\\function_base.py:2748: RuntimeWarning:\n",
      "\n",
      "divide by zero encountered in divide\n",
      "\n",
      "c:\\Users\\paul\\OneDrive\\Documents\\GitHub\\ada-2023-project-tea4two\\.venv\\lib\\site-packages\\numpy\\lib\\function_base.py:2748: RuntimeWarning:\n",
      "\n",
      "invalid value encountered in multiply\n",
      "\n"
     ]
    }
   ],
   "source": [
    "correlationDF = pd.DataFrame(columns=[\"Firstname\", \"Correlation\"])\n",
    "\n",
    "for i, firstname in enumerate(sorted(top400_firstnamesDF[\"Firstname\"].unique())):\n",
    "    row = i // 20 + 1\n",
    "    col = i % 20 + 1\n",
    "    \n",
    "    # Sort the dataframes by \"Year\" for consistency\n",
    "    df1 = top400_firstnamesDF[top400_firstnamesDF[\"Firstname\"] == firstname].sort_values(by=\"Year\")\n",
    "    df2 = top400_firstnamesDF[top400_firstnamesDF[\"Firstname\"] == firstname].sort_values(by=\"Year\")\n",
    "\n",
    "    # Calculate the frequency for each year using apply\n",
    "    df1[\"Frequency\"] = df1.apply(lambda row: row[\"Number of birth\"] / births_by_year[births_by_year[\"Year\"] == row[\"Year\"]][\"Number\"].values[0], axis=1)\n",
    "    df2[\"Frequency\"] = df2.apply(lambda row: row[\"Number of occurences in movies\"] / firstnames_by_year[firstnames_by_year[\"Year\"] == row[\"Year\"]][\"Firstname\"].values[0], axis=1)\n",
    "\n",
    "    # Rename the columns\n",
    "    df1 = df1.rename(columns={\"Frequency\": \"Frequency of Birth\"})\n",
    "    df2 = df2.rename(columns={\"Frequency\": \"Frequency in Movies\"})\n",
    "    \n",
    "    correlationDF = pd.concat([correlationDF, pd.DataFrame([[firstname, df1[\"Frequency of Birth\"].corr(df2[\"Frequency in Movies\"])]], columns=[\"Firstname\", \"Correlation\"])])"
   ]
  },
  {
   "cell_type": "code",
   "execution_count": 123,
   "metadata": {},
   "outputs": [],
   "source": [
    "# Create an empty DataFrame to store the results\n",
    "cross_correlation_results = pd.DataFrame(columns=[\"FirstName\", \"Cross-Correlation\", \"Time Delay\"])\n",
    "\n",
    "# Iterate through the first names\n",
    "for firstname in top400_firstnamesDF[\"Firstname\"].unique():\n",
    "    # Sort the dataframes by \"Year\" for consistency\n",
    "    df1 = top400_firstnamesDF[top400_firstnamesDF[\"Firstname\"] == firstname].sort_values(by=\"Year\")\n",
    "    df2 = top400_firstnamesDF[top400_firstnamesDF[\"Firstname\"] == firstname].sort_values(by=\"Year\")\n",
    "\n",
    "    # Calculate the frequency for each year using apply\n",
    "    df1[\"Frequency\"] = df1.apply(lambda row: row[\"Number of birth\"] / births_by_year[births_by_year[\"Year\"] == row[\"Year\"]][\"Number\"].values[0], axis=1)\n",
    "    df2[\"Frequency\"] = df2.apply(lambda row: row[\"Number of occurences in movies\"] / firstnames_by_year[firstnames_by_year[\"Year\"] == row[\"Year\"]][\"Firstname\"].values[0], axis=1)\n",
    "\n",
    "    # Rename the columns\n",
    "    df1 = df1.rename(columns={\"Frequency\": \"Frequency of Birth\"})\n",
    "    df2 = df2.rename(columns={\"Frequency\": \"Frequency in Movies\"})\n",
    "\n",
    "    # Calculate the cross-correlation and time delay\n",
    "    cross_correlation = np.correlate(df1[\"Frequency of Birth\"], df2[\"Frequency in Movies\"], mode='full')\n",
    "    time_delay = np.argmax(cross_correlation) - (len(df2) - 1)  # Calculate the time delay\n",
    "\n",
    "    # Create a new DataFrame with the result for this firstname\n",
    "    result_df = pd.DataFrame({\"FirstName\": [firstname], \"Cross-Correlation\": [cross_correlation], \"Time Delay\": [time_delay]})\n",
    "\n",
    "    # Concatenate the result with the main DataFrame\n",
    "    cross_correlation_results = pd.concat([cross_correlation_results, result_df], ignore_index=True)"
   ]
  },
  {
   "cell_type": "code",
   "execution_count": 124,
   "metadata": {},
   "outputs": [
    {
     "name": "stdout",
     "output_type": "stream",
     "text": [
      "The first names that have 0 time delay are:\n",
      "Abraham, Al, Albert, Alice, Allen, Andrew, Andy, Anita, Anjali, Anne,\n",
      "Anthony, Arnold, Audrey, Bar, Ben, Bernard, Bruno, Bunny, Captain, Carlos,\n",
      "Catherine, Charlie, Charlotte, Chief, Chloe, Claire, Clara, Colin, Colonel, Count,\n",
      "Daisy, Daniel, Doctor, Donald, Douglas, Driver, Earl, El, Elaine, Eleanor,\n",
      "Elena, Elizabeth, Ellen, Emma, Ernie, Eugene, Eva, Evelyn, Felix, Frankie,\n",
      "Freddy, Girl, Grace, Gus, Gwen, Harvey, Hector, Henry, Iris, Jacob,\n",
      "Jake, Janet, Jesse, Jessie, Julia, Karl, Kate, Kenny, Khan, Kitty,\n",
      "Lady, Lawrence, Lee, Leo, Leon, Leonard, Lewis, Lieutenant, Little, Lola,\n",
      "Lord, Lucy, Luke, Maggie, Major, Man, Marcus, Maurice, Moe, Mohan,\n",
      "Molly, Mona, Morris, Nancy, Ned, Nelson, Nina, Nora, Norman, Oliver,\n",
      "Oscar, Philip, President, Priest, Queen, Raju, Ravi, Raymond, Rosa, Rose,\n",
      "Ruby, Ruth, Samuel, Shankar, Sharma, Sheila, Sheriff, Shirley, Sonia, Stella,\n",
      "Sylvia, Ted, The, Thomas, Vanessa, Vera, Veronica, Victor, Victoria, Vikram,\n",
      "Vincent, Warren, Will, Willie\n"
     ]
    },
    {
     "data": {
      "text/markdown": [
       "![img/TimeDelay.svg](img/TimeDelay.svg)"
      ],
      "text/plain": [
       "<IPython.core.display.Markdown object>"
      ]
     },
     "execution_count": 124,
     "metadata": {},
     "output_type": "execute_result"
    }
   ],
   "source": [
    "# Prepare Data\n",
    "df = cross_correlation_results\n",
    "\n",
    "# Group the data by 'Time Delay' and aggregate the 'FirstName' into a sorted list\n",
    "dflist = df.groupby('Time Delay')['FirstName'].apply(lambda x: sorted(x)).reset_index()\n",
    "\n",
    "# Rename the columns for clarity\n",
    "dflist.columns = ['Time Delay', 'FirstNameList']\n",
    "\n",
    "# Remove all 0 Time Delay in dflist and store them in another DataFrame\n",
    "dflist_0 = dflist[dflist[\"Time Delay\"] == 0]\n",
    "dflist = dflist[dflist[\"Time Delay\"] != 0]\n",
    "dflist['colors'] = dflist['Time Delay'].astype(float)\n",
    "\n",
    "# Convert the list of first names into a comma-separated string\n",
    "dflist['FirstNameList'] = dflist['FirstNameList'].apply(lambda names: ', '.join(names))\n",
    "\n",
    "# Sort the DataFrame by the 'Time Delay' column in ascending order\n",
    "dflist = dflist.sort_values(by=\"Time Delay\", ascending=True).reset_index(drop=True)\n",
    "\n",
    "# Create Diverging Bars Plot with the RdYlGn colormap using the log_colors\n",
    "fig = px.bar(\n",
    "    dflist,\n",
    "    x='Time Delay',\n",
    "    y=dflist.index,  # Use the index as y-axis values\n",
    "    color='colors',  # Use the log transformed values for color\n",
    "    text='FirstNameList',  # Now it contains comma-separated names\n",
    "    orientation='h',\n",
    "    width=1500,  # Increase the width to provide more space for the legend\n",
    "    height=1000,\n",
    "    color_continuous_scale='RdYlGn',  # Use a diverging colormap\n",
    "    color_continuous_midpoint= 4.14,\n",
    ")\n",
    "fig.update_traces(\n",
    "    textfont_size=12, \n",
    "    textangle=0, \n",
    "    textposition=\"outside\",\n",
    "    cliponaxis=True,\n",
    ")\n",
    "fig.update_xaxes(side=\"top\")  # Move the x-axis to the top\n",
    "\n",
    "# Update the layout for better appearance\n",
    "fig.update_layout(\n",
    "    yaxis_title='',\n",
    "    xaxis_title='Time Delay (Year)',\n",
    "    title='Comparison of Time Delay for Firstnames between Birth and Movies',\n",
    "    xaxis=dict(\n",
    "        title_font=dict(size=10),  # Set the x-axis title font size\n",
    "        tickfont=dict(size=8),\n",
    "    ),\n",
    "    font=dict(size=20),  # Set the main title font size\n",
    "    title_x=0.5,  # Center-align the title\n",
    "    yaxis=dict(\n",
    "        tickvals=dflist.index,\n",
    "        ticktext=dflist['FirstNameList'],  # Use 'FirstName' column for tick labels\n",
    "        tickfont=dict(size=8),\n",
    "        showticklabels=False,\n",
    "        showgrid=False\n",
    "    ),\n",
    "    showlegend=False,\n",
    "    plot_bgcolor=\"white\",\n",
    "    margin=dict(t=150, b=40),  # Adjust the top and bottom margins as needed\n",
    ")\n",
    "\n",
    "# Set the coloraxis title to reflect the log scale\n",
    "fig.update_coloraxes(colorbar_title=\"Time Delay\")\n",
    "fig.update_coloraxes(colorbar_tickfont_size=8)  # Set the color axis font size\n",
    "fig.update_coloraxes(colorbar_len=0.6, colorbar_thickness=20)  # Adjust the color bar size\n",
    "\n",
    "\n",
    "#Add annotations\n",
    "str1=\"Movies in advance of Birth\"\n",
    "str2=\"Movies after Birth\"\n",
    "fig.add_annotation(x=-12, y=60, text=str1, font=dict(size=16), showarrow=False)\n",
    "fig.add_annotation(x=7, y=23, text=str2, font=dict(size=16), showarrow=False)\n",
    "\n",
    "first_names = dflist_0[\"FirstNameList\"].values[0]\n",
    "formatted_names = \",\\n\".join(\", \".join(first_names[i:i+10]) for i in range(0, len(first_names), 10))\n",
    "print(\"The first names that have 0 time delay are:\")\n",
    "print(formatted_names)\n",
    "\n",
    "save_or_show_figure(fig, \"img/TimeDelay.svg\")"
   ]
  },
  {
   "cell_type": "markdown",
   "metadata": {},
   "source": [
    "This is a more proper way to improve our thoughts on the potential correlation of the firstnames in movies and in reality. As from the beginning, we want to see the trends, we will have to continue on this way for the final analysis. This new argument that will help us to affine our analysis:\n",
    "- We are not focusing on feminity or masculinity of the firstname\n",
    "- We are not focusing on the origin/country of the firstname\n",
    "- We could look to see if trendy firstnames in reality have a trend delay in movies"
   ]
  },
  {
   "cell_type": "markdown",
   "metadata": {},
   "source": [
    "# 3. What would be the ideal dataset to give to aliens so they have the best picture of our civilization"
   ]
  }
 ],
 "metadata": {
  "kernelspec": {
   "display_name": "Python 3 (ipykernel)",
   "language": "python",
   "name": "python3"
  },
  "language_info": {
   "codemirror_mode": {
    "name": "ipython",
    "version": 3
   },
   "file_extension": ".py",
   "mimetype": "text/x-python",
   "name": "python",
   "nbconvert_exporter": "python",
   "pygments_lexer": "ipython3",
   "version": "3.10.11"
  }
 },
 "nbformat": 4,
 "nbformat_minor": 5
}
