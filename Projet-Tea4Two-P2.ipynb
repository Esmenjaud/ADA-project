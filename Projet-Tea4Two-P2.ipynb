{
 "cells": [
  {
   "cell_type": "markdown",
   "metadata": {},
   "source": [
    "# 0. Import librairies"
   ]
  },
  {
   "cell_type": "code",
   "execution_count": 1,
   "metadata": {},
   "outputs": [],
   "source": [
    "%%capture\n",
    "# Install dependencies\n",
    "!{sys.executable} -m pip install -r \"./_SET_UP/requirements.txt\""
   ]
  },
  {
   "cell_type": "code",
   "execution_count": 2,
   "metadata": {},
   "outputs": [],
   "source": [
    "# Import libraries\n",
    "import pandas as pd\n",
    "import numpy as np\n",
    "import os\n",
    "import json\n",
    "import matplotlib.pyplot as plt\n",
    "import plotly.express as px\n",
    "import plotly.graph_objects as go\n",
    "import plotly.graph_objects as go\n",
    "from IPython.display import Markdown\n",
    "from kaleido.scopes.plotly import PlotlyScope\n",
    "from wordcloud import WordCloud, ImageColorGenerator\n",
    "from plotly.subplots import make_subplots"
   ]
  },
  {
   "cell_type": "code",
   "execution_count": 3,
   "metadata": {},
   "outputs": [],
   "source": [
    "# Import external functions\n",
    "from EXTERNAL_FUNCTIONS import DataImport"
   ]
  },
  {
   "cell_type": "markdown",
   "metadata": {},
   "source": [
    "Import the dataset MovieSummaries"
   ]
  },
  {
   "cell_type": "code",
   "execution_count": 4,
   "metadata": {},
   "outputs": [
    {
     "name": "stderr",
     "output_type": "stream",
     "text": [
      "c:\\Users\\paul\\OneDrive\\Documents\\GitHub\\ada-2023-project-tea4two\\EXTERNAL_FUNCTIONS\\DataImport.py:27: ParserWarning: Length of header or names does not match length of data. This leads to a loss of data with index_col=False.\n",
      "  characterDF = pd.read_table(character_file, names=character_col, index_col=False)\n"
     ]
    }
   ],
   "source": [
    "PATH_IN = './DATA/MovieSummaries'\n",
    "\n",
    "# Import data\n",
    "characterDF,movieDF,nameDF,plotDF,tvtropDF = DataImport.OpenMainMovieDatasetDF(PATH_IN)\n",
    "\n",
    "# Main dataframe\n",
    "dataframeList = [characterDF,movieDF,nameDF,plotDF,tvtropDF]\n",
    "dataframeNameList = ['characterDF','movieDF','nameDF','plotDF','tvtropDF']"
   ]
  },
  {
   "cell_type": "code",
   "execution_count": 5,
   "metadata": {},
   "outputs": [
    {
     "name": "stdout",
     "output_type": "stream",
     "text": [
      "------------ characterDF ------------\n"
     ]
    },
    {
     "data": {
      "text/html": [
       "<div>\n",
       "<style scoped>\n",
       "    .dataframe tbody tr th:only-of-type {\n",
       "        vertical-align: middle;\n",
       "    }\n",
       "\n",
       "    .dataframe tbody tr th {\n",
       "        vertical-align: top;\n",
       "    }\n",
       "\n",
       "    .dataframe thead th {\n",
       "        text-align: right;\n",
       "    }\n",
       "</style>\n",
       "<table border=\"1\" class=\"dataframe\">\n",
       "  <thead>\n",
       "    <tr style=\"text-align: right;\">\n",
       "      <th></th>\n",
       "      <th>Wikipedia movie ID</th>\n",
       "      <th>Actor height</th>\n",
       "      <th>Actor age at movie release</th>\n",
       "    </tr>\n",
       "  </thead>\n",
       "  <tbody>\n",
       "    <tr>\n",
       "      <th>count</th>\n",
       "      <td>4.506690e+05</td>\n",
       "      <td>154824.000000</td>\n",
       "      <td>292556.000000</td>\n",
       "    </tr>\n",
       "    <tr>\n",
       "      <th>mean</th>\n",
       "      <td>1.396975e+07</td>\n",
       "      <td>1.788893</td>\n",
       "      <td>37.788523</td>\n",
       "    </tr>\n",
       "    <tr>\n",
       "      <th>std</th>\n",
       "      <td>1.079662e+07</td>\n",
       "      <td>4.379940</td>\n",
       "      <td>20.587870</td>\n",
       "    </tr>\n",
       "    <tr>\n",
       "      <th>min</th>\n",
       "      <td>3.300000e+02</td>\n",
       "      <td>0.610000</td>\n",
       "      <td>-7896.000000</td>\n",
       "    </tr>\n",
       "    <tr>\n",
       "      <th>25%</th>\n",
       "      <td>3.759292e+06</td>\n",
       "      <td>1.676400</td>\n",
       "      <td>28.000000</td>\n",
       "    </tr>\n",
       "    <tr>\n",
       "      <th>50%</th>\n",
       "      <td>1.189065e+07</td>\n",
       "      <td>1.750000</td>\n",
       "      <td>36.000000</td>\n",
       "    </tr>\n",
       "    <tr>\n",
       "      <th>75%</th>\n",
       "      <td>2.366501e+07</td>\n",
       "      <td>1.830000</td>\n",
       "      <td>47.000000</td>\n",
       "    </tr>\n",
       "    <tr>\n",
       "      <th>max</th>\n",
       "      <td>3.750192e+07</td>\n",
       "      <td>510.000000</td>\n",
       "      <td>103.000000</td>\n",
       "    </tr>\n",
       "  </tbody>\n",
       "</table>\n",
       "</div>"
      ],
      "text/plain": [
       "       Wikipedia movie ID   Actor height  Actor age at movie release\n",
       "count        4.506690e+05  154824.000000               292556.000000\n",
       "mean         1.396975e+07       1.788893                   37.788523\n",
       "std          1.079662e+07       4.379940                   20.587870\n",
       "min          3.300000e+02       0.610000                -7896.000000\n",
       "25%          3.759292e+06       1.676400                   28.000000\n",
       "50%          1.189065e+07       1.750000                   36.000000\n",
       "75%          2.366501e+07       1.830000                   47.000000\n",
       "max          3.750192e+07     510.000000                  103.000000"
      ]
     },
     "metadata": {},
     "output_type": "display_data"
    },
    {
     "name": "stdout",
     "output_type": "stream",
     "text": [
      "-------------------------------------\n",
      "\n",
      "------------ movieDF ------------\n"
     ]
    },
    {
     "data": {
      "text/html": [
       "<div>\n",
       "<style scoped>\n",
       "    .dataframe tbody tr th:only-of-type {\n",
       "        vertical-align: middle;\n",
       "    }\n",
       "\n",
       "    .dataframe tbody tr th {\n",
       "        vertical-align: top;\n",
       "    }\n",
       "\n",
       "    .dataframe thead th {\n",
       "        text-align: right;\n",
       "    }\n",
       "</style>\n",
       "<table border=\"1\" class=\"dataframe\">\n",
       "  <thead>\n",
       "    <tr style=\"text-align: right;\">\n",
       "      <th></th>\n",
       "      <th>Wikipedia movie ID</th>\n",
       "      <th>Movie box office revenue</th>\n",
       "      <th>Movie runtime</th>\n",
       "    </tr>\n",
       "  </thead>\n",
       "  <tbody>\n",
       "    <tr>\n",
       "      <th>count</th>\n",
       "      <td>8.174100e+04</td>\n",
       "      <td>8.401000e+03</td>\n",
       "      <td>6.129100e+04</td>\n",
       "    </tr>\n",
       "    <tr>\n",
       "      <th>mean</th>\n",
       "      <td>1.740784e+07</td>\n",
       "      <td>4.799363e+07</td>\n",
       "      <td>1.118192e+02</td>\n",
       "    </tr>\n",
       "    <tr>\n",
       "      <th>std</th>\n",
       "      <td>1.098791e+07</td>\n",
       "      <td>1.121753e+08</td>\n",
       "      <td>4.360070e+03</td>\n",
       "    </tr>\n",
       "    <tr>\n",
       "      <th>min</th>\n",
       "      <td>3.300000e+02</td>\n",
       "      <td>1.000000e+04</td>\n",
       "      <td>0.000000e+00</td>\n",
       "    </tr>\n",
       "    <tr>\n",
       "      <th>25%</th>\n",
       "      <td>7.323695e+06</td>\n",
       "      <td>2.083193e+06</td>\n",
       "      <td>8.100000e+01</td>\n",
       "    </tr>\n",
       "    <tr>\n",
       "      <th>50%</th>\n",
       "      <td>1.777899e+07</td>\n",
       "      <td>1.063969e+07</td>\n",
       "      <td>9.300000e+01</td>\n",
       "    </tr>\n",
       "    <tr>\n",
       "      <th>75%</th>\n",
       "      <td>2.715573e+07</td>\n",
       "      <td>4.071696e+07</td>\n",
       "      <td>1.060000e+02</td>\n",
       "    </tr>\n",
       "    <tr>\n",
       "      <th>max</th>\n",
       "      <td>3.750192e+07</td>\n",
       "      <td>2.782275e+09</td>\n",
       "      <td>1.079281e+06</td>\n",
       "    </tr>\n",
       "  </tbody>\n",
       "</table>\n",
       "</div>"
      ],
      "text/plain": [
       "       Wikipedia movie ID  Movie box office revenue  Movie runtime\n",
       "count        8.174100e+04              8.401000e+03   6.129100e+04\n",
       "mean         1.740784e+07              4.799363e+07   1.118192e+02\n",
       "std          1.098791e+07              1.121753e+08   4.360070e+03\n",
       "min          3.300000e+02              1.000000e+04   0.000000e+00\n",
       "25%          7.323695e+06              2.083193e+06   8.100000e+01\n",
       "50%          1.777899e+07              1.063969e+07   9.300000e+01\n",
       "75%          2.715573e+07              4.071696e+07   1.060000e+02\n",
       "max          3.750192e+07              2.782275e+09   1.079281e+06"
      ]
     },
     "metadata": {},
     "output_type": "display_data"
    },
    {
     "name": "stdout",
     "output_type": "stream",
     "text": [
      "-------------------------------------\n",
      "\n",
      "------------ nameDF ------------\n"
     ]
    },
    {
     "data": {
      "text/html": [
       "<div>\n",
       "<style scoped>\n",
       "    .dataframe tbody tr th:only-of-type {\n",
       "        vertical-align: middle;\n",
       "    }\n",
       "\n",
       "    .dataframe tbody tr th {\n",
       "        vertical-align: top;\n",
       "    }\n",
       "\n",
       "    .dataframe thead th {\n",
       "        text-align: right;\n",
       "    }\n",
       "</style>\n",
       "<table border=\"1\" class=\"dataframe\">\n",
       "  <thead>\n",
       "    <tr style=\"text-align: right;\">\n",
       "      <th></th>\n",
       "      <th>Character Name</th>\n",
       "      <th>Freebase character map</th>\n",
       "    </tr>\n",
       "  </thead>\n",
       "  <tbody>\n",
       "    <tr>\n",
       "      <th>count</th>\n",
       "      <td>2666</td>\n",
       "      <td>2666</td>\n",
       "    </tr>\n",
       "    <tr>\n",
       "      <th>unique</th>\n",
       "      <td>970</td>\n",
       "      <td>2661</td>\n",
       "    </tr>\n",
       "    <tr>\n",
       "      <th>top</th>\n",
       "      <td>Daffy Duck</td>\n",
       "      <td>/m/0gcy23_</td>\n",
       "    </tr>\n",
       "    <tr>\n",
       "      <th>freq</th>\n",
       "      <td>42</td>\n",
       "      <td>2</td>\n",
       "    </tr>\n",
       "  </tbody>\n",
       "</table>\n",
       "</div>"
      ],
      "text/plain": [
       "       Character Name Freebase character map\n",
       "count            2666                   2666\n",
       "unique            970                   2661\n",
       "top        Daffy Duck             /m/0gcy23_\n",
       "freq               42                      2"
      ]
     },
     "metadata": {},
     "output_type": "display_data"
    },
    {
     "name": "stdout",
     "output_type": "stream",
     "text": [
      "-------------------------------------\n",
      "\n",
      "------------ plotDF ------------\n"
     ]
    },
    {
     "data": {
      "text/html": [
       "<div>\n",
       "<style scoped>\n",
       "    .dataframe tbody tr th:only-of-type {\n",
       "        vertical-align: middle;\n",
       "    }\n",
       "\n",
       "    .dataframe tbody tr th {\n",
       "        vertical-align: top;\n",
       "    }\n",
       "\n",
       "    .dataframe thead th {\n",
       "        text-align: right;\n",
       "    }\n",
       "</style>\n",
       "<table border=\"1\" class=\"dataframe\">\n",
       "  <thead>\n",
       "    <tr style=\"text-align: right;\">\n",
       "      <th></th>\n",
       "      <th>Wikipedia movie ID</th>\n",
       "    </tr>\n",
       "  </thead>\n",
       "  <tbody>\n",
       "    <tr>\n",
       "      <th>count</th>\n",
       "      <td>4.230300e+04</td>\n",
       "    </tr>\n",
       "    <tr>\n",
       "      <th>mean</th>\n",
       "      <td>1.497051e+07</td>\n",
       "    </tr>\n",
       "    <tr>\n",
       "      <th>std</th>\n",
       "      <td>1.111994e+07</td>\n",
       "    </tr>\n",
       "    <tr>\n",
       "      <th>min</th>\n",
       "      <td>3.300000e+02</td>\n",
       "    </tr>\n",
       "    <tr>\n",
       "      <th>25%</th>\n",
       "      <td>4.565802e+06</td>\n",
       "    </tr>\n",
       "    <tr>\n",
       "      <th>50%</th>\n",
       "      <td>1.284591e+07</td>\n",
       "    </tr>\n",
       "    <tr>\n",
       "      <th>75%</th>\n",
       "      <td>2.485168e+07</td>\n",
       "    </tr>\n",
       "    <tr>\n",
       "      <th>max</th>\n",
       "      <td>3.750192e+07</td>\n",
       "    </tr>\n",
       "  </tbody>\n",
       "</table>\n",
       "</div>"
      ],
      "text/plain": [
       "       Wikipedia movie ID\n",
       "count        4.230300e+04\n",
       "mean         1.497051e+07\n",
       "std          1.111994e+07\n",
       "min          3.300000e+02\n",
       "25%          4.565802e+06\n",
       "50%          1.284591e+07\n",
       "75%          2.485168e+07\n",
       "max          3.750192e+07"
      ]
     },
     "metadata": {},
     "output_type": "display_data"
    },
    {
     "name": "stdout",
     "output_type": "stream",
     "text": [
      "-------------------------------------\n",
      "\n",
      "------------ tvtropDF ------------\n"
     ]
    },
    {
     "data": {
      "text/html": [
       "<div>\n",
       "<style scoped>\n",
       "    .dataframe tbody tr th:only-of-type {\n",
       "        vertical-align: middle;\n",
       "    }\n",
       "\n",
       "    .dataframe tbody tr th {\n",
       "        vertical-align: top;\n",
       "    }\n",
       "\n",
       "    .dataframe thead th {\n",
       "        text-align: right;\n",
       "    }\n",
       "</style>\n",
       "<table border=\"1\" class=\"dataframe\">\n",
       "  <thead>\n",
       "    <tr style=\"text-align: right;\">\n",
       "      <th></th>\n",
       "      <th>stereotype</th>\n",
       "      <th>char</th>\n",
       "      <th>movie</th>\n",
       "      <th>id</th>\n",
       "      <th>actor</th>\n",
       "    </tr>\n",
       "  </thead>\n",
       "  <tbody>\n",
       "    <tr>\n",
       "      <th>count</th>\n",
       "      <td>501</td>\n",
       "      <td>501</td>\n",
       "      <td>501</td>\n",
       "      <td>501</td>\n",
       "      <td>501</td>\n",
       "    </tr>\n",
       "    <tr>\n",
       "      <th>unique</th>\n",
       "      <td>72</td>\n",
       "      <td>434</td>\n",
       "      <td>383</td>\n",
       "      <td>447</td>\n",
       "      <td>350</td>\n",
       "    </tr>\n",
       "    <tr>\n",
       "      <th>top</th>\n",
       "      <td>crazy_jealous_guy</td>\n",
       "      <td>Captain Jack Sparrow</td>\n",
       "      <td>Pirates of the Caribbean: Dead Man's Chest</td>\n",
       "      <td>/m/0k1xxm</td>\n",
       "      <td>Robert De Niro</td>\n",
       "    </tr>\n",
       "    <tr>\n",
       "      <th>freq</th>\n",
       "      <td>25</td>\n",
       "      <td>5</td>\n",
       "      <td>7</td>\n",
       "      <td>5</td>\n",
       "      <td>9</td>\n",
       "    </tr>\n",
       "  </tbody>\n",
       "</table>\n",
       "</div>"
      ],
      "text/plain": [
       "               stereotype                  char  \\\n",
       "count                 501                   501   \n",
       "unique                 72                   434   \n",
       "top     crazy_jealous_guy  Captain Jack Sparrow   \n",
       "freq                   25                     5   \n",
       "\n",
       "                                             movie         id           actor  \n",
       "count                                          501        501             501  \n",
       "unique                                         383        447             350  \n",
       "top     Pirates of the Caribbean: Dead Man's Chest  /m/0k1xxm  Robert De Niro  \n",
       "freq                                             7          5               9  "
      ]
     },
     "metadata": {},
     "output_type": "display_data"
    },
    {
     "name": "stdout",
     "output_type": "stream",
     "text": [
      "-------------------------------------\n",
      "\n"
     ]
    }
   ],
   "source": [
    "# Display description of the dataframes\n",
    "for df, name in zip(dataframeList, dataframeNameList):\n",
    "    print(f\"------------ {name} ------------\")\n",
    "    display(df.describe())\n",
    "    print(\"-------------------------------------\\n\")"
   ]
  },
  {
   "cell_type": "code",
   "execution_count": 6,
   "metadata": {},
   "outputs": [
    {
     "name": "stdout",
     "output_type": "stream",
     "text": [
      "------------ characterDF ------------\n"
     ]
    },
    {
     "data": {
      "text/html": [
       "<div>\n",
       "<style scoped>\n",
       "    .dataframe tbody tr th:only-of-type {\n",
       "        vertical-align: middle;\n",
       "    }\n",
       "\n",
       "    .dataframe tbody tr th {\n",
       "        vertical-align: top;\n",
       "    }\n",
       "\n",
       "    .dataframe thead th {\n",
       "        text-align: right;\n",
       "    }\n",
       "</style>\n",
       "<table border=\"1\" class=\"dataframe\">\n",
       "  <thead>\n",
       "    <tr style=\"text-align: right;\">\n",
       "      <th></th>\n",
       "      <th>Wikipedia movie ID</th>\n",
       "      <th>Actor height</th>\n",
       "      <th>Actor age at movie release</th>\n",
       "    </tr>\n",
       "  </thead>\n",
       "  <tbody>\n",
       "    <tr>\n",
       "      <th>count</th>\n",
       "      <td>4.506690e+05</td>\n",
       "      <td>154824.000000</td>\n",
       "      <td>292556.000000</td>\n",
       "    </tr>\n",
       "    <tr>\n",
       "      <th>mean</th>\n",
       "      <td>1.396975e+07</td>\n",
       "      <td>1.788893</td>\n",
       "      <td>37.788523</td>\n",
       "    </tr>\n",
       "    <tr>\n",
       "      <th>std</th>\n",
       "      <td>1.079662e+07</td>\n",
       "      <td>4.379940</td>\n",
       "      <td>20.587870</td>\n",
       "    </tr>\n",
       "    <tr>\n",
       "      <th>min</th>\n",
       "      <td>3.300000e+02</td>\n",
       "      <td>0.610000</td>\n",
       "      <td>-7896.000000</td>\n",
       "    </tr>\n",
       "    <tr>\n",
       "      <th>25%</th>\n",
       "      <td>3.759292e+06</td>\n",
       "      <td>1.676400</td>\n",
       "      <td>28.000000</td>\n",
       "    </tr>\n",
       "    <tr>\n",
       "      <th>50%</th>\n",
       "      <td>1.189065e+07</td>\n",
       "      <td>1.750000</td>\n",
       "      <td>36.000000</td>\n",
       "    </tr>\n",
       "    <tr>\n",
       "      <th>75%</th>\n",
       "      <td>2.366501e+07</td>\n",
       "      <td>1.830000</td>\n",
       "      <td>47.000000</td>\n",
       "    </tr>\n",
       "    <tr>\n",
       "      <th>max</th>\n",
       "      <td>3.750192e+07</td>\n",
       "      <td>510.000000</td>\n",
       "      <td>103.000000</td>\n",
       "    </tr>\n",
       "  </tbody>\n",
       "</table>\n",
       "</div>"
      ],
      "text/plain": [
       "       Wikipedia movie ID   Actor height  Actor age at movie release\n",
       "count        4.506690e+05  154824.000000               292556.000000\n",
       "mean         1.396975e+07       1.788893                   37.788523\n",
       "std          1.079662e+07       4.379940                   20.587870\n",
       "min          3.300000e+02       0.610000                -7896.000000\n",
       "25%          3.759292e+06       1.676400                   28.000000\n",
       "50%          1.189065e+07       1.750000                   36.000000\n",
       "75%          2.366501e+07       1.830000                   47.000000\n",
       "max          3.750192e+07     510.000000                  103.000000"
      ]
     },
     "metadata": {},
     "output_type": "display_data"
    },
    {
     "name": "stdout",
     "output_type": "stream",
     "text": [
      "-------------------------------------\n",
      "\n",
      "------------ movieDF ------------\n"
     ]
    },
    {
     "data": {
      "text/html": [
       "<div>\n",
       "<style scoped>\n",
       "    .dataframe tbody tr th:only-of-type {\n",
       "        vertical-align: middle;\n",
       "    }\n",
       "\n",
       "    .dataframe tbody tr th {\n",
       "        vertical-align: top;\n",
       "    }\n",
       "\n",
       "    .dataframe thead th {\n",
       "        text-align: right;\n",
       "    }\n",
       "</style>\n",
       "<table border=\"1\" class=\"dataframe\">\n",
       "  <thead>\n",
       "    <tr style=\"text-align: right;\">\n",
       "      <th></th>\n",
       "      <th>Wikipedia movie ID</th>\n",
       "      <th>Movie box office revenue</th>\n",
       "      <th>Movie runtime</th>\n",
       "    </tr>\n",
       "  </thead>\n",
       "  <tbody>\n",
       "    <tr>\n",
       "      <th>count</th>\n",
       "      <td>8.174100e+04</td>\n",
       "      <td>8.401000e+03</td>\n",
       "      <td>6.129100e+04</td>\n",
       "    </tr>\n",
       "    <tr>\n",
       "      <th>mean</th>\n",
       "      <td>1.740784e+07</td>\n",
       "      <td>4.799363e+07</td>\n",
       "      <td>1.118192e+02</td>\n",
       "    </tr>\n",
       "    <tr>\n",
       "      <th>std</th>\n",
       "      <td>1.098791e+07</td>\n",
       "      <td>1.121753e+08</td>\n",
       "      <td>4.360070e+03</td>\n",
       "    </tr>\n",
       "    <tr>\n",
       "      <th>min</th>\n",
       "      <td>3.300000e+02</td>\n",
       "      <td>1.000000e+04</td>\n",
       "      <td>0.000000e+00</td>\n",
       "    </tr>\n",
       "    <tr>\n",
       "      <th>25%</th>\n",
       "      <td>7.323695e+06</td>\n",
       "      <td>2.083193e+06</td>\n",
       "      <td>8.100000e+01</td>\n",
       "    </tr>\n",
       "    <tr>\n",
       "      <th>50%</th>\n",
       "      <td>1.777899e+07</td>\n",
       "      <td>1.063969e+07</td>\n",
       "      <td>9.300000e+01</td>\n",
       "    </tr>\n",
       "    <tr>\n",
       "      <th>75%</th>\n",
       "      <td>2.715573e+07</td>\n",
       "      <td>4.071696e+07</td>\n",
       "      <td>1.060000e+02</td>\n",
       "    </tr>\n",
       "    <tr>\n",
       "      <th>max</th>\n",
       "      <td>3.750192e+07</td>\n",
       "      <td>2.782275e+09</td>\n",
       "      <td>1.079281e+06</td>\n",
       "    </tr>\n",
       "  </tbody>\n",
       "</table>\n",
       "</div>"
      ],
      "text/plain": [
       "       Wikipedia movie ID  Movie box office revenue  Movie runtime\n",
       "count        8.174100e+04              8.401000e+03   6.129100e+04\n",
       "mean         1.740784e+07              4.799363e+07   1.118192e+02\n",
       "std          1.098791e+07              1.121753e+08   4.360070e+03\n",
       "min          3.300000e+02              1.000000e+04   0.000000e+00\n",
       "25%          7.323695e+06              2.083193e+06   8.100000e+01\n",
       "50%          1.777899e+07              1.063969e+07   9.300000e+01\n",
       "75%          2.715573e+07              4.071696e+07   1.060000e+02\n",
       "max          3.750192e+07              2.782275e+09   1.079281e+06"
      ]
     },
     "metadata": {},
     "output_type": "display_data"
    },
    {
     "name": "stdout",
     "output_type": "stream",
     "text": [
      "-------------------------------------\n",
      "\n",
      "------------ nameDF ------------\n"
     ]
    },
    {
     "data": {
      "text/html": [
       "<div>\n",
       "<style scoped>\n",
       "    .dataframe tbody tr th:only-of-type {\n",
       "        vertical-align: middle;\n",
       "    }\n",
       "\n",
       "    .dataframe tbody tr th {\n",
       "        vertical-align: top;\n",
       "    }\n",
       "\n",
       "    .dataframe thead th {\n",
       "        text-align: right;\n",
       "    }\n",
       "</style>\n",
       "<table border=\"1\" class=\"dataframe\">\n",
       "  <thead>\n",
       "    <tr style=\"text-align: right;\">\n",
       "      <th></th>\n",
       "      <th>Character Name</th>\n",
       "      <th>Freebase character map</th>\n",
       "    </tr>\n",
       "  </thead>\n",
       "  <tbody>\n",
       "    <tr>\n",
       "      <th>count</th>\n",
       "      <td>2666</td>\n",
       "      <td>2666</td>\n",
       "    </tr>\n",
       "    <tr>\n",
       "      <th>unique</th>\n",
       "      <td>970</td>\n",
       "      <td>2661</td>\n",
       "    </tr>\n",
       "    <tr>\n",
       "      <th>top</th>\n",
       "      <td>Daffy Duck</td>\n",
       "      <td>/m/0gcy23_</td>\n",
       "    </tr>\n",
       "    <tr>\n",
       "      <th>freq</th>\n",
       "      <td>42</td>\n",
       "      <td>2</td>\n",
       "    </tr>\n",
       "  </tbody>\n",
       "</table>\n",
       "</div>"
      ],
      "text/plain": [
       "       Character Name Freebase character map\n",
       "count            2666                   2666\n",
       "unique            970                   2661\n",
       "top        Daffy Duck             /m/0gcy23_\n",
       "freq               42                      2"
      ]
     },
     "metadata": {},
     "output_type": "display_data"
    },
    {
     "name": "stdout",
     "output_type": "stream",
     "text": [
      "-------------------------------------\n",
      "\n",
      "------------ tvtropDF ------------\n"
     ]
    },
    {
     "data": {
      "text/html": [
       "<div>\n",
       "<style scoped>\n",
       "    .dataframe tbody tr th:only-of-type {\n",
       "        vertical-align: middle;\n",
       "    }\n",
       "\n",
       "    .dataframe tbody tr th {\n",
       "        vertical-align: top;\n",
       "    }\n",
       "\n",
       "    .dataframe thead th {\n",
       "        text-align: right;\n",
       "    }\n",
       "</style>\n",
       "<table border=\"1\" class=\"dataframe\">\n",
       "  <thead>\n",
       "    <tr style=\"text-align: right;\">\n",
       "      <th></th>\n",
       "      <th>stereotype</th>\n",
       "      <th>char</th>\n",
       "      <th>movie</th>\n",
       "      <th>id</th>\n",
       "      <th>actor</th>\n",
       "    </tr>\n",
       "  </thead>\n",
       "  <tbody>\n",
       "    <tr>\n",
       "      <th>count</th>\n",
       "      <td>501</td>\n",
       "      <td>501</td>\n",
       "      <td>501</td>\n",
       "      <td>501</td>\n",
       "      <td>501</td>\n",
       "    </tr>\n",
       "    <tr>\n",
       "      <th>unique</th>\n",
       "      <td>72</td>\n",
       "      <td>434</td>\n",
       "      <td>383</td>\n",
       "      <td>447</td>\n",
       "      <td>350</td>\n",
       "    </tr>\n",
       "    <tr>\n",
       "      <th>top</th>\n",
       "      <td>crazy_jealous_guy</td>\n",
       "      <td>Captain Jack Sparrow</td>\n",
       "      <td>Pirates of the Caribbean: Dead Man's Chest</td>\n",
       "      <td>/m/0k1xxm</td>\n",
       "      <td>Robert De Niro</td>\n",
       "    </tr>\n",
       "    <tr>\n",
       "      <th>freq</th>\n",
       "      <td>25</td>\n",
       "      <td>5</td>\n",
       "      <td>7</td>\n",
       "      <td>5</td>\n",
       "      <td>9</td>\n",
       "    </tr>\n",
       "  </tbody>\n",
       "</table>\n",
       "</div>"
      ],
      "text/plain": [
       "               stereotype                  char  \\\n",
       "count                 501                   501   \n",
       "unique                 72                   434   \n",
       "top     crazy_jealous_guy  Captain Jack Sparrow   \n",
       "freq                   25                     5   \n",
       "\n",
       "                                             movie         id           actor  \n",
       "count                                          501        501             501  \n",
       "unique                                         383        447             350  \n",
       "top     Pirates of the Caribbean: Dead Man's Chest  /m/0k1xxm  Robert De Niro  \n",
       "freq                                             7          5               9  "
      ]
     },
     "metadata": {},
     "output_type": "display_data"
    },
    {
     "name": "stdout",
     "output_type": "stream",
     "text": [
      "-------------------------------------\n",
      "\n"
     ]
    }
   ],
   "source": [
    "# Display description of the dataframes\n",
    "for df, name in zip(dataframeList, dataframeNameList):\n",
    "    if name == 'plotDF':\n",
    "        continue\n",
    "    print(f\"------------ {name} ------------\")\n",
    "    display(df.describe())\n",
    "    print(\"-------------------------------------\\n\")"
   ]
  },
  {
   "cell_type": "code",
   "execution_count": 7,
   "metadata": {},
   "outputs": [
    {
     "name": "stdout",
     "output_type": "stream",
     "text": [
      "------------ characterDF ------------\n"
     ]
    },
    {
     "data": {
      "text/html": [
       "<div>\n",
       "<style scoped>\n",
       "    .dataframe tbody tr th:only-of-type {\n",
       "        vertical-align: middle;\n",
       "    }\n",
       "\n",
       "    .dataframe tbody tr th {\n",
       "        vertical-align: top;\n",
       "    }\n",
       "\n",
       "    .dataframe thead th {\n",
       "        text-align: right;\n",
       "    }\n",
       "</style>\n",
       "<table border=\"1\" class=\"dataframe\">\n",
       "  <thead>\n",
       "    <tr style=\"text-align: right;\">\n",
       "      <th></th>\n",
       "      <th>Total Missing</th>\n",
       "      <th>Total Values</th>\n",
       "      <th>Percentage Missing</th>\n",
       "    </tr>\n",
       "  </thead>\n",
       "  <tbody>\n",
       "    <tr>\n",
       "      <th>Wikipedia movie ID</th>\n",
       "      <td>0</td>\n",
       "      <td>450669</td>\n",
       "      <td>0.000000</td>\n",
       "    </tr>\n",
       "    <tr>\n",
       "      <th>Freebase movie ID</th>\n",
       "      <td>0</td>\n",
       "      <td>450669</td>\n",
       "      <td>0.000000</td>\n",
       "    </tr>\n",
       "    <tr>\n",
       "      <th>Movie release date</th>\n",
       "      <td>9995</td>\n",
       "      <td>440674</td>\n",
       "      <td>2.217814</td>\n",
       "    </tr>\n",
       "    <tr>\n",
       "      <th>Character Name</th>\n",
       "      <td>257875</td>\n",
       "      <td>192794</td>\n",
       "      <td>57.220488</td>\n",
       "    </tr>\n",
       "    <tr>\n",
       "      <th>Actor DOB</th>\n",
       "      <td>106145</td>\n",
       "      <td>344524</td>\n",
       "      <td>23.552763</td>\n",
       "    </tr>\n",
       "    <tr>\n",
       "      <th>Actor gender</th>\n",
       "      <td>45609</td>\n",
       "      <td>405060</td>\n",
       "      <td>10.120288</td>\n",
       "    </tr>\n",
       "    <tr>\n",
       "      <th>Actor height</th>\n",
       "      <td>295845</td>\n",
       "      <td>154824</td>\n",
       "      <td>65.645740</td>\n",
       "    </tr>\n",
       "    <tr>\n",
       "      <th>Actor ethnicity</th>\n",
       "      <td>344611</td>\n",
       "      <td>106058</td>\n",
       "      <td>76.466542</td>\n",
       "    </tr>\n",
       "    <tr>\n",
       "      <th>Actor Name</th>\n",
       "      <td>1228</td>\n",
       "      <td>449441</td>\n",
       "      <td>0.272484</td>\n",
       "    </tr>\n",
       "    <tr>\n",
       "      <th>Actor age at movie release</th>\n",
       "      <td>158113</td>\n",
       "      <td>292556</td>\n",
       "      <td>35.084064</td>\n",
       "    </tr>\n",
       "    <tr>\n",
       "      <th>Freebase character map</th>\n",
       "      <td>0</td>\n",
       "      <td>450669</td>\n",
       "      <td>0.000000</td>\n",
       "    </tr>\n",
       "  </tbody>\n",
       "</table>\n",
       "</div>"
      ],
      "text/plain": [
       "                            Total Missing  Total Values  Percentage Missing\n",
       "Wikipedia movie ID                      0        450669            0.000000\n",
       "Freebase movie ID                       0        450669            0.000000\n",
       "Movie release date                   9995        440674            2.217814\n",
       "Character Name                     257875        192794           57.220488\n",
       "Actor DOB                          106145        344524           23.552763\n",
       "Actor gender                        45609        405060           10.120288\n",
       "Actor height                       295845        154824           65.645740\n",
       "Actor ethnicity                    344611        106058           76.466542\n",
       "Actor Name                           1228        449441            0.272484\n",
       "Actor age at movie release         158113        292556           35.084064\n",
       "Freebase character map                  0        450669            0.000000"
      ]
     },
     "metadata": {},
     "output_type": "display_data"
    },
    {
     "name": "stdout",
     "output_type": "stream",
     "text": [
      "-------------------------------------\n",
      "\n",
      "------------ movieDF ------------\n"
     ]
    },
    {
     "data": {
      "text/html": [
       "<div>\n",
       "<style scoped>\n",
       "    .dataframe tbody tr th:only-of-type {\n",
       "        vertical-align: middle;\n",
       "    }\n",
       "\n",
       "    .dataframe tbody tr th {\n",
       "        vertical-align: top;\n",
       "    }\n",
       "\n",
       "    .dataframe thead th {\n",
       "        text-align: right;\n",
       "    }\n",
       "</style>\n",
       "<table border=\"1\" class=\"dataframe\">\n",
       "  <thead>\n",
       "    <tr style=\"text-align: right;\">\n",
       "      <th></th>\n",
       "      <th>Total Missing</th>\n",
       "      <th>Total Values</th>\n",
       "      <th>Percentage Missing</th>\n",
       "    </tr>\n",
       "  </thead>\n",
       "  <tbody>\n",
       "    <tr>\n",
       "      <th>Wikipedia movie ID</th>\n",
       "      <td>0</td>\n",
       "      <td>81741</td>\n",
       "      <td>0.000000</td>\n",
       "    </tr>\n",
       "    <tr>\n",
       "      <th>Freebase movie ID</th>\n",
       "      <td>0</td>\n",
       "      <td>81741</td>\n",
       "      <td>0.000000</td>\n",
       "    </tr>\n",
       "    <tr>\n",
       "      <th>Movie name</th>\n",
       "      <td>0</td>\n",
       "      <td>81741</td>\n",
       "      <td>0.000000</td>\n",
       "    </tr>\n",
       "    <tr>\n",
       "      <th>Movie release date</th>\n",
       "      <td>6902</td>\n",
       "      <td>74839</td>\n",
       "      <td>8.443743</td>\n",
       "    </tr>\n",
       "    <tr>\n",
       "      <th>Movie box office revenue</th>\n",
       "      <td>73340</td>\n",
       "      <td>8401</td>\n",
       "      <td>89.722416</td>\n",
       "    </tr>\n",
       "    <tr>\n",
       "      <th>Movie runtime</th>\n",
       "      <td>20450</td>\n",
       "      <td>61291</td>\n",
       "      <td>25.018045</td>\n",
       "    </tr>\n",
       "    <tr>\n",
       "      <th>Movie languages</th>\n",
       "      <td>0</td>\n",
       "      <td>81741</td>\n",
       "      <td>0.000000</td>\n",
       "    </tr>\n",
       "    <tr>\n",
       "      <th>Movie countries</th>\n",
       "      <td>0</td>\n",
       "      <td>81741</td>\n",
       "      <td>0.000000</td>\n",
       "    </tr>\n",
       "    <tr>\n",
       "      <th>Movie genres</th>\n",
       "      <td>0</td>\n",
       "      <td>81741</td>\n",
       "      <td>0.000000</td>\n",
       "    </tr>\n",
       "  </tbody>\n",
       "</table>\n",
       "</div>"
      ],
      "text/plain": [
       "                          Total Missing  Total Values  Percentage Missing\n",
       "Wikipedia movie ID                    0         81741            0.000000\n",
       "Freebase movie ID                     0         81741            0.000000\n",
       "Movie name                            0         81741            0.000000\n",
       "Movie release date                 6902         74839            8.443743\n",
       "Movie box office revenue          73340          8401           89.722416\n",
       "Movie runtime                     20450         61291           25.018045\n",
       "Movie languages                       0         81741            0.000000\n",
       "Movie countries                       0         81741            0.000000\n",
       "Movie genres                          0         81741            0.000000"
      ]
     },
     "metadata": {},
     "output_type": "display_data"
    },
    {
     "name": "stdout",
     "output_type": "stream",
     "text": [
      "-------------------------------------\n",
      "\n",
      "------------ nameDF ------------\n"
     ]
    },
    {
     "data": {
      "text/html": [
       "<div>\n",
       "<style scoped>\n",
       "    .dataframe tbody tr th:only-of-type {\n",
       "        vertical-align: middle;\n",
       "    }\n",
       "\n",
       "    .dataframe tbody tr th {\n",
       "        vertical-align: top;\n",
       "    }\n",
       "\n",
       "    .dataframe thead th {\n",
       "        text-align: right;\n",
       "    }\n",
       "</style>\n",
       "<table border=\"1\" class=\"dataframe\">\n",
       "  <thead>\n",
       "    <tr style=\"text-align: right;\">\n",
       "      <th></th>\n",
       "      <th>Total Missing</th>\n",
       "      <th>Total Values</th>\n",
       "      <th>Percentage Missing</th>\n",
       "    </tr>\n",
       "  </thead>\n",
       "  <tbody>\n",
       "    <tr>\n",
       "      <th>Character Name</th>\n",
       "      <td>0</td>\n",
       "      <td>2666</td>\n",
       "      <td>0.0</td>\n",
       "    </tr>\n",
       "    <tr>\n",
       "      <th>Freebase character map</th>\n",
       "      <td>0</td>\n",
       "      <td>2666</td>\n",
       "      <td>0.0</td>\n",
       "    </tr>\n",
       "  </tbody>\n",
       "</table>\n",
       "</div>"
      ],
      "text/plain": [
       "                        Total Missing  Total Values  Percentage Missing\n",
       "Character Name                      0          2666                 0.0\n",
       "Freebase character map              0          2666                 0.0"
      ]
     },
     "metadata": {},
     "output_type": "display_data"
    },
    {
     "name": "stdout",
     "output_type": "stream",
     "text": [
      "-------------------------------------\n",
      "\n",
      "------------ plotDF ------------\n"
     ]
    },
    {
     "data": {
      "text/html": [
       "<div>\n",
       "<style scoped>\n",
       "    .dataframe tbody tr th:only-of-type {\n",
       "        vertical-align: middle;\n",
       "    }\n",
       "\n",
       "    .dataframe tbody tr th {\n",
       "        vertical-align: top;\n",
       "    }\n",
       "\n",
       "    .dataframe thead th {\n",
       "        text-align: right;\n",
       "    }\n",
       "</style>\n",
       "<table border=\"1\" class=\"dataframe\">\n",
       "  <thead>\n",
       "    <tr style=\"text-align: right;\">\n",
       "      <th></th>\n",
       "      <th>Total Missing</th>\n",
       "      <th>Total Values</th>\n",
       "      <th>Percentage Missing</th>\n",
       "    </tr>\n",
       "  </thead>\n",
       "  <tbody>\n",
       "    <tr>\n",
       "      <th>Wikipedia movie ID</th>\n",
       "      <td>0</td>\n",
       "      <td>42303</td>\n",
       "      <td>0.0</td>\n",
       "    </tr>\n",
       "    <tr>\n",
       "      <th>Plot</th>\n",
       "      <td>0</td>\n",
       "      <td>42303</td>\n",
       "      <td>0.0</td>\n",
       "    </tr>\n",
       "  </tbody>\n",
       "</table>\n",
       "</div>"
      ],
      "text/plain": [
       "                    Total Missing  Total Values  Percentage Missing\n",
       "Wikipedia movie ID              0         42303                 0.0\n",
       "Plot                            0         42303                 0.0"
      ]
     },
     "metadata": {},
     "output_type": "display_data"
    },
    {
     "name": "stdout",
     "output_type": "stream",
     "text": [
      "-------------------------------------\n",
      "\n",
      "------------ tvtropDF ------------\n"
     ]
    },
    {
     "data": {
      "text/html": [
       "<div>\n",
       "<style scoped>\n",
       "    .dataframe tbody tr th:only-of-type {\n",
       "        vertical-align: middle;\n",
       "    }\n",
       "\n",
       "    .dataframe tbody tr th {\n",
       "        vertical-align: top;\n",
       "    }\n",
       "\n",
       "    .dataframe thead th {\n",
       "        text-align: right;\n",
       "    }\n",
       "</style>\n",
       "<table border=\"1\" class=\"dataframe\">\n",
       "  <thead>\n",
       "    <tr style=\"text-align: right;\">\n",
       "      <th></th>\n",
       "      <th>Total Missing</th>\n",
       "      <th>Total Values</th>\n",
       "      <th>Percentage Missing</th>\n",
       "    </tr>\n",
       "  </thead>\n",
       "  <tbody>\n",
       "    <tr>\n",
       "      <th>stereotype</th>\n",
       "      <td>0</td>\n",
       "      <td>501</td>\n",
       "      <td>0.0</td>\n",
       "    </tr>\n",
       "    <tr>\n",
       "      <th>char</th>\n",
       "      <td>0</td>\n",
       "      <td>501</td>\n",
       "      <td>0.0</td>\n",
       "    </tr>\n",
       "    <tr>\n",
       "      <th>movie</th>\n",
       "      <td>0</td>\n",
       "      <td>501</td>\n",
       "      <td>0.0</td>\n",
       "    </tr>\n",
       "    <tr>\n",
       "      <th>id</th>\n",
       "      <td>0</td>\n",
       "      <td>501</td>\n",
       "      <td>0.0</td>\n",
       "    </tr>\n",
       "    <tr>\n",
       "      <th>actor</th>\n",
       "      <td>0</td>\n",
       "      <td>501</td>\n",
       "      <td>0.0</td>\n",
       "    </tr>\n",
       "  </tbody>\n",
       "</table>\n",
       "</div>"
      ],
      "text/plain": [
       "            Total Missing  Total Values  Percentage Missing\n",
       "stereotype              0           501                 0.0\n",
       "char                    0           501                 0.0\n",
       "movie                   0           501                 0.0\n",
       "id                      0           501                 0.0\n",
       "actor                   0           501                 0.0"
      ]
     },
     "metadata": {},
     "output_type": "display_data"
    },
    {
     "name": "stdout",
     "output_type": "stream",
     "text": [
      "-------------------------------------\n",
      "\n"
     ]
    }
   ],
   "source": [
    "# Check for missing values\n",
    "for df, name in zip(dataframeList, dataframeNameList):\n",
    "    print(f\"------------ {name} ------------\")\n",
    "    missing_values = df.isnull().sum()\n",
    "    total_values = df.shape[0]  # Total number of rows in the DataFrame\n",
    "\n",
    "    # Calculate the percentage of missing values\n",
    "    missing_percentage = (missing_values / total_values) * 100\n",
    "\n",
    "    # Total number of values for each column\n",
    "    total_column_values = df.count()\n",
    "\n",
    "    # Display the results\n",
    "    missing_info = pd.DataFrame({\n",
    "        'Total Missing': missing_values,\n",
    "        'Total Values': total_column_values,\n",
    "        'Percentage Missing': missing_percentage,\n",
    "    })\n",
    "\n",
    "    display(missing_info)\n",
    "    print(\"-------------------------------------\\n\")"
   ]
  },
  {
   "cell_type": "code",
   "execution_count": 8,
   "metadata": {},
   "outputs": [
    {
     "name": "stdout",
     "output_type": "stream",
     "text": [
      "------------ characterDF ------------\n"
     ]
    },
    {
     "data": {
      "text/plain": [
       "Index(['Wikipedia movie ID', 'Freebase movie ID', 'Movie release date',\n",
       "       'Character Name', 'Actor DOB', 'Actor gender', 'Actor height',\n",
       "       'Actor ethnicity', 'Actor Name', 'Actor age at movie release',\n",
       "       'Freebase character map'],\n",
       "      dtype='object')"
      ]
     },
     "metadata": {},
     "output_type": "display_data"
    },
    {
     "name": "stdout",
     "output_type": "stream",
     "text": [
      "-------------------------------------\n",
      "\n",
      "------------ movieDF ------------\n"
     ]
    },
    {
     "data": {
      "text/plain": [
       "Index(['Wikipedia movie ID', 'Freebase movie ID', 'Movie name',\n",
       "       'Movie release date', 'Movie box office revenue', 'Movie runtime',\n",
       "       'Movie languages', 'Movie countries', 'Movie genres'],\n",
       "      dtype='object')"
      ]
     },
     "metadata": {},
     "output_type": "display_data"
    },
    {
     "name": "stdout",
     "output_type": "stream",
     "text": [
      "-------------------------------------\n",
      "\n",
      "------------ nameDF ------------\n"
     ]
    },
    {
     "data": {
      "text/plain": [
       "Index(['Character Name', 'Freebase character map'], dtype='object')"
      ]
     },
     "metadata": {},
     "output_type": "display_data"
    },
    {
     "name": "stdout",
     "output_type": "stream",
     "text": [
      "-------------------------------------\n",
      "\n",
      "------------ plotDF ------------\n"
     ]
    },
    {
     "data": {
      "text/plain": [
       "Index(['Wikipedia movie ID', 'Plot'], dtype='object')"
      ]
     },
     "metadata": {},
     "output_type": "display_data"
    },
    {
     "name": "stdout",
     "output_type": "stream",
     "text": [
      "-------------------------------------\n",
      "\n",
      "------------ tvtropDF ------------\n"
     ]
    },
    {
     "data": {
      "text/plain": [
       "Index(['stereotype', 'char', 'movie', 'id', 'actor'], dtype='object')"
      ]
     },
     "metadata": {},
     "output_type": "display_data"
    },
    {
     "name": "stdout",
     "output_type": "stream",
     "text": [
      "-------------------------------------\n",
      "\n"
     ]
    }
   ],
   "source": [
    "# Print column names\n",
    "for df, name in zip(dataframeList, dataframeNameList):\n",
    "    print(f\"------------ {name} ------------\")\n",
    "    display(df.columns)\n",
    "    print(\"-------------------------------------\\n\")"
   ]
  },
  {
   "cell_type": "code",
   "execution_count": 9,
   "metadata": {},
   "outputs": [],
   "source": [
    "# Add Character Name from nameDF in characterDF on Freebase character map\n",
    "# characterDF = pd.merge(characterDF, nameDF, how=\"left\", left_on=\"Freebase character map\", right_on=\"Freebase character map\")"
   ]
  },
  {
   "cell_type": "code",
   "execution_count": 10,
   "metadata": {},
   "outputs": [
    {
     "name": "stdout",
     "output_type": "stream",
     "text": [
      "Percentage of missing values before fill: 57.22%\n",
      "Percentage of missing values after fill: 56.90%\n",
      "Percentage improvement: 0.32%\n"
     ]
    }
   ],
   "source": [
    "# Cross data frames to fill missing values\n",
    "#Character Name\n",
    "characterDF = DataImport.FillMissingValues(characterDF, nameDF, 'Character Name', 'Character Name')"
   ]
  },
  {
   "cell_type": "code",
   "execution_count": 11,
   "metadata": {},
   "outputs": [
    {
     "name": "stdout",
     "output_type": "stream",
     "text": [
      "Percentage of missing values before fill: 8.44%\n",
      "Percentage of missing values after fill: 0.20%\n",
      "Percentage improvement: 8.24%\n",
      "Percentage of missing values before fill: 2.22%\n",
      "Percentage of missing values after fill: 1.84%\n",
      "Percentage improvement: 0.38%\n"
     ]
    }
   ],
   "source": [
    "# Cross movie release date\n",
    "# from movieDF and characterDF, cross Movie release date to reduce the number of nan values in both datasets\n",
    "# for both, keep the more precise date and convert the column to datetime\n",
    "movieDF = DataImport.FillMissingValues(movieDF, characterDF, 'Movie release date', 'Movie release date')\n",
    "characterDF = DataImport.FillMissingValues(characterDF, movieDF, 'Movie release date', 'Movie release date')\n",
    "\n",
    "movieDF['Movie release date'] = pd.to_datetime(movieDF['Movie release date'], errors='coerce')\n",
    "characterDF['Movie release date'] = pd.to_datetime(characterDF['Movie release date'], errors='coerce')\n",
    "\n",
    "# to datetime 'Actor age at movie release'in characterDF\n",
    "characterDF['Actor age at movie release'] = pd.to_datetime(characterDF['Actor age at movie release'], errors='coerce')"
   ]
  },
  {
   "cell_type": "code",
   "execution_count": 16,
   "metadata": {},
   "outputs": [
    {
     "ename": "KeyError",
     "evalue": "\"None of [Index(['Movie release date'], dtype='object')] are in the [columns]\"",
     "output_type": "error",
     "traceback": [
      "\u001b[1;31m---------------------------------------------------------------------------\u001b[0m",
      "\u001b[1;31mKeyError\u001b[0m                                  Traceback (most recent call last)",
      "\u001b[1;32mc:\\Users\\paul\\OneDrive\\Documents\\GitHub\\ada-2023-project-tea4two\\Projet-Tea4Two-P2.ipynb Cell 14\u001b[0m line \u001b[0;36m2\n\u001b[0;32m      <a href='vscode-notebook-cell:/c%3A/Users/paul/OneDrive/Documents/GitHub/ada-2023-project-tea4two/Projet-Tea4Two-P2.ipynb#X16sZmlsZQ%3D%3D?line=0'>1</a>\u001b[0m \u001b[39m# Box plot of movie release date distribution on horizontal axis with maplotlib\u001b[39;00m\n\u001b[1;32m----> <a href='vscode-notebook-cell:/c%3A/Users/paul/OneDrive/Documents/GitHub/ada-2023-project-tea4two/Projet-Tea4Two-P2.ipynb#X16sZmlsZQ%3D%3D?line=1'>2</a>\u001b[0m boxplot_movie \u001b[39m=\u001b[39m movieDF\u001b[39m.\u001b[39;49mboxplot(column\u001b[39m=\u001b[39;49m[\u001b[39m'\u001b[39;49m\u001b[39mMovie release date\u001b[39;49m\u001b[39m'\u001b[39;49m])\n",
      "File \u001b[1;32mc:\\Users\\paul\\OneDrive\\Documents\\GitHub\\ada-2023-project-tea4two\\.venv\\lib\\site-packages\\pandas\\plotting\\_core.py:529\u001b[0m, in \u001b[0;36mboxplot_frame\u001b[1;34m(self, column, by, ax, fontsize, rot, grid, figsize, layout, return_type, backend, **kwargs)\u001b[0m\n\u001b[0;32m    512\u001b[0m \u001b[39m@Substitution\u001b[39m(data\u001b[39m=\u001b[39m\u001b[39m\"\u001b[39m\u001b[39m\"\u001b[39m, backend\u001b[39m=\u001b[39m_backend_doc)\n\u001b[0;32m    513\u001b[0m \u001b[39m@Appender\u001b[39m(_boxplot_doc)\n\u001b[0;32m    514\u001b[0m \u001b[39mdef\u001b[39;00m \u001b[39mboxplot_frame\u001b[39m(\n\u001b[1;32m   (...)\u001b[0m\n\u001b[0;32m    526\u001b[0m     \u001b[39m*\u001b[39m\u001b[39m*\u001b[39mkwargs,\n\u001b[0;32m    527\u001b[0m ):\n\u001b[0;32m    528\u001b[0m     plot_backend \u001b[39m=\u001b[39m _get_plot_backend(backend)\n\u001b[1;32m--> 529\u001b[0m     \u001b[39mreturn\u001b[39;00m plot_backend\u001b[39m.\u001b[39mboxplot_frame(\n\u001b[0;32m    530\u001b[0m         \u001b[39mself\u001b[39m,\n\u001b[0;32m    531\u001b[0m         column\u001b[39m=\u001b[39mcolumn,\n\u001b[0;32m    532\u001b[0m         by\u001b[39m=\u001b[39mby,\n\u001b[0;32m    533\u001b[0m         ax\u001b[39m=\u001b[39max,\n\u001b[0;32m    534\u001b[0m         fontsize\u001b[39m=\u001b[39mfontsize,\n\u001b[0;32m    535\u001b[0m         rot\u001b[39m=\u001b[39mrot,\n\u001b[0;32m    536\u001b[0m         grid\u001b[39m=\u001b[39mgrid,\n\u001b[0;32m    537\u001b[0m         figsize\u001b[39m=\u001b[39mfigsize,\n\u001b[0;32m    538\u001b[0m         layout\u001b[39m=\u001b[39mlayout,\n\u001b[0;32m    539\u001b[0m         return_type\u001b[39m=\u001b[39mreturn_type,\n\u001b[0;32m    540\u001b[0m         \u001b[39m*\u001b[39m\u001b[39m*\u001b[39mkwargs,\n\u001b[0;32m    541\u001b[0m     )\n",
      "File \u001b[1;32mc:\\Users\\paul\\OneDrive\\Documents\\GitHub\\ada-2023-project-tea4two\\.venv\\lib\\site-packages\\pandas\\plotting\\_matplotlib\\boxplot.py:470\u001b[0m, in \u001b[0;36mboxplot_frame\u001b[1;34m(self, column, by, ax, fontsize, rot, grid, figsize, layout, return_type, **kwds)\u001b[0m\n\u001b[0;32m    455\u001b[0m \u001b[39mdef\u001b[39;00m \u001b[39mboxplot_frame\u001b[39m(\n\u001b[0;32m    456\u001b[0m     \u001b[39mself\u001b[39m,\n\u001b[0;32m    457\u001b[0m     column\u001b[39m=\u001b[39m\u001b[39mNone\u001b[39;00m,\n\u001b[1;32m   (...)\u001b[0m\n\u001b[0;32m    466\u001b[0m     \u001b[39m*\u001b[39m\u001b[39m*\u001b[39mkwds,\n\u001b[0;32m    467\u001b[0m ):\n\u001b[0;32m    468\u001b[0m     \u001b[39mimport\u001b[39;00m \u001b[39mmatplotlib\u001b[39;00m\u001b[39m.\u001b[39;00m\u001b[39mpyplot\u001b[39;00m \u001b[39mas\u001b[39;00m \u001b[39mplt\u001b[39;00m\n\u001b[1;32m--> 470\u001b[0m     ax \u001b[39m=\u001b[39m boxplot(\n\u001b[0;32m    471\u001b[0m         \u001b[39mself\u001b[39m,\n\u001b[0;32m    472\u001b[0m         column\u001b[39m=\u001b[39mcolumn,\n\u001b[0;32m    473\u001b[0m         by\u001b[39m=\u001b[39mby,\n\u001b[0;32m    474\u001b[0m         ax\u001b[39m=\u001b[39max,\n\u001b[0;32m    475\u001b[0m         fontsize\u001b[39m=\u001b[39mfontsize,\n\u001b[0;32m    476\u001b[0m         grid\u001b[39m=\u001b[39mgrid,\n\u001b[0;32m    477\u001b[0m         rot\u001b[39m=\u001b[39mrot,\n\u001b[0;32m    478\u001b[0m         figsize\u001b[39m=\u001b[39mfigsize,\n\u001b[0;32m    479\u001b[0m         layout\u001b[39m=\u001b[39mlayout,\n\u001b[0;32m    480\u001b[0m         return_type\u001b[39m=\u001b[39mreturn_type,\n\u001b[0;32m    481\u001b[0m         \u001b[39m*\u001b[39m\u001b[39m*\u001b[39mkwds,\n\u001b[0;32m    482\u001b[0m     )\n\u001b[0;32m    483\u001b[0m     plt\u001b[39m.\u001b[39mdraw_if_interactive()\n\u001b[0;32m    484\u001b[0m     \u001b[39mreturn\u001b[39;00m ax\n",
      "File \u001b[1;32mc:\\Users\\paul\\OneDrive\\Documents\\GitHub\\ada-2023-project-tea4two\\.venv\\lib\\site-packages\\pandas\\plotting\\_matplotlib\\boxplot.py:447\u001b[0m, in \u001b[0;36mboxplot\u001b[1;34m(data, column, by, ax, fontsize, rot, grid, figsize, layout, return_type, **kwds)\u001b[0m\n\u001b[0;32m    445\u001b[0m     columns \u001b[39m=\u001b[39m data\u001b[39m.\u001b[39mcolumns\n\u001b[0;32m    446\u001b[0m \u001b[39melse\u001b[39;00m:\n\u001b[1;32m--> 447\u001b[0m     data \u001b[39m=\u001b[39m data[columns]\n\u001b[0;32m    449\u001b[0m result \u001b[39m=\u001b[39m plot_group(columns, data\u001b[39m.\u001b[39mvalues\u001b[39m.\u001b[39mT, ax, \u001b[39m*\u001b[39m\u001b[39m*\u001b[39mkwds)\n\u001b[0;32m    450\u001b[0m ax\u001b[39m.\u001b[39mgrid(grid)\n",
      "File \u001b[1;32mc:\\Users\\paul\\OneDrive\\Documents\\GitHub\\ada-2023-project-tea4two\\.venv\\lib\\site-packages\\pandas\\core\\frame.py:3899\u001b[0m, in \u001b[0;36mDataFrame.__getitem__\u001b[1;34m(self, key)\u001b[0m\n\u001b[0;32m   3897\u001b[0m     \u001b[39mif\u001b[39;00m is_iterator(key):\n\u001b[0;32m   3898\u001b[0m         key \u001b[39m=\u001b[39m \u001b[39mlist\u001b[39m(key)\n\u001b[1;32m-> 3899\u001b[0m     indexer \u001b[39m=\u001b[39m \u001b[39mself\u001b[39;49m\u001b[39m.\u001b[39;49mcolumns\u001b[39m.\u001b[39;49m_get_indexer_strict(key, \u001b[39m\"\u001b[39;49m\u001b[39mcolumns\u001b[39;49m\u001b[39m\"\u001b[39;49m)[\u001b[39m1\u001b[39m]\n\u001b[0;32m   3901\u001b[0m \u001b[39m# take() does not accept boolean indexers\u001b[39;00m\n\u001b[0;32m   3902\u001b[0m \u001b[39mif\u001b[39;00m \u001b[39mgetattr\u001b[39m(indexer, \u001b[39m\"\u001b[39m\u001b[39mdtype\u001b[39m\u001b[39m\"\u001b[39m, \u001b[39mNone\u001b[39;00m) \u001b[39m==\u001b[39m \u001b[39mbool\u001b[39m:\n",
      "File \u001b[1;32mc:\\Users\\paul\\OneDrive\\Documents\\GitHub\\ada-2023-project-tea4two\\.venv\\lib\\site-packages\\pandas\\core\\indexes\\base.py:6114\u001b[0m, in \u001b[0;36mIndex._get_indexer_strict\u001b[1;34m(self, key, axis_name)\u001b[0m\n\u001b[0;32m   6111\u001b[0m \u001b[39melse\u001b[39;00m:\n\u001b[0;32m   6112\u001b[0m     keyarr, indexer, new_indexer \u001b[39m=\u001b[39m \u001b[39mself\u001b[39m\u001b[39m.\u001b[39m_reindex_non_unique(keyarr)\n\u001b[1;32m-> 6114\u001b[0m \u001b[39mself\u001b[39;49m\u001b[39m.\u001b[39;49m_raise_if_missing(keyarr, indexer, axis_name)\n\u001b[0;32m   6116\u001b[0m keyarr \u001b[39m=\u001b[39m \u001b[39mself\u001b[39m\u001b[39m.\u001b[39mtake(indexer)\n\u001b[0;32m   6117\u001b[0m \u001b[39mif\u001b[39;00m \u001b[39misinstance\u001b[39m(key, Index):\n\u001b[0;32m   6118\u001b[0m     \u001b[39m# GH 42790 - Preserve name from an Index\u001b[39;00m\n",
      "File \u001b[1;32mc:\\Users\\paul\\OneDrive\\Documents\\GitHub\\ada-2023-project-tea4two\\.venv\\lib\\site-packages\\pandas\\core\\indexes\\base.py:6175\u001b[0m, in \u001b[0;36mIndex._raise_if_missing\u001b[1;34m(self, key, indexer, axis_name)\u001b[0m\n\u001b[0;32m   6173\u001b[0m     \u001b[39mif\u001b[39;00m use_interval_msg:\n\u001b[0;32m   6174\u001b[0m         key \u001b[39m=\u001b[39m \u001b[39mlist\u001b[39m(key)\n\u001b[1;32m-> 6175\u001b[0m     \u001b[39mraise\u001b[39;00m \u001b[39mKeyError\u001b[39;00m(\u001b[39mf\u001b[39m\u001b[39m\"\u001b[39m\u001b[39mNone of [\u001b[39m\u001b[39m{\u001b[39;00mkey\u001b[39m}\u001b[39;00m\u001b[39m] are in the [\u001b[39m\u001b[39m{\u001b[39;00maxis_name\u001b[39m}\u001b[39;00m\u001b[39m]\u001b[39m\u001b[39m\"\u001b[39m)\n\u001b[0;32m   6177\u001b[0m not_found \u001b[39m=\u001b[39m \u001b[39mlist\u001b[39m(ensure_index(key)[missing_mask\u001b[39m.\u001b[39mnonzero()[\u001b[39m0\u001b[39m]]\u001b[39m.\u001b[39munique())\n\u001b[0;32m   6178\u001b[0m \u001b[39mraise\u001b[39;00m \u001b[39mKeyError\u001b[39;00m(\u001b[39mf\u001b[39m\u001b[39m\"\u001b[39m\u001b[39m{\u001b[39;00mnot_found\u001b[39m}\u001b[39;00m\u001b[39m not in index\u001b[39m\u001b[39m\"\u001b[39m)\n",
      "\u001b[1;31mKeyError\u001b[0m: \"None of [Index(['Movie release date'], dtype='object')] are in the [columns]\""
     ]
    },
    {
     "data": {
      "image/png": "[encoded data removed]",
      "text/plain": [
       "<Figure size 640x480 with 1 Axes>"
      ]
     },
     "metadata": {},
     "output_type": "display_data"
    }
   ],
   "source": [
    "import plotly.express as px\n",
    "\n",
    "# Create a new column for the release year\n",
    "movieDF['Release Year'] = movieDF['Movie release date'].dt.year\n",
    "\n",
    "# Create a box plot\n",
    "fig = px.box(movieDF, x='Release Year', y='Movie release date', title='Movie Release Date Distribution Over the Years')\n",
    "fig.show()\n"
   ]
  },
  {
   "cell_type": "markdown",
   "metadata": {},
   "source": [
    "# 1. Building a ‘robot portrait’ of human beings thanks to the CMU dataset, and comparing it to reality"
   ]
  },
  {
   "cell_type": "markdown",
   "metadata": {},
   "source": [
    "# 2. Influence of movies on society, and vice-versa"
   ]
  },
  {
   "cell_type": "markdown",
   "metadata": {},
   "source": [
    "### 2 a. Adding real babies names dataset and comparing temporal frequencies between reality and fiction (consider only the 100 most famous movies)"
   ]
  },
  {
   "cell_type": "markdown",
   "metadata": {},
   "source": [
    "##### Study on the top 100 movies"
   ]
  },
  {
   "cell_type": "code",
   "execution_count": null,
   "metadata": {},
   "outputs": [],
   "source": [
    "print(\"Percentage of movie with nan in movie box office revenue: {:.2f}%\".format(movieDF[\"Movie box office revenue\"].isna().sum()/len(movieDF)*100))\n",
    "print(\"Number of movie with nan in movie box office revenue: {} out of {}\".format(movieDF[\"Movie box office revenue\"].isna().sum(),len(movieDF)))\n",
    "\n",
    "fig = go.Figure(go.Bar(\n",
    "    x=movieDF.dropna(subset=[\"Movie box office revenue\"]).sort_values(by=\"Movie box office revenue\",ascending=True).tail(100)[\"Movie box office revenue\"], \n",
    "    y=movieDF.dropna(subset=[\"Movie box office revenue\"]).sort_values(by=\"Movie box office revenue\",ascending=True).tail(100)[\"Movie name\"], \n",
    "    orientation='h',\n",
    "    text=movieDF.dropna(subset=[\"Movie box office revenue\"]).sort_values(by=\"Movie box office revenue\",ascending=True).tail(100)[\"Movie box office revenue\"],\n",
    "    textposition='outside'\n",
    "))\n",
    "\n",
    "fig.update_layout(\n",
    "    height=2000,\n",
    "    xaxis_title=\"Box Office Revenue ($)\",\n",
    "    yaxis_title=\"Movie Name\",\n",
    "    title=\"Top 100 Movies by Box Office Revenue\",\n",
    "    plot_bgcolor='rgba(0,0,0,0)'\n",
    ")\n",
    "\n",
    "save_or_show_figure(fig, \"img/Top100movies.svg\")"
   ]
  },
  {
   "cell_type": "markdown",
   "metadata": {},
   "source": [
    "Wordcloud of the top100 movie names"
   ]
  },
  {
   "cell_type": "code",
   "execution_count": null,
   "metadata": {},
   "outputs": [],
   "source": [
    "# Drop rows with missing values in the \"Movie box office revenue\" column\n",
    "movieDF_cleaned = movieDF.dropna(subset=[\"Movie box office revenue\"])\n",
    "\n",
    "# Create a dictionary with movie names as keys and their box office revenue as values\n",
    "movie_name_revenue_dict = dict(zip(movieDF_cleaned[\"Movie name\"], movieDF_cleaned[\"Movie box office revenue\"]))\n",
    "\n",
    "# Generate the word cloud from the movie names and their box office revenue\n",
    "wordcloud = WordCloud(\n",
    "    max_font_size=50,\n",
    "    background_color=\"white\",\n",
    "    colormap=\"cividis\",\n",
    ").generate_from_frequencies(movie_name_revenue_dict)\n",
    "\n",
    "# Display the word cloud\n",
    "plt.figure(figsize=(8, 8), facecolor=None)\n",
    "plt.imshow(wordcloud)\n",
    "plt.axis(\"off\")\n",
    "plt.tight_layout(pad=0)\n",
    "plt.show()"
   ]
  },
  {
   "cell_type": "markdown",
   "metadata": {},
   "source": [
    "##### Study on the characters present in the top 100 movies"
   ]
  },
  {
   "cell_type": "markdown",
   "metadata": {},
   "source": [
    "Import the babyname dataset in the US"
   ]
  },
  {
   "cell_type": "code",
   "execution_count": null,
   "metadata": {},
   "outputs": [],
   "source": [
    "# we will extract only the characters from the top 100 movies in the dataset based movieDF[\"Movie box office revenue\"]\n",
    "top100_characters = characterDF[characterDF[\"Wikipedia movie ID\"].isin(movieDF.sort_values(by=\"Movie box office revenue\",ascending=False)[\"Wikipedia movie ID\"].head(100))]\n",
    "\n",
    "PATH_IN = './Name/'\n",
    "\n",
    "def OpenNameDf(PATH) :\n",
    "    '''\n",
    "    This function opens the dataframes stored in the file with location PATH\n",
    "    '''\n",
    "    \n",
    "    #for all file present in the folder\n",
    "    files = os.listdir(PATH)\n",
    "    baby_nameDF = pd.DataFrame()\n",
    "    \n",
    "    for file in files:\n",
    "        if file.endswith(\".txt\"):\n",
    "            name_file = os.path.join(PATH, file)\n",
    "            # name_col = [\"Firstname\",\"Sexe\",\"Number\"]\n",
    "            name_a_yearDF = pd.read_table(name_file, sep=\",\",index_col=False)\n",
    "            name_a_yearDF = name_a_yearDF.drop_duplicates()\n",
    "            name_a_yearDF = name_a_yearDF.drop(name_a_yearDF[name_a_yearDF[\"Firstname\"]==\"Firstname\"].index)\n",
    "            #add a column for the year given in the filename\n",
    "            name_a_yearDF[\"Year\"] = file.split(\".\")[0].replace(\"yob\",\"\")\n",
    "            name_a_yearDF.to_csv(os.path.join(PATH_IN, file),index=False)\n",
    "            \n",
    "            # Concatenate the new data with the existing data\n",
    "            baby_nameDF = pd.concat([baby_nameDF, name_a_yearDF])\n",
    "        \n",
    "    return baby_nameDF\n",
    "\n",
    "baby_nameDF = OpenNameDf(PATH_IN)"
   ]
  },
  {
   "cell_type": "code",
   "execution_count": null,
   "metadata": {},
   "outputs": [],
   "source": [
    "# Create a set of valid first names from baby_nameDF[\"Firstname\"]\n",
    "valid_firstnames = set(baby_nameDF[\"Firstname\"])\n",
    "\n",
    "# Group and aggregate the data to calculate total occurrences by name\n",
    "name_occurrences = baby_nameDF[baby_nameDF[\"Firstname\"].isin(valid_firstnames)].groupby(\"Firstname\")[\"Number\"].sum().reset_index()\n",
    "\n",
    "\n",
    "# Create a dictionary that maps first names to their total occurrences\n",
    "name_occurrences_dict = dict(zip(name_occurrences[\"Firstname\"], name_occurrences[\"Number\"]))\n",
    "\n",
    "# Define a function to extract the top firstname\n",
    "def extract_top_firstname(name):\n",
    "    if isinstance(name, str):\n",
    "        names = name.split()\n",
    "        firstnames = [n for n in names if n in valid_firstnames]\n",
    "        if firstnames:\n",
    "            top_firstname = max(firstnames, key=lambda n: name_occurrences_dict.get(n, 0))\n",
    "            return top_firstname\n",
    "    return None\n",
    "\n",
    "# Apply the function to the \"Character Name\" column\n",
    "top100_characters[\"Character firstname\"] = top100_characters[\"Character Name\"].apply(extract_top_firstname)\n",
    "\n",
    "# Drop rows where \"Character firstname\" is NaN\n",
    "top100_characters.dropna(subset=[\"Character firstname\"], inplace=True)\n",
    "\n",
    "#count number of unique name in top100\n",
    "print(\"Number of unique name in top100 : \",len(top100_characters[\"Character firstname\"].unique()))\n",
    "\n",
    "# to name_occurences, add the column \"First year appearance\"\n",
    "name_occurrences[\"First year appearance\"] = baby_nameDF[baby_nameDF[\"Firstname\"].isin(valid_firstnames)].groupby(\"Firstname\")[\"Year\"].min().reset_index()[\"Year\"]\n",
    "\n",
    "# Convert \"Movie release Date\" to a datetime object and extract the year\n",
    "top100_characters[\"Year\"] = pd.to_datetime(top100_characters[\"Movie release date\"]).dt.year"
   ]
  },
  {
   "cell_type": "markdown",
   "metadata": {},
   "source": [
    "##### Study on the babies firstname recensed in the US after their presence in a movie"
   ]
  },
  {
   "cell_type": "markdown",
   "metadata": {},
   "source": [
    "A first simple study could be to see if new firstname ermarged after the apparition of a movie. This doesn't conclude wether the movie created this firstname or not, but the event could be correlated."
   ]
  },
  {
   "cell_type": "code",
   "execution_count": null,
   "metadata": {},
   "outputs": [],
   "source": [
    "# Merge the DataFrames on the \"Firstname\" column\n",
    "merged_data = top100_characters.merge(name_occurrences, left_on=\"Character firstname\", right_on=\"Firstname\", how=\"left\")\n",
    "\n",
    "# Convert the \"First year appearance\" and \"Year\" columns to integers\n",
    "merged_data[\"First year appearance\"] = merged_data[\"First year appearance\"].astype(int)\n",
    "merged_data[\"Year\"] = merged_data[\"Year\"].astype(int)\n",
    "\n",
    "# Filter the rows where \"First year appearance\" is greater than \"Year\"\n",
    "filtered_data = merged_data[merged_data[\"First year appearance\"] > merged_data[\"Year\"]]\n",
    "\n",
    "# Calculate the number of names and their films\n",
    "num_names_with_films = len(filtered_data)\n",
    "\n",
    "# Print the result\n",
    "print(\"Number of names with their films where the name wasn't present before the film in name_occurrences:\", num_names_with_films)\n",
    "\n",
    "# Generate the word cloud with a specific colormap (e.g., 'viridis')\n",
    "wordcloud = WordCloud(\n",
    "    max_font_size=50,\n",
    "    max_words=100,\n",
    "    background_color=\"white\",\n",
    "    colormap='magma'\n",
    ").generate_from_frequencies(dict(zip(filtered_data[\"Character firstname\"], filtered_data[\"Number\"])))\n",
    "\n",
    "# Display the word cloud\n",
    "plt.figure(figsize=(8, 8), facecolor=None)\n",
    "plt.imshow(wordcloud)\n",
    "plt.axis(\"off\")\n",
    "plt.tight_layout(pad=0)\n",
    "\n",
    "plt.show()"
   ]
  },
  {
   "cell_type": "markdown",
   "metadata": {},
   "source": [
    "As we can see on the worldcloud map, some names are higly likely to be created by a movie like \"Kenobi\" in Star Wars or \"Ollivander\" in Harry Potter."
   ]
  },
  {
   "cell_type": "code",
   "execution_count": null,
   "metadata": {},
   "outputs": [],
   "source": [
    "# display the movie name linked with these name in a pandaframe by crossing Wikipedia movie ID in movieDF\n",
    "probable_newFirstnameDF = filtered_data.merge(movieDF, left_on=\"Wikipedia movie ID\", right_on=\"Wikipedia movie ID\", how=\"left\")[[\"Movie name\",\"Character firstname\"]].drop_duplicates()"
   ]
  },
  {
   "cell_type": "markdown",
   "metadata": {},
   "source": [
    "We can make a simple test if it implies that the name comes from a highest-grossing film"
   ]
  },
  {
   "cell_type": "code",
   "execution_count": null,
   "metadata": {},
   "outputs": [],
   "source": [
    "probable_newFirstnameDF_inTop400 = movieDF[movieDF[\"Movie name\"].isin(probable_newFirstnameDF[\"Movie name\"])].sort_values(by=\"Movie box office revenue\",ascending=False).head(400)\n",
    "\n",
    "print(\"Number of names with their films where the name wasn't present before the film in name_occurrences:\", len(probable_newFirstnameDF_inTop400))\n",
    "\n",
    "probable_newFirstnameDF_inTop400"
   ]
  },
  {
   "cell_type": "markdown",
   "metadata": {},
   "source": [
    "We are not too suprise of this result. For them it is highly probable that these movies created a trend for these firstnames. Still, it means half of it, hence the other half could be linked with other events."
   ]
  },
  {
   "cell_type": "markdown",
   "metadata": {},
   "source": [
    "##### Study on the top 20 firstnames in movies over the year"
   ]
  },
  {
   "cell_type": "markdown",
   "metadata": {},
   "source": [
    "An other relevant study could be to see a trend in firstnames. We are not just focusing on the new firstnames or the ones highlighted by movies but we would like to see if the major trends in reality also appear in movies. This will guide us to name our human with it's most likely name depending on the year and the location."
   ]
  },
  {
   "cell_type": "code",
   "execution_count": null,
   "metadata": {},
   "outputs": [],
   "source": [
    "# Choose a year\n",
    "year = 2022\n",
    "\n",
    "# Define the valid date range for your dataset\n",
    "min_valid_date = \"1850-01-01\"\n",
    "max_valid_date = \"2023-11-11\"\n",
    "characterDF[\"Year\"] = characterDF[\"Movie release date\"].str.extract(r'(\\d{4})', expand=False).astype(float)\n",
    "\n",
    "# Apply the function to the \"Character Name\" column\n",
    "characterDF[\"Character firstname\"] = characterDF[\"Character Name\"].apply(extract_top_firstname)\n",
    "Firstname_characterDF = characterDF\n",
    "Firstname_characterDF.dropna(subset=[\"Character firstname\"], inplace=True)\n",
    "\n",
    "# Create a new DataFrame with the number of occurrences of each firstname groupping by the counting given in baby_nameDF of this firstname for each year\n",
    "# keep only the firstnames present in the film (characterDF[\"Character firstname\"])\n",
    "name_occurrences_by_year = baby_nameDF.groupby([\"Firstname\", \"Year\"])[\"Number\"].sum().reset_index()\n",
    "name_occurrences_by_year = name_occurrences_by_year[name_occurrences_by_year[\"Firstname\"].isin(characterDF[\"Character firstname\"].unique())]\n",
    "name_occurrences_by_year[\"Year\"] = pd.to_datetime(name_occurrences_by_year[\"Year\"], format='%Y')\n",
    "\n",
    "# Horizontal bar\n",
    "# px.bar(name_occurrences_by_year[name_occurrences_by_year[\"Year\"].dt.year == year].sort_values(by=\"Number\",ascending=False).head(20),x=\"Number\",y=\"Firstname\", orientation='h')\n",
    "fig = go.Figure(go.Bar(\n",
    "    x=name_occurrences_by_year[name_occurrences_by_year[\"Year\"].dt.year == year].sort_values(by=\"Number\",ascending=False).head(20)[\"Number\"],\n",
    "    y=name_occurrences_by_year[name_occurrences_by_year[\"Year\"].dt.year == year].sort_values(by=\"Number\",ascending=False).head(20)[\"Firstname\"],\n",
    "    orientation='h',\n",
    "    text=name_occurrences_by_year[name_occurrences_by_year[\"Year\"].dt.year == year].sort_values(by=\"Number\",ascending=False).head(20)[\"Number\"],\n",
    "    textposition='outside'\n",
    "))\n",
    "\n",
    "fig.update_layout(\n",
    "    xaxis_title=\"Number of occurences\",\n",
    "    yaxis_title=\"Firstname\",\n",
    "    title=\"Top 20 Firstname in {}\".format(year),\n",
    "    plot_bgcolor='rgba(0,0,0,0)'\n",
    ")\n",
    "\n",
    "save_or_show_figure(fig, \"img/Top20firstname.svg\")"
   ]
  },
  {
   "cell_type": "markdown",
   "metadata": {},
   "source": [
    "On this trend, a simple way of doing it is to see the top 20 firstnames in movies over the year. We want to see who are the most recurrent firsnames in top50 each year and if we have at the end 50 name (Assumption on the fact that no evolution was seen in the top50 over the year) or way more.(Assumption on the fact that the top50 is not stable over the year)."
   ]
  },
  {
   "cell_type": "code",
   "execution_count": null,
   "metadata": {},
   "outputs": [],
   "source": [
    "name_occurrences_full = pd.DataFrame()\n",
    "\n",
    "for year in range(1850, 2023):\n",
    "    year_datetime = pd.to_datetime(year, format='%Y')\n",
    "    year_data = name_occurrences_by_year[name_occurrences_by_year[\"Year\"].dt.year == year].sort_values(by=\"Number\", ascending=False).head(50)\n",
    "    name_occurrences_full = pd.concat([name_occurrences_full, year_data])\n",
    "\n",
    "print(\"Number of unique names in top 100: \", len(name_occurrences_full[\"Firstname\"].unique()))"
   ]
  },
  {
   "cell_type": "markdown",
   "metadata": {},
   "source": [
    "### Trying to see if the tendency is that movies are in advance or copy what existed previously."
   ]
  },
  {
   "cell_type": "markdown",
   "metadata": {},
   "source": [
    "To lighten the study, we will only focus on the top 400 firstnames in the US. The goal of this study is to have a better understanding of the firstnames in movies compared to what we have in reality. At the end, we are more focusing on if they both follow the same trends with a certain delay or not. This probable correlation will help us to name our human."
   ]
  },
  {
   "cell_type": "code",
   "execution_count": null,
   "metadata": {},
   "outputs": [],
   "source": [
    "TOP = 400\n",
    "\n",
    "# keep the top 400 firstname in baby_nameDF\n",
    "firstname_occurrences_by_year = Firstname_characterDF.groupby([\"Year\", \"Character firstname\", \"Actor gender\"]).size().reset_index(name=\"Number of Occurrences\")\n",
    "# add a column of firstname_occurrences_by_year where it is the Total number of occurences of this firstname in the dataset\n",
    "firstname_occurrences_by_year[\"Total number of occurences\"] = firstname_occurrences_by_year.groupby([\"Character firstname\", \"Actor gender\"])[\"Number of Occurrences\"].transform(\"sum\")\n",
    "\n",
    "top400_firstnamesDF = baby_nameDF.merge(firstname_occurrences_by_year, left_on=\"Firstname\", right_on=\"Character firstname\", how=\"left\")\n",
    "top400_firstnamesDF = top400_firstnamesDF[top400_firstnamesDF[\"Year_x\"].astype(float)==top400_firstnamesDF[\"Year_y\"].astype(float)]\n",
    "top400_firstnamesDF[\"Year\"] = top400_firstnamesDF[\"Year_x\"]\n",
    "top400_firstnamesDF = top400_firstnamesDF.drop(columns=[\"Year_x\",\"Year_y\"])\n",
    "top400_firstnamesDF[\"Firstname\"] = top400_firstnamesDF[\"Firstname\"]\n",
    "top400_firstnamesDF = top400_firstnamesDF.drop(columns=[\"Character firstname\"])\n",
    "top400_firstnamesDF = top400_firstnamesDF.rename(columns={\"Number\":\"Number of birth\",\"Number of Occurrences\":\"Number of occurences in movies\"})\n",
    "top400_firstnamesDF =top400_firstnamesDF.drop(columns=[\"Actor gender\"])\n",
    "\n",
    "# keep the top 400 unique firstname in top400_firstnamesDF in column Number of occurences in movies\n",
    "keep_top_400 = top400_firstnamesDF.drop_duplicates(subset=[\"Firstname\"])\n",
    "keep_top_400 = keep_top_400.sort_values(by=\"Total number of occurences\",ascending=False).head(TOP)\n",
    "top400_firstnamesDF = top400_firstnamesDF[top400_firstnamesDF[\"Firstname\"].isin(keep_top_400[\"Firstname\"])]\n",
    "\n",
    "sum_by_name_gender = top400_firstnamesDF.groupby([\"Firstname\", \"Sexe\"])[\"Number of birth\"].sum().reset_index().rename(columns={\"Number of birth\": \"Number\"})\n",
    "idx_max_gender = sum_by_name_gender.groupby(\"Firstname\")[\"Number\"].idxmax()\n",
    "max_gender_lines = sum_by_name_gender.loc[idx_max_gender]\n",
    "\n",
    "top400_firstnamesDF = top400_firstnamesDF.merge(max_gender_lines, on=[\"Firstname\", \"Sexe\"], how=\"inner\")"
   ]
  },
  {
   "cell_type": "markdown",
   "metadata": {},
   "source": [
    "To understand what we will be doing at a bigger scale, we will first do it on one individual. Aribitraly, we chose Christopher.\n",
    "So Christopher, show us what you got!\n",
    "Is it a trendy name in the US? Was it? Will it be? (no, we're kidding we're not forecasting the name of your eventual future child)\n",
    "Does movies have an impact on the name of Christopher in the babyname frequency?"
   ]
  },
  {
   "cell_type": "code",
   "execution_count": null,
   "metadata": {},
   "outputs": [],
   "source": [
    "firstname = \"Christopher\"\n",
    "\n",
    "fig1 = make_subplots(\n",
    "    rows=1,\n",
    "    cols=1,\n",
    "    specs=[[{\"secondary_y\": True}]]\n",
    ")\n",
    "\n",
    "# Sort the dataframes by \"Year\" for consistency\n",
    "df1 = top400_firstnamesDF[top400_firstnamesDF[\"Firstname\"] == firstname].sort_values(by=\"Year\")\n",
    "df2 = top400_firstnamesDF[top400_firstnamesDF[\"Firstname\"] == firstname].sort_values(by=\"Year\")\n",
    "\n",
    "# Add a trace for the first line (e.g., blue)\n",
    "trace1 = go.Scatter(x=df1[\"Year\"], y=df1[\"Number of birth\"], mode='lines', name=\"Number of Birth\", line=dict(color='blue'))\n",
    "\n",
    "# Add a trace for the second line (e.g., red)\n",
    "trace2 = go.Scatter(x=df2[\"Year\"], y=df2[\"Number of occurences in movies\"], mode='lines', name=\"Number of Occurrences in Movies\", line=dict(color='red'), yaxis=\"y2\")\n",
    "\n",
    "# Update the subplot and axis properties\n",
    "fig1.add_trace(trace1, row=1, col=1)\n",
    "fig1.add_trace(trace2, row=1, col=1, secondary_y=True)\n",
    "\n",
    "fig1.update_xaxes(title_text='Year', row=1, col=1)\n",
    "fig1.update_xaxes(showticklabels=True, row=1, col=1)  # Show x-axis tick labels\n",
    "\n",
    "fig1.update_yaxes(showticklabels=False, row=1, col=1)\n",
    "fig1.update_yaxes(showticklabels=False, row=1, col=1, secondary_y=True)\n",
    "\n",
    "fig1.update_layout(\n",
    "    xaxis_title=\"Year\",\n",
    "    yaxis_title=\"Number of Birth\",\n",
    "    title_text=firstname,\n",
    "    plot_bgcolor='rgba(0,0,0,0)'\n",
    "    )\n",
    "\n",
    "# Show the figure\n",
    "fig1.show()\n",
    "# save_or_show_figure(fig1, \"img/ChristopheBirthOccurence.svg\")"
   ]
  },
  {
   "cell_type": "markdown",
   "metadata": {},
   "source": [
    "Well done Christopher! Looks like the babyname occurence of Christopher is in advance of the movie occurence. And fast observation guide to see that there is a delay of 30 years. Could we assume that at 30 years, we have in the movies a correct interpretation of the baynames repartition 30 years before? Difficult to say for the moment.\n",
    "Oh by the way, is it really the number that is relevant to observe? Or should we look at the frequency of the name in the population?\n",
    "Actually, it is not really useful or interesting to interpret on numbers, so we plot their frequencies"
   ]
  },
  {
   "cell_type": "code",
   "execution_count": null,
   "metadata": {},
   "outputs": [],
   "source": [
    "# Calculate the sum of the number of births and number of firstnames for each year\n",
    "births_by_year = baby_nameDF.groupby(\"Year\")[\"Number\"].sum().reset_index()\n",
    "firstnames_by_year = baby_nameDF.groupby(\"Year\")[\"Firstname\"].count().reset_index()\n",
    "\n",
    "firstname = \"Christopher\"\n",
    "\n",
    "# Sort the dataframes by \"Year\" for consistency\n",
    "df1 = top400_firstnamesDF[top400_firstnamesDF[\"Firstname\"] == firstname].sort_values(by=\"Year\")\n",
    "df2 = top400_firstnamesDF[top400_firstnamesDF[\"Firstname\"] == firstname].sort_values(by=\"Year\")\n",
    "\n",
    "# Calculate the frequency for each year using apply\n",
    "df1[\"Frequency\"] = df1.apply(lambda row: row[\"Number of birth\"] / births_by_year[births_by_year[\"Year\"] == row[\"Year\"]][\"Number\"].values[0], axis=1)\n",
    "df2[\"Frequency\"] = df2.apply(lambda row: row[\"Number of occurences in movies\"] / firstnames_by_year[firstnames_by_year[\"Year\"] == row[\"Year\"]][\"Firstname\"].values[0], axis=1)\n",
    "\n",
    "# Rename the columns\n",
    "df1 = df1.rename(columns={\"Frequency\": \"Frequency of Birth\"})\n",
    "df2 = df2.rename(columns={\"Frequency\": \"Frequency in Movies\"})\n",
    "\n",
    "fig1 = make_subplots(\n",
    "    rows=1,\n",
    "    cols=1,\n",
    "    specs=[[{\"secondary_y\": True}]]\n",
    ")\n",
    "\n",
    "# Add a trace for the first line (e.g., blue)\n",
    "trace1 = go.Scatter(x=df1[\"Year\"], y=df1[\"Frequency of Birth\"], mode='lines', name=\"Frequency of Birth\", line=dict(color='blue'))\n",
    "\n",
    "# Add a trace for the second line (e.g., red)\n",
    "trace2 = go.Scatter(x=df2[\"Year\"], y=df2[\"Frequency in Movies\"], mode='lines', name=\"Frequency of Occurrences in Movies\", line=dict(color='red'), yaxis=\"y2\")\n",
    "\n",
    "# Update the subplot and axis properties\n",
    "fig1.add_trace(trace1, row=1, col=1)\n",
    "fig1.add_trace(trace2, row=1, col=1, secondary_y=True)\n",
    "\n",
    "fig1.update_xaxes(title_text='Year', row=1, col=1)\n",
    "fig1.update_xaxes(showticklabels=True, row=1, col=1)  # Show x-axis tick labels\n",
    "\n",
    "# Hide y-axis labels for both traces\n",
    "fig1.update_yaxes(showticklabels=False, row=1, col=1)\n",
    "fig1.update_yaxes(showticklabels=False, row=1, col=1, secondary_y=True)\n",
    "\n",
    "# Set the subplot title as the firstname\n",
    "fig1.update_layout(\n",
    "    xaxis_title=\"Year\",\n",
    "    yaxis_title=\"Number of Birth\",\n",
    "    title_text=firstname,\n",
    "    plot_bgcolor='rgba(0,0,0,0)'\n",
    ")\n",
    "\n",
    "# Show the figure\n",
    "save_or_show_figure(fig1, \"img/ChristopheBirthFrequency.svg\")"
   ]
  },
  {
   "cell_type": "markdown",
   "metadata": {},
   "source": [
    "Looks like the results are mitigating on this above graph! We can't conclude the same way or with the same insurance. Later analysis on P3 will be to ass the trust interval on this correlation.\n",
    "Below, we are processing the same thing as on Christopher but on 400 firstnames!\n",
    "The diagram could look like a picture on kitchen apron (am I the only one to think that?) but it is not. 2 curves for each firstnames help us to see if a correlation is present and if yes, is it with a delay or not?\n",
    "Hence, we don't care about the real frequency, we just want to see at once if a trend is shared. \n",
    "Last, this graph was chosen because we also want to emphasize on the firstname (like the kitchen apron where each one wants to see if his firstname is present on the graph), so the firstname are ordered alphabetically!\n",
    "Try to catch your firstname (if you think it could be in top400 firstnames over the years) and see if your parents chose this firstname because a great movie with your firstname was released before your birth?"
   ]
  },
  {
   "cell_type": "code",
   "execution_count": null,
   "metadata": {},
   "outputs": [],
   "source": [
    "fig = make_subplots(\n",
    "    rows=20,\n",
    "    cols=20,\n",
    "    subplot_titles=sorted(top400_firstnamesDF[\"Firstname\"].unique()),\n",
    "    specs=[[{\"secondary_y\": True}] * 20] * 20\n",
    ")\n",
    "\n",
    "legends_added = False  # A flag to ensure legends are added only once\n",
    "\n",
    "for i, firstname in enumerate(sorted(top400_firstnamesDF[\"Firstname\"].unique())):\n",
    "    row = i // 20 + 1\n",
    "    col = i % 20 + 1\n",
    "    \n",
    "    # Sort the dataframes by \"Year\" for consistency\n",
    "    df1 = top400_firstnamesDF[top400_firstnamesDF[\"Firstname\"] == firstname].sort_values(by=\"Year\")\n",
    "    df2 = top400_firstnamesDF[top400_firstnamesDF[\"Firstname\"] == firstname].sort_values(by=\"Year\")\n",
    "\n",
    "    # Calculate the frequency for each year using apply\n",
    "    df1[\"Frequency\"] = df1.apply(lambda row: row[\"Number of birth\"] / births_by_year[births_by_year[\"Year\"] == row[\"Year\"]][\"Number\"].values[0], axis=1)\n",
    "    df2[\"Frequency\"] = df2.apply(lambda row: row[\"Number of occurences in movies\"] / firstnames_by_year[firstnames_by_year[\"Year\"] == row[\"Year\"]][\"Firstname\"].values[0], axis=1)\n",
    "\n",
    "    # Rename the columns\n",
    "    df1 = df1.rename(columns={\"Frequency\": \"Frequency of Birth\"})\n",
    "    df2 = df2.rename(columns={\"Frequency\": \"Frequency in Movies\"})\n",
    "\n",
    "    fig1 = make_subplots(\n",
    "        rows=1,\n",
    "        cols=1,\n",
    "        specs=[[{\"secondary_y\": True}]]\n",
    "    )\n",
    "\n",
    "    if row==1:\n",
    "        # Add a trace for the first line (e.g., blue)\n",
    "        trace1 = go.Scatter(x=df1[\"Year\"], y=df1[\"Frequency of Birth\"], mode='lines', name=\"Frequency of Birth\", line=dict(color='blue'),legendgroup='Frequency of birth')\n",
    "        # Add a trace for the second line (e.g., red)\n",
    "        trace2 = go.Scatter(x=df2[\"Year\"], y=df2[\"Frequency in Movies\"], mode='lines', name=\"Frequency of Occurrences in Movies\", line=dict(color='orange'),legendgroup='Frequency of occurence in movies', yaxis=\"y2\")\n",
    "\n",
    "    # Add a trace for the first line (e.g., blue)\n",
    "    trace1 = go.Scatter(x=df1[\"Year\"], y=df1[\"Frequency of Birth\"], mode='lines', name=\"Frequency of Birth\", line=dict(color='blue'),legendgroup='Frequency of birth',showlegend=False)\n",
    "    # Add a trace for the second line (e.g., red)\n",
    "    trace2 = go.Scatter(x=df2[\"Year\"], y=df2[\"Frequency in Movies\"], mode='lines', name=\"Frequency of Occurrences in Movies\", line=dict(color='orange'),legendgroup='Frequency of occurence in movies',showlegend=False, yaxis=\"y2\")\n",
    "\n",
    "    # Add the traces to the subplot\n",
    "    fig.add_trace(trace1, row=row, col=col)\n",
    "    fig.add_trace(trace2, row=row, col=col, secondary_y=True)\n",
    "\n",
    "    fig.update_xaxes(title_text='', row=row, col=col)  # Remove x-axis label\n",
    "    fig.update_yaxes(title_text='', row=row, col=col)  # Remove y-axis label for the primary y-axis\n",
    "    fig.update_yaxes(title_text='', row=row, col=col, secondary_y=True)  # Remove y-axis label for the secondary y-axis\n",
    "    fig.update_xaxes(showticklabels=False, showgrid=False, row=row, col=col)\n",
    "    fig.update_yaxes(showticklabels=False, showgrid=False, row=row, col=col)\n",
    "    fig.update_yaxes(showticklabels=False, showgrid=False, row=row, col=col, secondary_y=True)\n",
    "\n",
    "    # Set the subplot title as the firstname using update_xaxes\n",
    "    # fig.update_xaxes(title_text=firstname, row=row, col=col)\n",
    "\n",
    "# Update the figure properties\n",
    "fig.update_annotations(font_size=8)\n",
    "fig.update_layout(\n",
    "    height=1000,\n",
    "    width=1400,  # Increase the width to accommodate the legend\n",
    "    title_text=\"Firstname occurrence frequency in top400 names over the years\",\n",
    "    plot_bgcolor=\"white\",\n",
    "    showlegend=True,  # Show the full plot legend\n",
    "    legend=dict(\n",
    "        orientation=\"v\",  # Set orientation to vertical for a legend on the right\n",
    "        x=1.05,  # Adjust the x position as needed\n",
    "        y=0.5,  # Adjust the y position as needed\n",
    "        itemsizing='constant',  # Set the size of legend items to be constant\n",
    "        tracegroupgap=10,  # Add some space between the legend groups\n",
    "        traceorder=\"normal\",  # Set the order of the legend items\n",
    "        bgcolor=\"white\",  # Set the background color of the legend\n",
    "        bordercolor=\"black\",  # Set the border color of the legend\n",
    "        borderwidth=1,  # Set the border width of the legend\n",
    "        font=dict(size=8),  # Set the font size of the legend\n",
    "        title=dict(text=\"Legend\"),  # Set the title of the legend\n",
    "    ),\n",
    "    font=dict(size=8),\n",
    "    xaxis=dict(showticklabels=False, showgrid=False),\n",
    "    xaxis_title=\"\",\n",
    "    title_font_size=20,  # set font size of subplot titles\n",
    ")\n",
    "\n",
    "\n",
    "# Show the figure\n",
    "save_or_show_figure(fig, \"img/FirstnameOccurenceFrequencyTop400.svg\")"
   ]
  },
  {
   "cell_type": "markdown",
   "metadata": {},
   "source": [
    "Great, but now we are tired of searching for another firstname, we want to see the general trend. We would like to see if some firstnames are in advance of movies in babynames distribution or the contrary. We are less focusing on the firstnames but more on the potential delay of correlation between movies and reality."
   ]
  },
  {
   "cell_type": "code",
   "execution_count": null,
   "metadata": {},
   "outputs": [],
   "source": [
    "correlationDF = pd.DataFrame(columns=[\"Firstname\", \"Correlation\"])\n",
    "\n",
    "for i, firstname in enumerate(sorted(top400_firstnamesDF[\"Firstname\"].unique())):\n",
    "    row = i // 20 + 1\n",
    "    col = i % 20 + 1\n",
    "    \n",
    "    # Sort the dataframes by \"Year\" for consistency\n",
    "    df1 = top400_firstnamesDF[top400_firstnamesDF[\"Firstname\"] == firstname].sort_values(by=\"Year\")\n",
    "    df2 = top400_firstnamesDF[top400_firstnamesDF[\"Firstname\"] == firstname].sort_values(by=\"Year\")\n",
    "\n",
    "    # Calculate the frequency for each year using apply\n",
    "    df1[\"Frequency\"] = df1.apply(lambda row: row[\"Number of birth\"] / births_by_year[births_by_year[\"Year\"] == row[\"Year\"]][\"Number\"].values[0], axis=1)\n",
    "    df2[\"Frequency\"] = df2.apply(lambda row: row[\"Number of occurences in movies\"] / firstnames_by_year[firstnames_by_year[\"Year\"] == row[\"Year\"]][\"Firstname\"].values[0], axis=1)\n",
    "\n",
    "    # Rename the columns\n",
    "    df1 = df1.rename(columns={\"Frequency\": \"Frequency of Birth\"})\n",
    "    df2 = df2.rename(columns={\"Frequency\": \"Frequency in Movies\"})\n",
    "    \n",
    "    correlationDF = pd.concat([correlationDF, pd.DataFrame([[firstname, df1[\"Frequency of Birth\"].corr(df2[\"Frequency in Movies\"])]], columns=[\"Firstname\", \"Correlation\"])])"
   ]
  },
  {
   "cell_type": "code",
   "execution_count": null,
   "metadata": {},
   "outputs": [],
   "source": [
    "# Create an empty DataFrame to store the results\n",
    "cross_correlation_results = pd.DataFrame(columns=[\"FirstName\", \"Cross-Correlation\", \"Time Delay\"])\n",
    "\n",
    "# Iterate through the first names\n",
    "for firstname in top400_firstnamesDF[\"Firstname\"].unique():\n",
    "    # Sort the dataframes by \"Year\" for consistency\n",
    "    df1 = top400_firstnamesDF[top400_firstnamesDF[\"Firstname\"] == firstname].sort_values(by=\"Year\")\n",
    "    df2 = top400_firstnamesDF[top400_firstnamesDF[\"Firstname\"] == firstname].sort_values(by=\"Year\")\n",
    "\n",
    "    # Calculate the frequency for each year using apply\n",
    "    df1[\"Frequency\"] = df1.apply(lambda row: row[\"Number of birth\"] / births_by_year[births_by_year[\"Year\"] == row[\"Year\"]][\"Number\"].values[0], axis=1)\n",
    "    df2[\"Frequency\"] = df2.apply(lambda row: row[\"Number of occurences in movies\"] / firstnames_by_year[firstnames_by_year[\"Year\"] == row[\"Year\"]][\"Firstname\"].values[0], axis=1)\n",
    "\n",
    "    # Rename the columns\n",
    "    df1 = df1.rename(columns={\"Frequency\": \"Frequency of Birth\"})\n",
    "    df2 = df2.rename(columns={\"Frequency\": \"Frequency in Movies\"})\n",
    "\n",
    "    # Calculate the cross-correlation and time delay\n",
    "    cross_correlation = np.correlate(df1[\"Frequency of Birth\"], df2[\"Frequency in Movies\"], mode='full')\n",
    "    time_delay = np.argmax(cross_correlation) - (len(df2) - 1)  # Calculate the time delay\n",
    "\n",
    "    # Create a new DataFrame with the result for this firstname\n",
    "    result_df = pd.DataFrame({\"FirstName\": [firstname], \"Cross-Correlation\": [cross_correlation], \"Time Delay\": [time_delay]})\n",
    "\n",
    "    # Concatenate the result with the main DataFrame\n",
    "    cross_correlation_results = pd.concat([cross_correlation_results, result_df], ignore_index=True)"
   ]
  },
  {
   "cell_type": "code",
   "execution_count": null,
   "metadata": {},
   "outputs": [],
   "source": [
    "# Prepare Data\n",
    "df = cross_correlation_results\n",
    "\n",
    "# Group the data by 'Time Delay' and aggregate the 'FirstName' into a sorted list\n",
    "dflist = df.groupby('Time Delay')['FirstName'].apply(lambda x: sorted(x)).reset_index()\n",
    "\n",
    "# Rename the columns for clarity\n",
    "dflist.columns = ['Time Delay', 'FirstNameList']\n",
    "\n",
    "# Remove all 0 Time Delay in dflist and store them in another DataFrame\n",
    "dflist_0 = dflist[dflist[\"Time Delay\"] == 0]\n",
    "dflist = dflist[dflist[\"Time Delay\"] != 0]\n",
    "dflist['colors'] = dflist['Time Delay'].astype(float)\n",
    "\n",
    "# Convert the list of first names into a comma-separated string\n",
    "dflist['FirstNameList'] = dflist['FirstNameList'].apply(lambda names: ', '.join(names))\n",
    "\n",
    "# Sort the DataFrame by the 'Time Delay' column in ascending order\n",
    "dflist = dflist.sort_values(by=\"Time Delay\", ascending=True).reset_index(drop=True)\n",
    "\n",
    "# Create Diverging Bars Plot with the RdYlGn colormap using the log_colors\n",
    "fig = px.bar(\n",
    "    dflist,\n",
    "    x='Time Delay',\n",
    "    y=dflist.index,  # Use the index as y-axis values\n",
    "    color='colors',  # Use the log transformed values for color\n",
    "    text='FirstNameList',  # Now it contains comma-separated names\n",
    "    orientation='h',\n",
    "    width=1500,  # Increase the width to provide more space for the legend\n",
    "    height=1000,\n",
    "    color_continuous_scale='RdYlGn',  # Use a diverging colormap\n",
    "    color_continuous_midpoint= 4.14,\n",
    ")\n",
    "fig.update_traces(\n",
    "    textfont_size=12, \n",
    "    textangle=0, \n",
    "    textposition=\"outside\",\n",
    "    cliponaxis=True,\n",
    ")\n",
    "fig.update_xaxes(side=\"top\")  # Move the x-axis to the top\n",
    "\n",
    "# Update the layout for better appearance\n",
    "fig.update_layout(\n",
    "    yaxis_title='',\n",
    "    xaxis_title='Time Delay (Year)',\n",
    "    title='Comparison of Time Delay for Firstnames between Birth and Movies',\n",
    "    xaxis=dict(\n",
    "        title_font=dict(size=10),  # Set the x-axis title font size\n",
    "        tickfont=dict(size=8),\n",
    "    ),\n",
    "    font=dict(size=20),  # Set the main title font size\n",
    "    title_x=0.5,  # Center-align the title\n",
    "    yaxis=dict(\n",
    "        tickvals=dflist.index,\n",
    "        ticktext=dflist['FirstNameList'],  # Use 'FirstName' column for tick labels\n",
    "        tickfont=dict(size=8),\n",
    "        showticklabels=False,\n",
    "        showgrid=False\n",
    "    ),\n",
    "    showlegend=False,\n",
    "    plot_bgcolor=\"white\",\n",
    "    margin=dict(t=150, b=40),  # Adjust the top and bottom margins as needed\n",
    ")\n",
    "\n",
    "# Set the coloraxis title to reflect the log scale\n",
    "fig.update_coloraxes(colorbar_title=\"Time Delay\")\n",
    "fig.update_coloraxes(colorbar_tickfont_size=8)  # Set the color axis font size\n",
    "fig.update_coloraxes(colorbar_len=0.6, colorbar_thickness=20)  # Adjust the color bar size\n",
    "\n",
    "\n",
    "#Add annotations\n",
    "str1=\"Movies in advance of Birth\"\n",
    "str2=\"Movies after Birth\"\n",
    "fig.add_annotation(x=-12, y=60, text=str1, font=dict(size=16), showarrow=False)\n",
    "fig.add_annotation(x=7, y=23, text=str2, font=dict(size=16), showarrow=False)\n",
    "\n",
    "first_names = dflist_0[\"FirstNameList\"].values[0]\n",
    "formatted_names = \",\\n\".join(\", \".join(first_names[i:i+10]) for i in range(0, len(first_names), 10))\n",
    "print(\"The first names that have 0 time delay are:\")\n",
    "print(formatted_names)\n",
    "\n",
    "save_or_show_figure(fig, \"img/TimeDelay.svg\")"
   ]
  },
  {
   "cell_type": "markdown",
   "metadata": {},
   "source": [
    "This is a more proper way to improve our thoughts on the potential correlation of the firstnames in movies and in reality. As from the beginning, we want to see the trends, we will have to continue on this way for the final analysis. This new argument that will help us to affine our analysis:\n",
    "- We are not focusing on feminity or masculinity of the firstname\n",
    "- We are not focusing on the origin/country of the firstname\n",
    "- We could look to see if trendy firstnames in reality have a trend delay in movies"
   ]
  },
  {
   "cell_type": "markdown",
   "metadata": {},
   "source": [
    "# 3. What would be the ideal dataset to give to aliens so they have the best picture of our civilization"
   ]
  }
 ],
 "metadata": {
  "kernelspec": {
   "display_name": "Python 3 (ipykernel)",
   "language": "python",
   "name": "python3"
  },
  "language_info": {
   "codemirror_mode": {
    "name": "ipython",
    "version": 3
   },
   "file_extension": ".py",
   "mimetype": "text/x-python",
   "name": "python",
   "nbconvert_exporter": "python",
   "pygments_lexer": "ipython3",
   "version": "3.10.11"
  }
 },
 "nbformat": 4,
 "nbformat_minor": 5
}
