{
 "cells": [
  {
   "cell_type": "markdown",
   "id": "69472089",
   "metadata": {},
   "source": [
    "# 0. Import librairies"
   ]
  },
  {
   "cell_type": "markdown",
   "id": "606e7652",
   "metadata": {},
   "source": [
    "In this section, we simply import and prepare the data sets, as we assume alians could do."
   ]
  },
  {
   "cell_type": "markdown",
   "id": "7162cd6f",
   "metadata": {},
   "source": [
    "## 0.1. Importing the datas"
   ]
  },
  {
   "cell_type": "code",
   "execution_count": 1,
   "id": "21f72420",
   "metadata": {},
   "outputs": [],
   "source": [
    "%%capture\n",
    "# Install dependencies\n",
    "#!{sys.executable} -m pip install -r \"./_SET_UP/requirements.txt\""
   ]
  },
  {
   "cell_type": "code",
   "execution_count": 2,
   "id": "d2f1c739",
   "metadata": {},
   "outputs": [
    {
     "data": {
      "text/html": [
       "        <script type=\"text/javascript\">\n",
       "        window.PlotlyConfig = {MathJaxConfig: 'local'};\n",
       "        if (window.MathJax && window.MathJax.Hub && window.MathJax.Hub.Config) {window.MathJax.Hub.Config({SVG: {font: \"STIX-Web\"}});}\n",
       "        if (typeof require !== 'undefined') {\n",
       "        require.undef(\"plotly\");\n",
       "        requirejs.config({\n",
       "            paths: {\n",
       "                'plotly': ['https://cdn.plot.ly/plotly-2.12.1.min']\n",
       "            }\n",
       "        });\n",
       "        require(['plotly'], function(Plotly) {\n",
       "            window._Plotly = Plotly;\n",
       "        });\n",
       "        }\n",
       "        </script>\n",
       "        "
      ]
     },
     "metadata": {},
     "output_type": "display_data"
    }
   ],
   "source": [
    "# Import libraries\n",
    "import copy\n",
    "import pandas as pd\n",
    "import numpy as np\n",
    "import os\n",
    "import json\n",
    "import math\n",
    "import matplotlib.pyplot as plt\n",
    "import plotly.express as px\n",
    "import plotly.graph_objects as go\n",
    "import plotly.graph_objs as go\n",
    "import plotly.offline as py\n",
    "import re\n",
    "\n",
    "from IPython.display import Image\n",
    "from IPython.display import Markdown\n",
    "from kaleido.scopes.plotly import PlotlyScope\n",
    "from wordcloud import WordCloud, ImageColorGenerator\n",
    "from plotly.offline import iplot\n",
    "from plotly.subplots import make_subplots\n",
    "\n",
    "py.offline.init_notebook_mode(connected=True)"
   ]
  },
  {
   "cell_type": "code",
   "execution_count": 3,
   "id": "72a8c2c9",
   "metadata": {},
   "outputs": [],
   "source": [
    "# Import external functions\n",
    "from EXTERNAL_FUNCTIONS import DataImport\n",
    "from EXTERNAL_FUNCTIONS import DatasetTreatment"
   ]
  },
  {
   "cell_type": "code",
   "execution_count": 4,
   "id": "bdd9c5a4",
   "metadata": {},
   "outputs": [],
   "source": [
    "# GLOBAL VARIABLE NOT TO SHOW DYNAMIC PLOTLY PLOT IN GITHUB\n",
    "GITHUB = True"
   ]
  },
  {
   "cell_type": "markdown",
   "id": "a4a1d0bf",
   "metadata": {},
   "source": [
    "Import the dataset MovieSummaries"
   ]
  },
  {
   "cell_type": "code",
   "execution_count": 5,
   "id": "16142f50",
   "metadata": {},
   "outputs": [
    {
     "name": "stderr",
     "output_type": "stream",
     "text": [
      "C:\\Users\\jlefo\\Desktop\\ADA\\github_tea4two\\ada-2023-project-tea4two\\EXTERNAL_FUNCTIONS\\DataImport.py:27: ParserWarning:\n",
      "\n",
      "Length of header or names does not match length of data. This leads to a loss of data with index_col=False.\n",
      "\n"
     ]
    }
   ],
   "source": [
    "PATH_IN = './DATA/MovieSummaries'\n",
    "\n",
    "# Import data\n",
    "characterDF_without_ethnicity,movieDF,nameDF,plotDF,tvtropDF = DataImport.OpenMainMovieDatasetDF(PATH_IN)\n",
    "movieDF = DatasetTreatment.MovieDF_Treatment(movieDF)\n",
    "# Main dataframe\n",
    "dataframeList = [characterDF_without_ethnicity,movieDF,nameDF,plotDF,tvtropDF]\n",
    "dataframeNameList = ['characterDF_without_ethnicity','movieDF','nameDF','plotDF','tvtropDF']\n"
   ]
  },
  {
   "cell_type": "code",
   "execution_count": 6,
   "id": "3ec83c6f",
   "metadata": {
    "scrolled": true
   },
   "outputs": [
    {
     "data": {
      "text/html": [
       "<div>\n",
       "<style scoped>\n",
       "    .dataframe tbody tr th:only-of-type {\n",
       "        vertical-align: middle;\n",
       "    }\n",
       "\n",
       "    .dataframe tbody tr th {\n",
       "        vertical-align: top;\n",
       "    }\n",
       "\n",
       "    .dataframe thead th {\n",
       "        text-align: right;\n",
       "    }\n",
       "</style>\n",
       "<table border=\"1\" class=\"dataframe\">\n",
       "  <thead>\n",
       "    <tr style=\"text-align: right;\">\n",
       "      <th></th>\n",
       "      <th>Wikipedia movie ID</th>\n",
       "      <th>Freebase movie ID</th>\n",
       "      <th>Movie release date</th>\n",
       "      <th>Character Name</th>\n",
       "      <th>Actor DOB</th>\n",
       "      <th>Actor gender</th>\n",
       "      <th>Actor height</th>\n",
       "      <th>Actor ethnicity</th>\n",
       "      <th>Actor Name</th>\n",
       "      <th>Actor age at movie release</th>\n",
       "      <th>Freebase character map</th>\n",
       "    </tr>\n",
       "  </thead>\n",
       "  <tbody>\n",
       "    <tr>\n",
       "      <th>0</th>\n",
       "      <td>975900</td>\n",
       "      <td>/m/03vyhn</td>\n",
       "      <td>2001-08-24</td>\n",
       "      <td>Akooshay</td>\n",
       "      <td>1958-08-26</td>\n",
       "      <td>F</td>\n",
       "      <td>1.620</td>\n",
       "      <td>NaN</td>\n",
       "      <td>Wanda De Jesus</td>\n",
       "      <td>42.0</td>\n",
       "      <td>/m/0bgchxw</td>\n",
       "    </tr>\n",
       "    <tr>\n",
       "      <th>1</th>\n",
       "      <td>975900</td>\n",
       "      <td>/m/03vyhn</td>\n",
       "      <td>2001-08-24</td>\n",
       "      <td>Lieutenant Melanie Ballard</td>\n",
       "      <td>1974-08-15</td>\n",
       "      <td>F</td>\n",
       "      <td>1.780</td>\n",
       "      <td>/m/044038p</td>\n",
       "      <td>Natasha Henstridge</td>\n",
       "      <td>27.0</td>\n",
       "      <td>/m/0jys3m</td>\n",
       "    </tr>\n",
       "    <tr>\n",
       "      <th>2</th>\n",
       "      <td>975900</td>\n",
       "      <td>/m/03vyhn</td>\n",
       "      <td>2001-08-24</td>\n",
       "      <td>Desolation Williams</td>\n",
       "      <td>1969-06-15</td>\n",
       "      <td>M</td>\n",
       "      <td>1.727</td>\n",
       "      <td>/m/0x67</td>\n",
       "      <td>Ice Cube</td>\n",
       "      <td>32.0</td>\n",
       "      <td>/m/0jys3g</td>\n",
       "    </tr>\n",
       "    <tr>\n",
       "      <th>3</th>\n",
       "      <td>975900</td>\n",
       "      <td>/m/03vyhn</td>\n",
       "      <td>2001-08-24</td>\n",
       "      <td>Sgt Jericho Butler</td>\n",
       "      <td>1967-09-12</td>\n",
       "      <td>M</td>\n",
       "      <td>1.750</td>\n",
       "      <td>NaN</td>\n",
       "      <td>Jason Statham</td>\n",
       "      <td>33.0</td>\n",
       "      <td>/m/02vchl6</td>\n",
       "    </tr>\n",
       "    <tr>\n",
       "      <th>4</th>\n",
       "      <td>975900</td>\n",
       "      <td>/m/03vyhn</td>\n",
       "      <td>2001-08-24</td>\n",
       "      <td>Bashira Kincaid</td>\n",
       "      <td>1977-09-25</td>\n",
       "      <td>F</td>\n",
       "      <td>1.650</td>\n",
       "      <td>NaN</td>\n",
       "      <td>Clea DuVall</td>\n",
       "      <td>23.0</td>\n",
       "      <td>/m/02vbb3r</td>\n",
       "    </tr>\n",
       "  </tbody>\n",
       "</table>\n",
       "</div>"
      ],
      "text/plain": [
       "   Wikipedia movie ID Freebase movie ID Movie release date  \\\n",
       "0              975900         /m/03vyhn         2001-08-24   \n",
       "1              975900         /m/03vyhn         2001-08-24   \n",
       "2              975900         /m/03vyhn         2001-08-24   \n",
       "3              975900         /m/03vyhn         2001-08-24   \n",
       "4              975900         /m/03vyhn         2001-08-24   \n",
       "\n",
       "               Character Name   Actor DOB Actor gender  Actor height  \\\n",
       "0                    Akooshay  1958-08-26            F         1.620   \n",
       "1  Lieutenant Melanie Ballard  1974-08-15            F         1.780   \n",
       "2         Desolation Williams  1969-06-15            M         1.727   \n",
       "3          Sgt Jericho Butler  1967-09-12            M         1.750   \n",
       "4             Bashira Kincaid  1977-09-25            F         1.650   \n",
       "\n",
       "  Actor ethnicity          Actor Name  Actor age at movie release  \\\n",
       "0             NaN      Wanda De Jesus                        42.0   \n",
       "1      /m/044038p  Natasha Henstridge                        27.0   \n",
       "2         /m/0x67            Ice Cube                        32.0   \n",
       "3             NaN       Jason Statham                        33.0   \n",
       "4             NaN         Clea DuVall                        23.0   \n",
       "\n",
       "  Freebase character map  \n",
       "0             /m/0bgchxw  \n",
       "1              /m/0jys3m  \n",
       "2              /m/0jys3g  \n",
       "3             /m/02vchl6  \n",
       "4             /m/02vbb3r  "
      ]
     },
     "metadata": {},
     "output_type": "display_data"
    },
    {
     "data": {
      "text/html": [
       "<div>\n",
       "<style scoped>\n",
       "    .dataframe tbody tr th:only-of-type {\n",
       "        vertical-align: middle;\n",
       "    }\n",
       "\n",
       "    .dataframe tbody tr th {\n",
       "        vertical-align: top;\n",
       "    }\n",
       "\n",
       "    .dataframe thead th {\n",
       "        text-align: right;\n",
       "    }\n",
       "</style>\n",
       "<table border=\"1\" class=\"dataframe\">\n",
       "  <thead>\n",
       "    <tr style=\"text-align: right;\">\n",
       "      <th></th>\n",
       "      <th>Wikipedia movie ID</th>\n",
       "      <th>Freebase movie ID</th>\n",
       "      <th>Movie name</th>\n",
       "      <th>Movie release date</th>\n",
       "      <th>Movie box office revenue</th>\n",
       "      <th>Movie runtime</th>\n",
       "      <th>Movie languages</th>\n",
       "      <th>Movie countries</th>\n",
       "      <th>Movie genres</th>\n",
       "      <th>Freebase Language</th>\n",
       "      <th>Freebase country</th>\n",
       "      <th>Freebase genre</th>\n",
       "    </tr>\n",
       "  </thead>\n",
       "  <tbody>\n",
       "    <tr>\n",
       "      <th>0</th>\n",
       "      <td>975900</td>\n",
       "      <td>/m/03vyhn</td>\n",
       "      <td>Ghosts of Mars</td>\n",
       "      <td>2001-08-24</td>\n",
       "      <td>14010832.0</td>\n",
       "      <td>98.0</td>\n",
       "      <td>[English Language]</td>\n",
       "      <td>[United States of America]</td>\n",
       "      <td>[Thriller, Science Fiction, Horror, Adventure,...</td>\n",
       "      <td>[/m/02h40lc]</td>\n",
       "      <td>[/m/09c7w0]</td>\n",
       "      <td>[/m/01jfsb, /m/06n90, /m/03npn, /m/03k9fj, /m/...</td>\n",
       "    </tr>\n",
       "    <tr>\n",
       "      <th>1</th>\n",
       "      <td>3196793</td>\n",
       "      <td>/m/08yl5d</td>\n",
       "      <td>Getting Away with Murder: The JonBenét Ramsey ...</td>\n",
       "      <td>2000-02-16</td>\n",
       "      <td>NaN</td>\n",
       "      <td>95.0</td>\n",
       "      <td>[English Language]</td>\n",
       "      <td>[United States of America]</td>\n",
       "      <td>[Mystery, Biographical film, Drama, Crime Drama]</td>\n",
       "      <td>[/m/02h40lc]</td>\n",
       "      <td>[/m/09c7w0]</td>\n",
       "      <td>[/m/02n4kr, /m/03bxz7, /m/07s9rl0, /m/0hj3n01]</td>\n",
       "    </tr>\n",
       "    <tr>\n",
       "      <th>2</th>\n",
       "      <td>28463795</td>\n",
       "      <td>/m/0crgdbh</td>\n",
       "      <td>Brun bitter</td>\n",
       "      <td>1988</td>\n",
       "      <td>NaN</td>\n",
       "      <td>83.0</td>\n",
       "      <td>[Norwegian Language]</td>\n",
       "      <td>[Norway]</td>\n",
       "      <td>[Crime Fiction, Drama]</td>\n",
       "      <td>[/m/05f_3]</td>\n",
       "      <td>[/m/05b4w]</td>\n",
       "      <td>[/m/0lsxr, /m/07s9rl0]</td>\n",
       "    </tr>\n",
       "    <tr>\n",
       "      <th>3</th>\n",
       "      <td>9363483</td>\n",
       "      <td>/m/0285_cd</td>\n",
       "      <td>White Of The Eye</td>\n",
       "      <td>1987</td>\n",
       "      <td>NaN</td>\n",
       "      <td>110.0</td>\n",
       "      <td>[English Language]</td>\n",
       "      <td>[United Kingdom]</td>\n",
       "      <td>[Thriller, Erotic thriller, Psychological thri...</td>\n",
       "      <td>[/m/02h40lc]</td>\n",
       "      <td>[/m/07ssc]</td>\n",
       "      <td>[/m/01jfsb, /m/0glj9q, /m/09blyk]</td>\n",
       "    </tr>\n",
       "    <tr>\n",
       "      <th>4</th>\n",
       "      <td>261236</td>\n",
       "      <td>/m/01mrr1</td>\n",
       "      <td>A Woman in Flames</td>\n",
       "      <td>1983</td>\n",
       "      <td>NaN</td>\n",
       "      <td>106.0</td>\n",
       "      <td>[German Language]</td>\n",
       "      <td>[Germany]</td>\n",
       "      <td>[Drama]</td>\n",
       "      <td>[/m/04306rv]</td>\n",
       "      <td>[/m/0345h]</td>\n",
       "      <td>[/m/07s9rl0]</td>\n",
       "    </tr>\n",
       "  </tbody>\n",
       "</table>\n",
       "</div>"
      ],
      "text/plain": [
       "   Wikipedia movie ID Freebase movie ID  \\\n",
       "0              975900         /m/03vyhn   \n",
       "1             3196793         /m/08yl5d   \n",
       "2            28463795        /m/0crgdbh   \n",
       "3             9363483        /m/0285_cd   \n",
       "4              261236         /m/01mrr1   \n",
       "\n",
       "                                          Movie name Movie release date  \\\n",
       "0                                     Ghosts of Mars         2001-08-24   \n",
       "1  Getting Away with Murder: The JonBenét Ramsey ...         2000-02-16   \n",
       "2                                        Brun bitter               1988   \n",
       "3                                   White Of The Eye               1987   \n",
       "4                                  A Woman in Flames               1983   \n",
       "\n",
       "   Movie box office revenue  Movie runtime       Movie languages  \\\n",
       "0                14010832.0           98.0    [English Language]   \n",
       "1                       NaN           95.0    [English Language]   \n",
       "2                       NaN           83.0  [Norwegian Language]   \n",
       "3                       NaN          110.0    [English Language]   \n",
       "4                       NaN          106.0     [German Language]   \n",
       "\n",
       "              Movie countries  \\\n",
       "0  [United States of America]   \n",
       "1  [United States of America]   \n",
       "2                    [Norway]   \n",
       "3            [United Kingdom]   \n",
       "4                   [Germany]   \n",
       "\n",
       "                                        Movie genres Freebase Language  \\\n",
       "0  [Thriller, Science Fiction, Horror, Adventure,...      [/m/02h40lc]   \n",
       "1   [Mystery, Biographical film, Drama, Crime Drama]      [/m/02h40lc]   \n",
       "2                             [Crime Fiction, Drama]        [/m/05f_3]   \n",
       "3  [Thriller, Erotic thriller, Psychological thri...      [/m/02h40lc]   \n",
       "4                                            [Drama]      [/m/04306rv]   \n",
       "\n",
       "  Freebase country                                     Freebase genre  \n",
       "0      [/m/09c7w0]  [/m/01jfsb, /m/06n90, /m/03npn, /m/03k9fj, /m/...  \n",
       "1      [/m/09c7w0]     [/m/02n4kr, /m/03bxz7, /m/07s9rl0, /m/0hj3n01]  \n",
       "2       [/m/05b4w]                             [/m/0lsxr, /m/07s9rl0]  \n",
       "3       [/m/07ssc]                  [/m/01jfsb, /m/0glj9q, /m/09blyk]  \n",
       "4       [/m/0345h]                                       [/m/07s9rl0]  "
      ]
     },
     "metadata": {},
     "output_type": "display_data"
    },
    {
     "data": {
      "text/html": [
       "<div>\n",
       "<style scoped>\n",
       "    .dataframe tbody tr th:only-of-type {\n",
       "        vertical-align: middle;\n",
       "    }\n",
       "\n",
       "    .dataframe tbody tr th {\n",
       "        vertical-align: top;\n",
       "    }\n",
       "\n",
       "    .dataframe thead th {\n",
       "        text-align: right;\n",
       "    }\n",
       "</style>\n",
       "<table border=\"1\" class=\"dataframe\">\n",
       "  <thead>\n",
       "    <tr style=\"text-align: right;\">\n",
       "      <th></th>\n",
       "      <th>Character Name</th>\n",
       "      <th>Freebase character map</th>\n",
       "    </tr>\n",
       "  </thead>\n",
       "  <tbody>\n",
       "    <tr>\n",
       "      <th>0</th>\n",
       "      <td>Stuart Little</td>\n",
       "      <td>/m/0k3w9c</td>\n",
       "    </tr>\n",
       "    <tr>\n",
       "      <th>1</th>\n",
       "      <td>Stuart Little</td>\n",
       "      <td>/m/0k3wcx</td>\n",
       "    </tr>\n",
       "    <tr>\n",
       "      <th>2</th>\n",
       "      <td>Stuart Little</td>\n",
       "      <td>/m/0k3wbn</td>\n",
       "    </tr>\n",
       "    <tr>\n",
       "      <th>3</th>\n",
       "      <td>John Doe</td>\n",
       "      <td>/m/0jyg35</td>\n",
       "    </tr>\n",
       "    <tr>\n",
       "      <th>4</th>\n",
       "      <td>John Doe</td>\n",
       "      <td>/m/0k2_zn</td>\n",
       "    </tr>\n",
       "  </tbody>\n",
       "</table>\n",
       "</div>"
      ],
      "text/plain": [
       "  Character Name Freebase character map\n",
       "0  Stuart Little              /m/0k3w9c\n",
       "1  Stuart Little              /m/0k3wcx\n",
       "2  Stuart Little              /m/0k3wbn\n",
       "3       John Doe              /m/0jyg35\n",
       "4       John Doe              /m/0k2_zn"
      ]
     },
     "metadata": {},
     "output_type": "display_data"
    },
    {
     "data": {
      "text/html": [
       "<div>\n",
       "<style scoped>\n",
       "    .dataframe tbody tr th:only-of-type {\n",
       "        vertical-align: middle;\n",
       "    }\n",
       "\n",
       "    .dataframe tbody tr th {\n",
       "        vertical-align: top;\n",
       "    }\n",
       "\n",
       "    .dataframe thead th {\n",
       "        text-align: right;\n",
       "    }\n",
       "</style>\n",
       "<table border=\"1\" class=\"dataframe\">\n",
       "  <thead>\n",
       "    <tr style=\"text-align: right;\">\n",
       "      <th></th>\n",
       "      <th>Wikipedia movie ID</th>\n",
       "      <th>Plot</th>\n",
       "    </tr>\n",
       "  </thead>\n",
       "  <tbody>\n",
       "    <tr>\n",
       "      <th>0</th>\n",
       "      <td>23890098</td>\n",
       "      <td>Shlykov, a hard-working taxi driver and Lyosha...</td>\n",
       "    </tr>\n",
       "    <tr>\n",
       "      <th>1</th>\n",
       "      <td>31186339</td>\n",
       "      <td>The nation of Panem consists of a wealthy Capi...</td>\n",
       "    </tr>\n",
       "    <tr>\n",
       "      <th>2</th>\n",
       "      <td>20663735</td>\n",
       "      <td>Poovalli Induchoodan  is sentenced for six yea...</td>\n",
       "    </tr>\n",
       "    <tr>\n",
       "      <th>3</th>\n",
       "      <td>2231378</td>\n",
       "      <td>The Lemon Drop Kid , a New York City swindler,...</td>\n",
       "    </tr>\n",
       "    <tr>\n",
       "      <th>4</th>\n",
       "      <td>595909</td>\n",
       "      <td>Seventh-day Adventist Church pastor Michael Ch...</td>\n",
       "    </tr>\n",
       "  </tbody>\n",
       "</table>\n",
       "</div>"
      ],
      "text/plain": [
       "   Wikipedia movie ID                                               Plot\n",
       "0            23890098  Shlykov, a hard-working taxi driver and Lyosha...\n",
       "1            31186339  The nation of Panem consists of a wealthy Capi...\n",
       "2            20663735  Poovalli Induchoodan  is sentenced for six yea...\n",
       "3             2231378  The Lemon Drop Kid , a New York City swindler,...\n",
       "4              595909  Seventh-day Adventist Church pastor Michael Ch..."
      ]
     },
     "metadata": {},
     "output_type": "display_data"
    },
    {
     "data": {
      "text/html": [
       "<div>\n",
       "<style scoped>\n",
       "    .dataframe tbody tr th:only-of-type {\n",
       "        vertical-align: middle;\n",
       "    }\n",
       "\n",
       "    .dataframe tbody tr th {\n",
       "        vertical-align: top;\n",
       "    }\n",
       "\n",
       "    .dataframe thead th {\n",
       "        text-align: right;\n",
       "    }\n",
       "</style>\n",
       "<table border=\"1\" class=\"dataframe\">\n",
       "  <thead>\n",
       "    <tr style=\"text-align: right;\">\n",
       "      <th></th>\n",
       "      <th>stereotype</th>\n",
       "      <th>char</th>\n",
       "      <th>movie</th>\n",
       "      <th>id</th>\n",
       "      <th>actor</th>\n",
       "    </tr>\n",
       "  </thead>\n",
       "  <tbody>\n",
       "    <tr>\n",
       "      <th>0</th>\n",
       "      <td>absent_minded_professor</td>\n",
       "      <td>Professor Philip Brainard</td>\n",
       "      <td>Flubber</td>\n",
       "      <td>/m/0jy9q0</td>\n",
       "      <td>Robin Williams</td>\n",
       "    </tr>\n",
       "    <tr>\n",
       "      <th>1</th>\n",
       "      <td>absent_minded_professor</td>\n",
       "      <td>Professor Keenbean</td>\n",
       "      <td>Richie Rich</td>\n",
       "      <td>/m/02vchl3</td>\n",
       "      <td>Michael McShane</td>\n",
       "    </tr>\n",
       "    <tr>\n",
       "      <th>2</th>\n",
       "      <td>absent_minded_professor</td>\n",
       "      <td>Dr. Reinhardt Lane</td>\n",
       "      <td>The Shadow</td>\n",
       "      <td>/m/0k6fkc</td>\n",
       "      <td>Ian McKellen</td>\n",
       "    </tr>\n",
       "    <tr>\n",
       "      <th>3</th>\n",
       "      <td>absent_minded_professor</td>\n",
       "      <td>Dr. Harold Medford</td>\n",
       "      <td>Them!</td>\n",
       "      <td>/m/0k6_br</td>\n",
       "      <td>Edmund Gwenn</td>\n",
       "    </tr>\n",
       "    <tr>\n",
       "      <th>4</th>\n",
       "      <td>absent_minded_professor</td>\n",
       "      <td>Daniel Jackson</td>\n",
       "      <td>Stargate</td>\n",
       "      <td>/m/0k3rhh</td>\n",
       "      <td>James Spader</td>\n",
       "    </tr>\n",
       "  </tbody>\n",
       "</table>\n",
       "</div>"
      ],
      "text/plain": [
       "                stereotype                       char        movie  \\\n",
       "0  absent_minded_professor  Professor Philip Brainard      Flubber   \n",
       "1  absent_minded_professor         Professor Keenbean  Richie Rich   \n",
       "2  absent_minded_professor         Dr. Reinhardt Lane   The Shadow   \n",
       "3  absent_minded_professor         Dr. Harold Medford        Them!   \n",
       "4  absent_minded_professor             Daniel Jackson     Stargate   \n",
       "\n",
       "           id            actor  \n",
       "0   /m/0jy9q0   Robin Williams  \n",
       "1  /m/02vchl3  Michael McShane  \n",
       "2   /m/0k6fkc     Ian McKellen  \n",
       "3   /m/0k6_br     Edmund Gwenn  \n",
       "4   /m/0k3rhh     James Spader  "
      ]
     },
     "metadata": {},
     "output_type": "display_data"
    }
   ],
   "source": [
    "# display dataframes of the dataset\n",
    "display(characterDF_without_ethnicity.head(), \n",
    "        movieDF.head(), \n",
    "        nameDF.head(), \n",
    "        plotDF.head(), \n",
    "        tvtropDF.head())"
   ]
  },
  {
   "cell_type": "markdown",
   "id": "6380ae2a",
   "metadata": {},
   "source": [
    "Ethnicities are only given by their FreebaseID (e.g. '/m/044038p'). We want to obtain the correspondence between this Freebase and the ethnic groups in English. This is done in the file `Ethnicity_matchning.py`. This produces the .csv file `Ethnicities.csv`, which is laoded in the following cell."
   ]
  },
  {
   "cell_type": "code",
   "execution_count": 7,
   "id": "8b44f7ad",
   "metadata": {},
   "outputs": [
    {
     "ename": "FileNotFoundError",
     "evalue": "[Errno 2] No such file or directory: './DATA/Ethnicities.csv'",
     "output_type": "error",
     "traceback": [
      "\u001b[1;31m---------------------------------------------------------------------------\u001b[0m",
      "\u001b[1;31mFileNotFoundError\u001b[0m                         Traceback (most recent call last)",
      "Cell \u001b[1;32mIn[7], line 1\u001b[0m\n\u001b[1;32m----> 1\u001b[0m Ethnicity \u001b[38;5;241m=\u001b[39m pd\u001b[38;5;241m.\u001b[39mread_csv(\u001b[38;5;124m'\u001b[39m\u001b[38;5;124m./DATA/Ethnicities.csv\u001b[39m\u001b[38;5;124m'\u001b[39m)\n\u001b[0;32m      2\u001b[0m characterDF \u001b[38;5;241m=\u001b[39m pd\u001b[38;5;241m.\u001b[39mmerge(characterDF_without_ethnicity, Ethnicity, on\u001b[38;5;241m=\u001b[39m\u001b[38;5;124m'\u001b[39m\u001b[38;5;124mActor ethnicity\u001b[39m\u001b[38;5;124m'\u001b[39m, how\u001b[38;5;241m=\u001b[39m\u001b[38;5;124m'\u001b[39m\u001b[38;5;124mleft\u001b[39m\u001b[38;5;124m'\u001b[39m)\n\u001b[0;32m      3\u001b[0m characterDF\n",
      "File \u001b[1;32m~\\anaconda3\\Lib\\site-packages\\pandas\\io\\parsers\\readers.py:912\u001b[0m, in \u001b[0;36mread_csv\u001b[1;34m(filepath_or_buffer, sep, delimiter, header, names, index_col, usecols, dtype, engine, converters, true_values, false_values, skipinitialspace, skiprows, skipfooter, nrows, na_values, keep_default_na, na_filter, verbose, skip_blank_lines, parse_dates, infer_datetime_format, keep_date_col, date_parser, date_format, dayfirst, cache_dates, iterator, chunksize, compression, thousands, decimal, lineterminator, quotechar, quoting, doublequote, escapechar, comment, encoding, encoding_errors, dialect, on_bad_lines, delim_whitespace, low_memory, memory_map, float_precision, storage_options, dtype_backend)\u001b[0m\n\u001b[0;32m    899\u001b[0m kwds_defaults \u001b[38;5;241m=\u001b[39m _refine_defaults_read(\n\u001b[0;32m    900\u001b[0m     dialect,\n\u001b[0;32m    901\u001b[0m     delimiter,\n\u001b[1;32m   (...)\u001b[0m\n\u001b[0;32m    908\u001b[0m     dtype_backend\u001b[38;5;241m=\u001b[39mdtype_backend,\n\u001b[0;32m    909\u001b[0m )\n\u001b[0;32m    910\u001b[0m kwds\u001b[38;5;241m.\u001b[39mupdate(kwds_defaults)\n\u001b[1;32m--> 912\u001b[0m \u001b[38;5;28;01mreturn\u001b[39;00m _read(filepath_or_buffer, kwds)\n",
      "File \u001b[1;32m~\\anaconda3\\Lib\\site-packages\\pandas\\io\\parsers\\readers.py:577\u001b[0m, in \u001b[0;36m_read\u001b[1;34m(filepath_or_buffer, kwds)\u001b[0m\n\u001b[0;32m    574\u001b[0m _validate_names(kwds\u001b[38;5;241m.\u001b[39mget(\u001b[38;5;124m\"\u001b[39m\u001b[38;5;124mnames\u001b[39m\u001b[38;5;124m\"\u001b[39m, \u001b[38;5;28;01mNone\u001b[39;00m))\n\u001b[0;32m    576\u001b[0m \u001b[38;5;66;03m# Create the parser.\u001b[39;00m\n\u001b[1;32m--> 577\u001b[0m parser \u001b[38;5;241m=\u001b[39m TextFileReader(filepath_or_buffer, \u001b[38;5;241m*\u001b[39m\u001b[38;5;241m*\u001b[39mkwds)\n\u001b[0;32m    579\u001b[0m \u001b[38;5;28;01mif\u001b[39;00m chunksize \u001b[38;5;129;01mor\u001b[39;00m iterator:\n\u001b[0;32m    580\u001b[0m     \u001b[38;5;28;01mreturn\u001b[39;00m parser\n",
      "File \u001b[1;32m~\\anaconda3\\Lib\\site-packages\\pandas\\io\\parsers\\readers.py:1407\u001b[0m, in \u001b[0;36mTextFileReader.__init__\u001b[1;34m(self, f, engine, **kwds)\u001b[0m\n\u001b[0;32m   1404\u001b[0m     \u001b[38;5;28mself\u001b[39m\u001b[38;5;241m.\u001b[39moptions[\u001b[38;5;124m\"\u001b[39m\u001b[38;5;124mhas_index_names\u001b[39m\u001b[38;5;124m\"\u001b[39m] \u001b[38;5;241m=\u001b[39m kwds[\u001b[38;5;124m\"\u001b[39m\u001b[38;5;124mhas_index_names\u001b[39m\u001b[38;5;124m\"\u001b[39m]\n\u001b[0;32m   1406\u001b[0m \u001b[38;5;28mself\u001b[39m\u001b[38;5;241m.\u001b[39mhandles: IOHandles \u001b[38;5;241m|\u001b[39m \u001b[38;5;28;01mNone\u001b[39;00m \u001b[38;5;241m=\u001b[39m \u001b[38;5;28;01mNone\u001b[39;00m\n\u001b[1;32m-> 1407\u001b[0m \u001b[38;5;28mself\u001b[39m\u001b[38;5;241m.\u001b[39m_engine \u001b[38;5;241m=\u001b[39m \u001b[38;5;28mself\u001b[39m\u001b[38;5;241m.\u001b[39m_make_engine(f, \u001b[38;5;28mself\u001b[39m\u001b[38;5;241m.\u001b[39mengine)\n",
      "File \u001b[1;32m~\\anaconda3\\Lib\\site-packages\\pandas\\io\\parsers\\readers.py:1661\u001b[0m, in \u001b[0;36mTextFileReader._make_engine\u001b[1;34m(self, f, engine)\u001b[0m\n\u001b[0;32m   1659\u001b[0m     \u001b[38;5;28;01mif\u001b[39;00m \u001b[38;5;124m\"\u001b[39m\u001b[38;5;124mb\u001b[39m\u001b[38;5;124m\"\u001b[39m \u001b[38;5;129;01mnot\u001b[39;00m \u001b[38;5;129;01min\u001b[39;00m mode:\n\u001b[0;32m   1660\u001b[0m         mode \u001b[38;5;241m+\u001b[39m\u001b[38;5;241m=\u001b[39m \u001b[38;5;124m\"\u001b[39m\u001b[38;5;124mb\u001b[39m\u001b[38;5;124m\"\u001b[39m\n\u001b[1;32m-> 1661\u001b[0m \u001b[38;5;28mself\u001b[39m\u001b[38;5;241m.\u001b[39mhandles \u001b[38;5;241m=\u001b[39m get_handle(\n\u001b[0;32m   1662\u001b[0m     f,\n\u001b[0;32m   1663\u001b[0m     mode,\n\u001b[0;32m   1664\u001b[0m     encoding\u001b[38;5;241m=\u001b[39m\u001b[38;5;28mself\u001b[39m\u001b[38;5;241m.\u001b[39moptions\u001b[38;5;241m.\u001b[39mget(\u001b[38;5;124m\"\u001b[39m\u001b[38;5;124mencoding\u001b[39m\u001b[38;5;124m\"\u001b[39m, \u001b[38;5;28;01mNone\u001b[39;00m),\n\u001b[0;32m   1665\u001b[0m     compression\u001b[38;5;241m=\u001b[39m\u001b[38;5;28mself\u001b[39m\u001b[38;5;241m.\u001b[39moptions\u001b[38;5;241m.\u001b[39mget(\u001b[38;5;124m\"\u001b[39m\u001b[38;5;124mcompression\u001b[39m\u001b[38;5;124m\"\u001b[39m, \u001b[38;5;28;01mNone\u001b[39;00m),\n\u001b[0;32m   1666\u001b[0m     memory_map\u001b[38;5;241m=\u001b[39m\u001b[38;5;28mself\u001b[39m\u001b[38;5;241m.\u001b[39moptions\u001b[38;5;241m.\u001b[39mget(\u001b[38;5;124m\"\u001b[39m\u001b[38;5;124mmemory_map\u001b[39m\u001b[38;5;124m\"\u001b[39m, \u001b[38;5;28;01mFalse\u001b[39;00m),\n\u001b[0;32m   1667\u001b[0m     is_text\u001b[38;5;241m=\u001b[39mis_text,\n\u001b[0;32m   1668\u001b[0m     errors\u001b[38;5;241m=\u001b[39m\u001b[38;5;28mself\u001b[39m\u001b[38;5;241m.\u001b[39moptions\u001b[38;5;241m.\u001b[39mget(\u001b[38;5;124m\"\u001b[39m\u001b[38;5;124mencoding_errors\u001b[39m\u001b[38;5;124m\"\u001b[39m, \u001b[38;5;124m\"\u001b[39m\u001b[38;5;124mstrict\u001b[39m\u001b[38;5;124m\"\u001b[39m),\n\u001b[0;32m   1669\u001b[0m     storage_options\u001b[38;5;241m=\u001b[39m\u001b[38;5;28mself\u001b[39m\u001b[38;5;241m.\u001b[39moptions\u001b[38;5;241m.\u001b[39mget(\u001b[38;5;124m\"\u001b[39m\u001b[38;5;124mstorage_options\u001b[39m\u001b[38;5;124m\"\u001b[39m, \u001b[38;5;28;01mNone\u001b[39;00m),\n\u001b[0;32m   1670\u001b[0m )\n\u001b[0;32m   1671\u001b[0m \u001b[38;5;28;01massert\u001b[39;00m \u001b[38;5;28mself\u001b[39m\u001b[38;5;241m.\u001b[39mhandles \u001b[38;5;129;01mis\u001b[39;00m \u001b[38;5;129;01mnot\u001b[39;00m \u001b[38;5;28;01mNone\u001b[39;00m\n\u001b[0;32m   1672\u001b[0m f \u001b[38;5;241m=\u001b[39m \u001b[38;5;28mself\u001b[39m\u001b[38;5;241m.\u001b[39mhandles\u001b[38;5;241m.\u001b[39mhandle\n",
      "File \u001b[1;32m~\\anaconda3\\Lib\\site-packages\\pandas\\io\\common.py:859\u001b[0m, in \u001b[0;36mget_handle\u001b[1;34m(path_or_buf, mode, encoding, compression, memory_map, is_text, errors, storage_options)\u001b[0m\n\u001b[0;32m    854\u001b[0m \u001b[38;5;28;01melif\u001b[39;00m \u001b[38;5;28misinstance\u001b[39m(handle, \u001b[38;5;28mstr\u001b[39m):\n\u001b[0;32m    855\u001b[0m     \u001b[38;5;66;03m# Check whether the filename is to be opened in binary mode.\u001b[39;00m\n\u001b[0;32m    856\u001b[0m     \u001b[38;5;66;03m# Binary mode does not support 'encoding' and 'newline'.\u001b[39;00m\n\u001b[0;32m    857\u001b[0m     \u001b[38;5;28;01mif\u001b[39;00m ioargs\u001b[38;5;241m.\u001b[39mencoding \u001b[38;5;129;01mand\u001b[39;00m \u001b[38;5;124m\"\u001b[39m\u001b[38;5;124mb\u001b[39m\u001b[38;5;124m\"\u001b[39m \u001b[38;5;129;01mnot\u001b[39;00m \u001b[38;5;129;01min\u001b[39;00m ioargs\u001b[38;5;241m.\u001b[39mmode:\n\u001b[0;32m    858\u001b[0m         \u001b[38;5;66;03m# Encoding\u001b[39;00m\n\u001b[1;32m--> 859\u001b[0m         handle \u001b[38;5;241m=\u001b[39m \u001b[38;5;28mopen\u001b[39m(\n\u001b[0;32m    860\u001b[0m             handle,\n\u001b[0;32m    861\u001b[0m             ioargs\u001b[38;5;241m.\u001b[39mmode,\n\u001b[0;32m    862\u001b[0m             encoding\u001b[38;5;241m=\u001b[39mioargs\u001b[38;5;241m.\u001b[39mencoding,\n\u001b[0;32m    863\u001b[0m             errors\u001b[38;5;241m=\u001b[39merrors,\n\u001b[0;32m    864\u001b[0m             newline\u001b[38;5;241m=\u001b[39m\u001b[38;5;124m\"\u001b[39m\u001b[38;5;124m\"\u001b[39m,\n\u001b[0;32m    865\u001b[0m         )\n\u001b[0;32m    866\u001b[0m     \u001b[38;5;28;01melse\u001b[39;00m:\n\u001b[0;32m    867\u001b[0m         \u001b[38;5;66;03m# Binary mode\u001b[39;00m\n\u001b[0;32m    868\u001b[0m         handle \u001b[38;5;241m=\u001b[39m \u001b[38;5;28mopen\u001b[39m(handle, ioargs\u001b[38;5;241m.\u001b[39mmode)\n",
      "\u001b[1;31mFileNotFoundError\u001b[0m: [Errno 2] No such file or directory: './DATA/Ethnicities.csv'"
     ]
    }
   ],
   "source": [
    "Ethnicity = pd.read_csv('./DATA/Ethnicities.csv')\n",
    "characterDF = pd.merge(characterDF_without_ethnicity, Ethnicity, on='Actor ethnicity', how='left')\n",
    "characterDF"
   ]
  },
  {
   "cell_type": "markdown",
   "id": "65276ab3",
   "metadata": {},
   "source": [
    "We remark that few ethnicity FreebaseID don't have a correspondance with an ethnicity (e.g. in row number 1). In this case, we fill it by NaN."
   ]
  },
  {
   "cell_type": "code",
   "execution_count": null,
   "id": "15080648",
   "metadata": {
    "scrolled": true
   },
   "outputs": [],
   "source": [
    "# Display description of the dataframes\n",
    "for df, name in zip(dataframeList, dataframeNameList):\n",
    "    print(f\"------------ {name} ------------\")\n",
    "    display(df.describe())\n",
    "    print(\"-------------------------------------\\n\")"
   ]
  },
  {
   "cell_type": "markdown",
   "id": "d6b638d3",
   "metadata": {},
   "source": [
    "## 0.2. First looks at the datasets"
   ]
  },
  {
   "cell_type": "code",
   "execution_count": null,
   "id": "49d9f1be",
   "metadata": {
    "scrolled": true
   },
   "outputs": [],
   "source": [
    "# Display description of the dataframes\n",
    "for df, name in zip(dataframeList, dataframeNameList):\n",
    "    if name == 'plotDF':\n",
    "        continue\n",
    "    print(f\"------------ {name} ------------\")\n",
    "    display(df.describe())\n",
    "    print(\"-------------------------------------\\n\")"
   ]
  },
  {
   "cell_type": "code",
   "execution_count": null,
   "id": "9cb6baa2",
   "metadata": {
    "scrolled": true
   },
   "outputs": [],
   "source": [
    "# Check for missing values\n",
    "for df, name in zip(dataframeList, dataframeNameList):\n",
    "    print(f\"------------ {name} ------------\")\n",
    "    missing_values = df.isnull().sum()\n",
    "    total_values = df.shape[0]  # Total number of rows in the DataFrame\n",
    "\n",
    "    # Calculate the percentage of missing values\n",
    "    missing_percentage = (missing_values / total_values) * 100\n",
    "\n",
    "    # Total number of values for each column\n",
    "    total_column_values = df.count()\n",
    "\n",
    "    # Display the results\n",
    "    missing_info = pd.DataFrame({\n",
    "        'Total Missing': missing_values,\n",
    "        'Total Values': total_column_values,\n",
    "        'Percentage Missing': missing_percentage,\n",
    "    })\n",
    "\n",
    "    display(missing_info)\n",
    "    print(\"-------------------------------------\\n\")"
   ]
  },
  {
   "cell_type": "code",
   "execution_count": null,
   "id": "2acf8e9f",
   "metadata": {
    "scrolled": true
   },
   "outputs": [],
   "source": [
    "# Print column names\n",
    "for df, name in zip(dataframeList, dataframeNameList):\n",
    "    print(f\"------------ {name} ------------\")\n",
    "    display(df.columns)\n",
    "    print(\"-------------------------------------\\n\")"
   ]
  },
  {
   "cell_type": "code",
   "execution_count": null,
   "id": "8bd38159",
   "metadata": {},
   "outputs": [],
   "source": [
    "# Cross data frames to fill missing values\n",
    "# Character Name\n",
    "characterDF = DataImport.FillMissingValues(characterDF, nameDF, 'Character Name', 'Character Name','Freebase character map')"
   ]
  },
  {
   "cell_type": "code",
   "execution_count": null,
   "id": "edeaaf82",
   "metadata": {
    "scrolled": true
   },
   "outputs": [],
   "source": [
    "# Cross movie release date\n",
    "movieDF = DataImport.FillMissingValues(movieDF, characterDF, 'Movie release date', 'Movie release date','Wikipedia movie ID')\n",
    "characterDF = DataImport.FillMissingValues(characterDF, movieDF, 'Movie release date', 'Movie release date','Wikipedia movie ID')\n",
    "\n",
    "movieDF['Movie release date'] = pd.to_datetime(movieDF['Movie release date'], format='mixed', errors='coerce',utc=True)\n",
    "characterDF['Movie release date'] = pd.to_datetime(characterDF['Movie release date'], format='mixed', errors='coerce',utc=True)\n",
    "\n",
    "# to datetime 'Actor age at movie release'in characterDF\n",
    "characterDF['Actor age at movie release'] = pd.to_datetime(characterDF['Actor DOB'], format='mixed', errors='coerce',utc=True)"
   ]
  },
  {
   "cell_type": "code",
   "execution_count": null,
   "id": "93ceea39",
   "metadata": {},
   "outputs": [],
   "source": [
    "fig = go.Figure()\n",
    "\n",
    "# Add box plot for movie release date\n",
    "fig.add_trace(go.Box(\n",
    "    x=movieDF[\"Movie release date\"],\n",
    "    name='Movie Release Date',\n",
    "    marker=dict(\n",
    "        color='blue'\n",
    "    ),\n",
    "    jitter=0.3,\n",
    "    pointpos=-1.8,\n",
    "    boxmean=True\n",
    "))\n",
    "\n",
    "# Add box plot for actor age at movie release\n",
    "fig.add_trace(go.Box(\n",
    "    x=characterDF['Actor age at movie release'],\n",
    "    name='Actor Age at Movie Release',\n",
    "    marker=dict(\n",
    "        color='red'\n",
    "    ),\n",
    "    jitter=0.3,\n",
    "    pointpos=-1.8,\n",
    "    boxmean=True\n",
    "))\n",
    "\n",
    "# Calculate proportion of NaN values in Actor age at movie release column\n",
    "nan_proportion = characterDF['Actor age at movie release'].isna().sum() / len(characterDF)\n",
    "\n",
    "# Calculate proportion of NaN values in Movie release date column\n",
    "nan_proportion_movie = movieDF['Movie release date'].isna().sum() / len(movieDF)\n",
    "\n",
    "# Update layout\n",
    "fig.update_layout(\n",
    "    title={\n",
    "        'text': 'Distribution of Movie Release Dates and Actor Ages at Movie Release<br><span style=\"font-size: 12px;\">{:.1%} of Actor Age values are NaN<br>{:.1%} of Movie Release Date values are NaN</span>'.format(nan_proportion, nan_proportion_movie),\n",
    "        'y': 0.95,\n",
    "        'x': 0.5,\n",
    "        'xanchor': 'center',\n",
    "        'yanchor': 'top'\n",
    "    },\n",
    "    xaxis=dict(\n",
    "        title='Year',\n",
    "        showgrid=True,  # Show vertical grid lines\n",
    "        gridcolor='rgba(211, 211, 211, 0.6)',  # Set grid line color\n",
    "        gridwidth=1.2  # Set grid line width\n",
    "    ),\n",
    "    yaxis=dict(\n",
    "        showgrid=False,\n",
    "        zeroline=False\n",
    "    ),\n",
    "    legend=dict(\n",
    "        x=1.05,\n",
    "        y=0.5,\n",
    "        bgcolor='rgba(255, 255, 255, 0.5)',\n",
    "        bordercolor='rgba(255, 255, 255, 0.5)'\n",
    "    ),\n",
    "    plot_bgcolor='rgba(0, 0, 0, 0)',\n",
    "    paper_bgcolor='rgba(0, 0, 0, 0)',\n",
    "    boxmode='group'\n",
    ")\n",
    "\n",
    "fig.show()"
   ]
  },
  {
   "cell_type": "markdown",
   "id": "bc4966a8",
   "metadata": {},
   "source": [
    "![distrib](IMAGES/distrib_date.png)"
   ]
  },
  {
   "cell_type": "markdown",
   "id": "3cd644fc",
   "metadata": {},
   "source": [
    "This above graph is interessant especially for part 2 where we will work on names depending on the years. The analysis of the name and the age of the actor will be made in the part 2."
   ]
  },
  {
   "cell_type": "markdown",
   "id": "bba30f67",
   "metadata": {},
   "source": [
    "# 1. Building a ‘robot portrait’ of human beings thanks to the CMU dataset, and comparing it to reality"
   ]
  },
  {
   "cell_type": "markdown",
   "id": "66a2e53e",
   "metadata": {},
   "source": [
    "## 1.1. Basic considerations (age, height, ethnicity, gender)"
   ]
  },
  {
   "cell_type": "markdown",
   "id": "0bb83900",
   "metadata": {},
   "source": [
    "### 1.1.1. Gender"
   ]
  },
  {
   "cell_type": "markdown",
   "id": "6948344f",
   "metadata": {},
   "source": [
    "Before any discussion, let's see how many male and female characters we have in our dataset. We assume that a female character is always played by an actress, and vice versa."
   ]
  },
  {
   "cell_type": "code",
   "execution_count": null,
   "id": "a2335f41",
   "metadata": {
    "scrolled": false
   },
   "outputs": [],
   "source": [
    "# Count the occurrences of each gender\n",
    "gender_counts = characterDF.dropna(subset='Character Name')['Actor gender'].value_counts()\n",
    "# Plot the histogram\n",
    "plt.figure()\n",
    "labels = ['Men', 'Women']\n",
    "sizes = [gender_counts['M'], gender_counts['F']]\n",
    "colors = ['lightblue', 'pink']\n",
    "plt.pie(sizes, labels=labels, colors=colors, autopct='%1.1f%%', shadow=False, startangle=90)\n",
    "plt.title('Character Gender')\n",
    "plt.show()"
   ]
  },
  {
   "cell_type": "code",
   "execution_count": null,
   "id": "b5e83f70",
   "metadata": {},
   "outputs": [],
   "source": [
    "print(f\"There is around {round((gender_counts['M']/gender_counts['F'] -1)*100, 1)} % more male-charactors than female-charactors.\")"
   ]
  },
  {
   "cell_type": "markdown",
   "id": "b9211a6f",
   "metadata": {},
   "source": [
    "The previous graph shows that, in this data set, genders are poorly balanced. In the synopsis of Earth legacy, this could lead to a serious bias (naive aliens will think there are about twice as many men as women on Earth, because men are over-represented)."
   ]
  },
  {
   "cell_type": "markdown",
   "id": "ba33a475",
   "metadata": {},
   "source": [
    "Let's dig a bit more into this gender-difference. Let's do it over time."
   ]
  },
  {
   "cell_type": "code",
   "execution_count": null,
   "id": "0d48bc84",
   "metadata": {
    "scrolled": false
   },
   "outputs": [],
   "source": [
    "Gender_birth = characterDF[['Actor Name', 'Actor gender', 'Movie release date']].copy()\n",
    "\n",
    "def year(x):\n",
    "    x = str(x)\n",
    "    if len(x) < 4:\n",
    "        return math.nan\n",
    "    yr = x[0:4]\n",
    "    if int(yr) >= 2012:\n",
    "        return math.nan\n",
    "    if int(yr) <= 1800:\n",
    "        return math.nan\n",
    "    return int(yr)\n",
    "\n",
    "# Apply the 'year' function to create a new column 'Movie release year'\n",
    "Gender_birth['Movie release year'] = Gender_birth['Movie release date'].apply(year)\n",
    "\n",
    "Women = Gender_birth.loc[Gender_birth['Actor gender'] == 'F']\n",
    "Men = Gender_birth.loc[Gender_birth['Actor gender'] == 'M']\n",
    "Women = Women.groupby('Movie release year').count()\n",
    "Men = Men.groupby('Movie release year').count()\n",
    "\n",
    "plt.plot(Men.index,Men['Actor Name'],label = 'Men')\n",
    "plt.plot(Women.index,Women['Actor Name'],label = 'Women')\n",
    "plt.xlabel('Movie release year')\n",
    "plt.ylabel('Number of charactors')\n",
    "plt.title('Repartition of charactor gender over time') \n",
    "plt.legend()\n",
    "plt.show()"
   ]
  },
  {
   "cell_type": "markdown",
   "id": "16e530fb",
   "metadata": {},
   "source": [
    "Alians will still have the same impression, year after year. What to say about the relative difference between female and male character roles?  "
   ]
  },
  {
   "cell_type": "code",
   "execution_count": null,
   "id": "b34c4715",
   "metadata": {
    "scrolled": false
   },
   "outputs": [],
   "source": [
    "n = len(Men)\n",
    "ratio = []\n",
    "for k in range(1910,2012): \n",
    "    div = (Men.loc[k,'Actor Name']/Women.loc[k,'Actor Name'])\n",
    "    ratio.append(div)\n",
    "plt.plot(np.arange(1910,2012),ratio,label='n.o. male / n.o. female')\n",
    "plt.axhline(y=1, color='r', linestyle='--', label='Parity')\n",
    "plt.xlabel('Movie realease year')\n",
    "plt.ylabel('Ratio') \n",
    "plt.title('Gender repartition (relative difference)')\n",
    "plt.legend()\n",
    "plt.show()"
   ]
  },
  {
   "cell_type": "markdown",
   "id": "472d0dad",
   "metadata": {},
   "source": [
    "There is no longer any hope: gender repartition is strongly unbalanced, even in relative scale. Nevertheless, perhaps alians will note the relative difference is slowly deacrising, and should reach parity one day (around 2100 at the speed)."
   ]
  },
  {
   "cell_type": "markdown",
   "id": "347dcbc9",
   "metadata": {},
   "source": [
    "### 1.1.2. Heigth"
   ]
  },
  {
   "cell_type": "code",
   "execution_count": null,
   "id": "ddf62482",
   "metadata": {},
   "outputs": [],
   "source": [
    "actorDF = characterDF[['Actor Name', 'Actor gender', 'Actor height']]\n",
    "actorDF = actorDF.drop_duplicates()\n",
    "actorDF = actorDF.dropna()\n",
    "\n",
    "# Remove any missing or NaN values from the 'Actor height (in meters)' column\n",
    "min_height = 0.5\n",
    "max_height = 2.5\n",
    "N_boundaries = 40\n",
    "heights_men = actorDF[(actorDF['Actor height'] > min_height) & \\\n",
    "                      (actorDF['Actor height'] < max_height) & \\\n",
    "                      (actorDF['Actor gender'] == 'M')]\\\n",
    "                ['Actor height'].copy()\n",
    "heights_women = actorDF[(actorDF['Actor height'] > min_height) & \\\n",
    "                        (actorDF['Actor height'] < max_height) & \\\n",
    "                        (actorDF['Actor gender'] == 'F')]\\\n",
    "                ['Actor height'].copy()\n",
    "bin_boundaries = np.linspace(min_height, max_height, num=N_boundaries)\n",
    "\n",
    "plt.hist(heights_men, bins=bin_boundaries, edgecolor='black', label='Men', alpha=0.5)\n",
    "plt.hist(heights_women, bins=bin_boundaries, edgecolor='black', label='Women', alpha=0.5)\n",
    "\n",
    "# Add vertical lines for mean values\n",
    "median_height_men = heights_men.median()\n",
    "median_height_women = heights_women.median()\n",
    "plt.axvline(x=mean_height_men, color='blue', linestyle='dashed', linewidth=2, label='Median for Men')\n",
    "plt.axvline(x=mean_height_women, color='black', linestyle='dashed', linewidth=2, label='Median for Women')\n",
    "\n",
    "\n",
    "plt.xlabel('Actor Height (in meters)')\n",
    "plt.ylabel('Frequency')\n",
    "plt.title('Histogram of Actor Height (in meters)')\n",
    "plt.yscale('log')\n",
    "plt.legend()\n",
    "plt.show()"
   ]
  },
  {
   "cell_type": "markdown",
   "id": "335145c6",
   "metadata": {},
   "source": [
    "Histogram strongly depends on the gender *(we will quantify that in the Milestone 3)*."
   ]
  },
  {
   "cell_type": "markdown",
   "id": "a28f9bfe",
   "metadata": {},
   "source": [
    "### 1.1.3. Ethnicity"
   ]
  },
  {
   "cell_type": "code",
   "execution_count": null,
   "id": "4d1447e4",
   "metadata": {},
   "outputs": [],
   "source": [
    "### bar chart\n",
    "nb_ethnicity = characterDF['ethinicty (en)'].value_counts()\n",
    "nb_ethnicity_main = nb_ethnicity[0:50]\n",
    "nb_ethnicity_main.plot(kind = 'bar')\n",
    "plt.ylabel('Number of actor') \n",
    "plt.title('Main ethnic repartition of the actors in movies')\n",
    "plt.yscale('log')\n",
    "plt.show()\n",
    "\n",
    "\n",
    "### pie chart\n",
    "limit_percentage = 1.25 # limit above which we merge all the values\n",
    "total_count = sum(nb_ethnicity)\n",
    "limit_value = total_count * (limit_percentage / 100)\n",
    "merged_value = sum( value for value in nb_ethnicity.values if value < limit_value )\n",
    "\n",
    "# Create a dictionary with merged values\n",
    "merged_ranks_freq = {ethincity: nb_ethnicity[ethincity] for ethincity in nb_ethnicity.keys() if nb_ethnicity[ethincity] >= limit_value}\n",
    "merged_ranks_freq['Other'] = merged_value\n",
    "\n",
    "# Extract keys (ranks) and values (frequencies) for plotting\n",
    "ranks = list(merged_ranks_freq.keys())\n",
    "values = list(merged_ranks_freq.values())\n",
    "\n",
    "# pie chart\n",
    "plt.figure()\n",
    "plt.pie(values, labels=ranks, autopct='%1.1f%%', startangle=90, colors=plt.cm.Paired.colors)\n",
    "plt.axis('equal')  # Equal aspect ratio ensures that pie is drawn as a circle.\n",
    "plt.title(f'Ethnicity Distribution with Merged Values Below {limit_percentage}%')\n",
    "plt.tight_layout()\n",
    "plt.legend()\n",
    "plt.show()"
   ]
  },
  {
   "cell_type": "markdown",
   "id": "44d2d5a0",
   "metadata": {},
   "source": [
    "From the aliens' point of view, humans are very different (or like to put people in boxes). Are these differences visible elsewhere?"
   ]
  },
  {
   "cell_type": "markdown",
   "id": "3c5366f8",
   "metadata": {},
   "source": [
    "### 1.1.4. What movie genre do people like ?"
   ]
  },
  {
   "cell_type": "code",
   "execution_count": null,
   "id": "7f11296f",
   "metadata": {},
   "outputs": [],
   "source": [
    "#We look at the 1000 most popular movies based on the box office \n",
    "BlockBusters = movieDF.dropna(subset=[\"Movie box office revenue\"]).sort_values(by=\"Movie box office revenue\",ascending=True).tail(1000)\n",
    "BlockBusters = BlockBusters.explode('Movie genres')\n",
    "\n",
    "#We plot the 10 most represented genre in the 1000 most profitable movie \n",
    "Genre = BlockBusters['Movie genres'].value_counts()\n",
    "plt.pie(Genre[0:10],labels = Genre[0:10].index,autopct='%1.1f%%', startangle=90)\n",
    "plt.title('Movie genre of the 1000 most profitable movie in box office')\n",
    "plt.show()"
   ]
  },
  {
   "cell_type": "markdown",
   "id": "4a0d4596",
   "metadata": {},
   "source": [
    "Well, if there is a difference, it can not be seen by an average approache. We will have to dig into this, for instance studying it by world regions."
   ]
  },
  {
   "cell_type": "markdown",
   "id": "7cc71fff",
   "metadata": {},
   "source": [
    "## 1.2. Repartition of some occuptions (military, PhD (doctors))"
   ]
  },
  {
   "cell_type": "markdown",
   "id": "13b467c9",
   "metadata": {},
   "source": [
    "### 1.2.1. Armies"
   ]
  },
  {
   "cell_type": "markdown",
   "id": "ea11da0d",
   "metadata": {},
   "source": [
    "Our aliens are smart. One of them (let's call him Bob) quickly realizes that certain words in the characters' names occur very often, and seem to be militarized according to the role they describe in the scenarios. What is the military organization of Earth?"
   ]
  },
  {
   "cell_type": "code",
   "execution_count": null,
   "id": "12bdaf4e",
   "metadata": {},
   "outputs": [],
   "source": [
    "# MILITARY RANKS\n",
    "dict_military_ranks = {\n",
    "    'Marshal': 'Marshal',\n",
    "    'Admiral': 'Admiral',\n",
    "    'General': 'General',\n",
    "    'Brigadier General': 'Brigadier General',\n",
    "    'Colonel': 'Colonel',\n",
    "    'Col': 'Colonel',\n",
    "    'Col.': 'Colonel',\n",
    "    'Lieutenant Colonel': 'Lieutenant Colonel',\n",
    "    'Lt. Col': 'Lieutenant Colonel',\n",
    "    'Major': 'Major',\n",
    "    'Maj.': 'Major',\n",
    "    'Captain': 'Captain',\n",
    "    'Capt.': 'Captain',\n",
    "    'Commander': 'Commander',\n",
    "    'Lieutenant Commander': 'Lieutenant Commander',\n",
    "    'Sheriff': 'Sheriff',\n",
    "    'Lieutenant': 'Lieutenant',\n",
    "    'Sergeant': 'Sergeant',\n",
    "    'Sgt': 'Sergeant',\n",
    "    'Sgt.': 'Sergeant',\n",
    "    'Sergeant Major': 'Sergeant Major',\n",
    "    'Sgt.-Major': 'Sergeant Major',\n",
    "    'Corporal': 'Corporal',\n",
    "    'Staff Sergeant': 'Staff Sergeant',\n",
    "    'Private': 'Private',\n",
    "    'Major General': 'Major General',\n",
    "    'Major-General': 'Major General',\n",
    "    'Major-general': 'Major General'\n",
    "}"
   ]
  },
  {
   "cell_type": "code",
   "execution_count": null,
   "id": "68b15a12",
   "metadata": {},
   "outputs": [],
   "source": [
    "characterDF_copy = copy.deepcopy(characterDF.dropna(subset=['Character Name']))\n",
    "\n",
    "# Function to check if a military rank is present in the character name\n",
    "def has_military_rank(name):\n",
    "    for rank in dict_military_ranks.keys():\n",
    "        if rank.lower() in name.lower():\n",
    "            return True\n",
    "    return False\n",
    "\n",
    "# Applying the function to the 'Character Name' column\n",
    "characterDF_copy['Has Military Rank'] = characterDF_copy['Character Name'].apply(has_military_rank)\n",
    "\n",
    "# Counting the number of characters with and without a military rank\n",
    "num_characters_with_rank = characterDF_copy['Has Military Rank'].sum()\n",
    "num_characters_without_rank = len(characterDF_copy) - num_characters_with_rank\n",
    "\n",
    "# Pie chart\n",
    "labels = ['With Military Rank', 'Without Military Rank']\n",
    "sizes = [num_characters_with_rank, num_characters_without_rank]\n",
    "colors = ['gold', 'lightcoral']\n",
    "explode = (0.1, 0)  # explode the 'With Military Rank' slice\n",
    "plt.pie(sizes, explode=explode, labels=labels, colors=colors, autopct='%1.1f%%', shadow=False, startangle=140)\n",
    "plt.axis('equal')  # Equal aspect ratio ensures that pie is drawn as a circle.\n",
    "plt.title('Distribution of Characters Names, with and without Military Rank')\n",
    "plt.show()"
   ]
  },
  {
   "cell_type": "markdown",
   "id": "140a639a",
   "metadata": {},
   "source": [
    "Less than three percents of the characters are militar ones."
   ]
  },
  {
   "cell_type": "markdown",
   "id": "b90ab167",
   "metadata": {},
   "source": [
    "Our alians are really interested in understanding the military hierarchy on Earth. One of them sugests that that there are fewer leaders than subordinates; therfore, the repartition rank should approximate this result... Let's dig into that."
   ]
  },
  {
   "cell_type": "code",
   "execution_count": null,
   "id": "d9dbf588",
   "metadata": {
    "scrolled": false
   },
   "outputs": [],
   "source": [
    "# we sorted the ranks by the decreasing total number of letters, to avoid counting two times the same rank\n",
    "list_sorted_ranks = sorted(dict_military_ranks.keys(), key=len, reverse=True)\n",
    "\n",
    "# getting the ranks without repetition\n",
    "set_mili_ranks = set(dict_military_ranks.values())\n",
    "\n",
    "# counting the number of each rank\n",
    "ranks_counter = { rank:0 for rank in set_mili_ranks}\n",
    "for name in characterDF['Character Name'].dropna(inplace=False):\n",
    "    for rank in list_sorted_ranks:\n",
    "        if re.search(fr'\\b{rank}\\b', name, re.IGNORECASE):\n",
    "            ranks_counter[ dict_military_ranks[rank] ] +=1\n",
    "            break #we need to stop to avoid counting two times the same rank (for instance, 'Sgt' and 'Sgt.') \n",
    "            \n",
    "sorted_ranks_freq = dict(sorted(ranks_counter.items(), key=lambda item: item[1], reverse=True))\n",
    "ranks = list(sorted_ranks_freq.keys())\n",
    "values = list(sorted_ranks_freq.values())\n",
    "\n",
    "### histogram\n",
    "plt.bar(ranks, values, color='blue')\n",
    "plt.xlabel('Rank')\n",
    "plt.ylabel('Count')\n",
    "plt.title('Rank Distribution')\n",
    "plt.xticks(rotation=45, ha='right')\n",
    "plt.yscale('log')\n",
    "plt.show()\n",
    "\n",
    "### pie chart\n",
    "limit_percentage = 2 # limit above which we merge all the values\n",
    "total_count = sum(sorted_ranks_freq.values())\n",
    "limit_value = total_count * (limit_percentage / 100)\n",
    "merged_value = sum(value for rank, value in sorted_ranks_freq.items() if value < limit_value)\n",
    "\n",
    "# Create a new dictionary with merged values\n",
    "merged_ranks_freq = {rank: value for rank, value in sorted_ranks_freq.items() if value >= limit_value}\n",
    "merged_ranks_freq['Other'] = merged_value\n",
    "\n",
    "# Extract keys (ranks) and values (frequencies) for plotting\n",
    "ranks = list(merged_ranks_freq.keys())\n",
    "values = list(merged_ranks_freq.values())\n",
    "\n",
    "# pie chart\n",
    "plt.pie(values, labels=ranks, autopct='%1.1f%%', startangle=90, colors=plt.cm.Paired.colors)\n",
    "plt.axis('equal')  # Equal aspect ratio ensures that pie is drawn as a circle.\n",
    "plt.title(f'Rank Distribution with Merged Values Below {limit_percentage}%')\n",
    "plt.show()"
   ]
  },
  {
   "cell_type": "markdown",
   "id": "d5853268",
   "metadata": {},
   "source": [
    "So the aliens could deduce, for example, that the rank of Private should be higher than that of Captain... There's a cofactor here: the higher you are in the hierarchy, the more important your responsibilities are to the scriptwriters."
   ]
  },
  {
   "cell_type": "markdown",
   "id": "809dd33c",
   "metadata": {},
   "source": [
    "### 1.2.2. Doctors"
   ]
  },
  {
   "cell_type": "markdown",
   "id": "37ed6a90",
   "metadata": {},
   "source": [
    "'What about long-studies occupations?' were wondering our alians."
   ]
  },
  {
   "cell_type": "code",
   "execution_count": null,
   "id": "5bd42336",
   "metadata": {},
   "outputs": [],
   "source": [
    "# extracitng doctor lines\n",
    "df_predoc = characterDF.dropna(subset='Character Name').copy()\n",
    "df_doctors = df_predoc[ df_predoc['Character Name'].str.lower().str.split().apply(lambda x: x[0] if len(x) > 0 else None)=='dr.' ]\n",
    "\n",
    "def pie_chart_docs_gender(df, title=''):\n",
    "    # Count and plot the occurrences of each gender\n",
    "    gender_counts = df['Actor gender'].value_counts()\n",
    "    labels = ['Men', 'Women']\n",
    "    sizes = [gender_counts['M'], gender_counts['F']]\n",
    "    colors = ['lightblue', 'pink']\n",
    "    plt.pie(sizes, labels=labels, colors=colors, autopct='%1.1f%%', shadow=False, startangle=90)\n",
    "    plt.title(title)\n",
    "\n",
    "plt.figure()\n",
    "plt.subplot(121)\n",
    "pie_chart_docs_gender(df_doctors, title=\"Actor Gender of 'Dr.' charactors\")\n",
    "plt.subplot(122)\n",
    "pie_chart_docs_gender(df_predoc, title='Actor Gender')\n",
    "plt.show()"
   ]
  },
  {
   "cell_type": "markdown",
   "id": "72b8ae4c",
   "metadata": {},
   "source": [
    "We see a clear influence of gender on doctors *(we will quantify it on Milestone 3)*."
   ]
  },
  {
   "cell_type": "markdown",
   "id": "01e82727",
   "metadata": {},
   "source": [
    "# 2. Influence of movies on society, and vice-versa"
   ]
  },
  {
   "cell_type": "markdown",
   "id": "056102dc",
   "metadata": {},
   "source": [
    "### 2 a. Adding real babies names dataset and comparing temporal frequencies between reality and fiction (consider only the 100 most famous movies)"
   ]
  },
  {
   "cell_type": "markdown",
   "id": "f14b3782",
   "metadata": {},
   "source": [
    "##### Study on the top 100 movies"
   ]
  },
  {
   "cell_type": "code",
   "execution_count": null,
   "id": "ad09dd2a",
   "metadata": {
    "scrolled": false
   },
   "outputs": [],
   "source": [
    "# Define function to format revenue values with K or B suffix\n",
    "def format_revenue(revenue):\n",
    "    if revenue >= 1e9:\n",
    "        return '${:.1f}B'.format(revenue / 1e9)\n",
    "    elif revenue >= 1e6:\n",
    "        return '${:.1f}M'.format(revenue / 1e6)\n",
    "    else:\n",
    "        return '${:,.0f}'.format(revenue)\n",
    "\n",
    "# Calculate proportion of NaN values in Movie box office revenue column\n",
    "nan_proportion = movieDF[\"Movie box office revenue\"].isna().sum() / len(movieDF)\n",
    "\n",
    "# Create bar chart\n",
    "fig = go.Figure(go.Bar(\n",
    "    x=movieDF.dropna(subset=[\"Movie box office revenue\"]).sort_values(by=\"Movie box office revenue\",ascending=True).tail(100)[\"Movie box office revenue\"], \n",
    "    y=movieDF.dropna(subset=[\"Movie box office revenue\"]).sort_values(by=\"Movie box office revenue\",ascending=True).tail(100)[\"Movie name\"], \n",
    "    orientation='h',\n",
    "    text=[format_revenue(revenue) for revenue in movieDF.dropna(subset=[\"Movie box office revenue\"]).sort_values(by=\"Movie box office revenue\",ascending=True).tail(100)[\"Movie box office revenue\"]],\n",
    "    textposition='outside',\n",
    "    marker=dict(\n",
    "        color=[i for i in range(100)],\n",
    "        colorscale='sunsetdark'\n",
    "    )\n",
    "))\n",
    "\n",
    "# Update layout\n",
    "fig.update_layout(\n",
    "    height=2000,\n",
    "    xaxis_title=\"Box Office Revenue\",\n",
    "    yaxis_title=\"Movie Name\",\n",
    "    title={\n",
    "        'text': 'Top 100 Movies by Box Office Revenue<br><span style=\"font-size: 12px;\">{:.1%} of Movie Box Office Revenue values are NaN</span>'.format(nan_proportion),\n",
    "        'x': 0.5,\n",
    "        'xanchor': 'center',\n",
    "        'yanchor': 'top'\n",
    "    },\n",
    "    xaxis=dict(\n",
    "        showgrid=True,  # Show vertical grid lines\n",
    "        gridcolor='rgba(211, 211, 211, 0.6)',  # Set grid line color\n",
    "    ),\n",
    "    plot_bgcolor='rgba(0,0,0,0)',\n",
    "    paper_bgcolor='rgba(0,0,0,0)',\n",
    "    font=dict(\n",
    "        size=12\n",
    "    ),\n",
    "    margin=dict(\n",
    "        l=200\n",
    "    )\n",
    ")\n",
    "\n",
    "# fig.show()"
   ]
  },
  {
   "cell_type": "markdown",
   "id": "51b6fd09",
   "metadata": {},
   "source": [
    "![top100](IMAGES/Top100Movies.png)"
   ]
  },
  {
   "cell_type": "markdown",
   "id": "c75cdf39",
   "metadata": {},
   "source": [
    "Although many films do not have box-office data, it will suffice to focus on the top 100 films in part two. The top 100 films are generally the best-known, and we'll focus on them to observe the trends we consider most relevant to our analysis."
   ]
  },
  {
   "cell_type": "markdown",
   "id": "85ceb9e8",
   "metadata": {},
   "source": [
    "Wordcloud of the top100 movie names"
   ]
  },
  {
   "cell_type": "code",
   "execution_count": null,
   "id": "8ac025a4",
   "metadata": {},
   "outputs": [],
   "source": [
    "# Drop rows with missing values in the \"Movie box office revenue\" column\n",
    "movieDF_cleaned = movieDF.dropna(subset=[\"Movie box office revenue\"])\n",
    "\n",
    "# Create a dictionary with movie names as keys and their box office revenue as values\n",
    "movie_name_revenue_dict = dict(zip(movieDF_cleaned[\"Movie name\"], movieDF_cleaned[\"Movie box office revenue\"]))\n",
    "\n",
    "# Generate the word cloud from the movie names and their box office revenue\n",
    "wordcloud = WordCloud(\n",
    "    max_font_size=50,\n",
    "    background_color=\"white\",\n",
    "    colormap=\"cividis\",\n",
    ").generate_from_frequencies(movie_name_revenue_dict)\n",
    "\n",
    "# Display the word cloud\n",
    "plt.figure(figsize=(8, 8), facecolor=None)\n",
    "plt.imshow(wordcloud)\n",
    "plt.axis(\"off\")\n",
    "plt.tight_layout(pad=0)\n",
    "plt.show()"
   ]
  },
  {
   "cell_type": "markdown",
   "id": "42a0e95f",
   "metadata": {},
   "source": [
    "##### Study on the characters present in the top 100 movies"
   ]
  },
  {
   "cell_type": "markdown",
   "id": "284297d3",
   "metadata": {},
   "source": [
    "Import the babyname dataset in the US"
   ]
  },
  {
   "cell_type": "code",
   "execution_count": null,
   "id": "e82e5a14",
   "metadata": {},
   "outputs": [],
   "source": [
    "# we will extract only the characters from the top 100 movies in the dataset based movieDF[\"Movie box office revenue\"]\n",
    "top100_characters = characterDF[characterDF[\"Wikipedia movie ID\"].isin(movieDF.sort_values(by=\"Movie box office revenue\",ascending=False)[\"Wikipedia movie ID\"].head(100))]\n",
    "\n",
    "# PATH_IN = '.\\\\DATA\\\\AddedDatasets\\\\Name'\n",
    "PATH_IN = r\".\\DATA\\AddedDatasets\\Name\"\n",
    "\n",
    "baby_nameDF = DataImport.OpenBabyNameDf(PATH_IN)"
   ]
  },
  {
   "cell_type": "markdown",
   "id": "71341ea9",
   "metadata": {},
   "source": [
    "We will study this dataset with a focus of the genre repartition of the firstnames over the years as well as the birth rate each year."
   ]
  },
  {
   "cell_type": "code",
   "execution_count": null,
   "id": "05d3fb13",
   "metadata": {},
   "outputs": [],
   "source": [
    "# Create DataFrame for M first names\n",
    "M_df = baby_nameDF[baby_nameDF['Sexe'] == 'M']\n",
    "\n",
    "# Create DataFrame for F first names\n",
    "F_df = baby_nameDF[baby_nameDF['Sexe'] == 'F']\n",
    "\n",
    "# Create DataFrame for first names that are given to both M and F\n",
    "MF_df = M_df[['Year', 'Firstname']].merge(F_df[['Year', 'Firstname']], on=['Year', 'Firstname'])\n",
    "\n",
    "# Remove first names that are in MF_df from M_df and F_df\n",
    "M_df = M_df[~M_df['Firstname'].isin(MF_df['Firstname'])]\n",
    "F_df = F_df[~F_df['Firstname'].isin(MF_df['Firstname'])]\n",
    "\n",
    "# Calculate proportion of unique first names that are given to Males and Females\n",
    "MF_proportion = len(MF_df['Firstname'].unique()) / len(baby_nameDF['Firstname'].unique())\n",
    "M_proportion = len(M_df['Firstname'].unique()) / len(baby_nameDF['Firstname'].unique())\n",
    "F_proportion = len(F_df['Firstname'].unique()) / len(baby_nameDF['Firstname'].unique())\n",
    "\n",
    "# Create pie chart\n",
    "fig = px.pie(\n",
    "    values=[MF_proportion, M_proportion, F_proportion],\n",
    "    names=['Males and Females', 'Males', 'Females'],\n",
    "    title='Proportion of Unique First Names by Gender'\n",
    ")\n",
    "\n",
    "# Update layout\n",
    "fig.update_layout(\n",
    "    plot_bgcolor='rgba(0,0,0,0)',\n",
    "    paper_bgcolor='rgba(0,0,0,0)',\n",
    "    font=dict(\n",
    "        size=12\n",
    "    )\n",
    ")\n",
    "\n",
    "# fig.show()"
   ]
  },
  {
   "cell_type": "markdown",
   "id": "e36dc91a",
   "metadata": {},
   "source": [
    "![proportion](IMAGES/proportionMF.png)"
   ]
  },
  {
   "cell_type": "code",
   "execution_count": null,
   "id": "96b91182",
   "metadata": {},
   "outputs": [],
   "source": [
    "# Create the 'Mixed Sexe' column with initial values\n",
    "baby_nameDF['Mixed Sexe'] = 'MF'\n",
    "\n",
    "# Update 'Mixed Sexe' column based on presence in M_df, F_df, and MF_df\n",
    "baby_nameDF.loc[baby_nameDF['Firstname'].isin(M_df['Firstname'].unique()), 'Mixed Sexe'] = 'M'\n",
    "baby_nameDF.loc[baby_nameDF['Firstname'].isin(F_df['Firstname'].unique()), 'Mixed Sexe'] = 'F'\n",
    "baby_nameDF.loc[baby_nameDF['Firstname'].isin(MF_df['Firstname'].unique()), 'Mixed Sexe'] = 'MF'\n",
    "\n",
    "# Calculate total number of babies by mixed sex and year\n",
    "mixed_sex_year_df = baby_nameDF.groupby(['Year', 'Mixed Sexe']).sum().reset_index()\n",
    "\n",
    "# Create area chart\n",
    "fig = px.area(mixed_sex_year_df, x='Year', y='Number', color='Mixed Sexe', line_group='Mixed Sexe')\n",
    "\n",
    "# Update layout with log scale on y-axis\n",
    "fig.update_layout(\n",
    "    title='Baby Firstname Distribution by Mixed Sex over the Years',\n",
    "    xaxis_title='Year',\n",
    "    yaxis_title='Number of Babies (log scale)',\n",
    "    plot_bgcolor='rgba(0,0,0,0)',\n",
    "    paper_bgcolor='rgba(0,0,0,0)',\n",
    "    font=dict(\n",
    "        size=12\n",
    "    ),\n",
    "    yaxis=dict(type='log')  # Set y-axis to log scale\n",
    ")\n",
    "\n",
    "# fig.show()"
   ]
  },
  {
   "cell_type": "markdown",
   "id": "e411456b",
   "metadata": {},
   "source": [
    "![distrib_sexe](IMAGES/distrib_sexe.png)"
   ]
  },
  {
   "cell_type": "markdown",
   "id": "7a8325b9",
   "metadata": {},
   "source": [
    "##### Extract valid firstnames from character firstname"
   ]
  },
  {
   "cell_type": "code",
   "execution_count": null,
   "id": "304f967e",
   "metadata": {},
   "outputs": [],
   "source": [
    "%%capture\n",
    "# Create a set of valid first names from baby_nameDF[\"Firstname\"]\n",
    "valid_firstnames = set(baby_nameDF[\"Firstname\"])\n",
    "name_occurrences = baby_nameDF[baby_nameDF[\"Firstname\"].isin(valid_firstnames)].groupby(\"Firstname\")[\"Number\"].sum().reset_index()\n",
    "name_occurrences_dict = dict(zip(name_occurrences[\"Firstname\"], name_occurrences[\"Number\"]))\n",
    "\n",
    "# Apply the function to the \"Character Name\" column\n",
    "top100_characters[\"Character firstname\"] = top100_characters[\"Character Name\"].apply(lambda x: DatasetTreatment.extract_top_firstname(x,valid_firstnames,name_occurrences_dict))\n",
    "top100_characters.dropna(subset=[\"Character firstname\"], inplace=True)\n",
    "\n",
    "print(\"Number of unique name in top100 : \",len(top100_characters[\"Character firstname\"].unique()))\n",
    "name_occurrences[\"First year appearance\"] = baby_nameDF[baby_nameDF[\"Firstname\"].isin(valid_firstnames)].groupby(\"Firstname\")[\"Year\"].min().reset_index()[\"Year\"]\n",
    "top100_characters[\"Year\"] = pd.to_datetime(top100_characters[\"Movie release date\"]).dt.year"
   ]
  },
  {
   "cell_type": "markdown",
   "id": "98cad114",
   "metadata": {},
   "source": [
    "##### Study on the babies firstname recensed in the US after their presence in a movie"
   ]
  },
  {
   "cell_type": "markdown",
   "id": "0fe818e7",
   "metadata": {},
   "source": [
    "A first simple study could be to see if new firstname ermarged after the apparition of a movie. This doesn't conclude wether the movie created this firstname or not, but the event could be correlated."
   ]
  },
  {
   "cell_type": "code",
   "execution_count": null,
   "id": "9fe5292f",
   "metadata": {},
   "outputs": [],
   "source": [
    "# Merge the DataFrames on the \"Firstname\" column\n",
    "merged_data = top100_characters.merge(name_occurrences, left_on=\"Character firstname\", right_on=\"Firstname\", how=\"left\")\n",
    "\n",
    "# Convert the \"First year appearance\" and \"Year\" columns to integers\n",
    "merged_data[\"First year appearance\"] = merged_data[\"First year appearance\"].astype(int)\n",
    "merged_data[\"Year\"] = merged_data[\"Year\"].astype(int)\n",
    "\n",
    "# Filter the rows where \"First year appearance\" is greater than \"Year\"\n",
    "filtered_data = merged_data[merged_data[\"First year appearance\"] > merged_data[\"Year\"]]\n",
    "\n",
    "# Calculate the number of names and their films\n",
    "num_names_with_films = len(filtered_data)\n",
    "\n",
    "# Print the result\n",
    "print(\"Number of names with their films where the name wasn't present before the film in name_occurrences:\", num_names_with_films)"
   ]
  },
  {
   "cell_type": "code",
   "execution_count": null,
   "id": "36e07803",
   "metadata": {},
   "outputs": [],
   "source": [
    "# Calculate the number of names and their films\n",
    "num_names_with_films = len(filtered_data)\n",
    "\n",
    "# Log-transform the frequencies\n",
    "filtered_data[\"LogFrequency\"] = np.log1p(filtered_data[\"Number\"])\n",
    "\n",
    "# Generate the word cloud with a specific colormap (e.g., 'viridis')\n",
    "wordcloud = WordCloud(\n",
    "    max_font_size=50,\n",
    "    max_words=100,\n",
    ").generate_from_frequencies(dict(zip(filtered_data[\"Character firstname\"], filtered_data[\"LogFrequency\"])))\n",
    "\n",
    "# Convert the word cloud data to a DataFrame\n",
    "wordcloud_df = pd.DataFrame({\"label\": wordcloud.words_.keys(), \"log_frequency\": wordcloud.words_.values()})\n",
    "\n",
    "# Create a treemap using Plotly Express with a different color scale\n",
    "fig = px.treemap(\n",
    "    wordcloud_df, \n",
    "    path=['label'], \n",
    "    values='log_frequency',\n",
    "    color='log_frequency',\n",
    "    color_continuous_scale='blues',  # Change the color scale to 'blues'\n",
    "    title='Word Cloud as Treemap (Log-Transformed Frequency)'\n",
    ")\n",
    "\n",
    "# Update layout with log scale for size\n",
    "fig.update_layout(\n",
    "    height=500,\n",
    "    margin=dict(l=20, r=20, b=20, t=80),\n",
    "    title=dict(\n",
    "        font=dict(size=20),  # Increase title font size\n",
    "    ),\n",
    "    plot_bgcolor='rgba(0,0,0,0)',\n",
    ")\n",
    "\n",
    "# fig.show()"
   ]
  },
  {
   "cell_type": "markdown",
   "id": "eb2370db",
   "metadata": {},
   "source": [
    "![newname](IMAGES/newname.png)"
   ]
  },
  {
   "cell_type": "markdown",
   "id": "8aacc823",
   "metadata": {},
   "source": [
    "As we can see on the worldcloud map, some names are higly likely to be created by a movie like \"Kenobi\" in Star Wars or \"Ollivander\" in Harry Potter."
   ]
  },
  {
   "cell_type": "code",
   "execution_count": null,
   "id": "523a40c3",
   "metadata": {},
   "outputs": [],
   "source": [
    "# display the movie name linked with these name in a pandaframe by crossing Wikipedia movie ID in movieDF\n",
    "probable_newFirstnameDF = filtered_data.merge(movieDF, left_on=\"Wikipedia movie ID\", right_on=\"Wikipedia movie ID\", how=\"left\")[[\"Movie name\",\"Character firstname\"]].drop_duplicates()"
   ]
  },
  {
   "cell_type": "markdown",
   "id": "4c1613a7",
   "metadata": {},
   "source": [
    "We can make a simple test if it implies that the name comes from a highest-grossing film"
   ]
  },
  {
   "cell_type": "code",
   "execution_count": null,
   "id": "9fbf5b0f",
   "metadata": {},
   "outputs": [],
   "source": [
    "probable_newFirstnameDF_inTop400 = movieDF[movieDF[\"Movie name\"].isin(probable_newFirstnameDF[\"Movie name\"])].sort_values(by=\"Movie box office revenue\",ascending=False).head(400)\n",
    "\n",
    "print(\"Number of names with their films where the name wasn't present before the film in name_occurrences:\", len(probable_newFirstnameDF_inTop400[\"Movie name\"].unique()))\n",
    "\n",
    "probable_newFirstnameDF_inTop400[\"Movie name\"].unique()"
   ]
  },
  {
   "cell_type": "markdown",
   "id": "c9929cf2",
   "metadata": {},
   "source": [
    "We are not too suprise of this result. For them it is highly probable that these movies created a trend for these firstnames. Still, it means half of it, hence the other half could be linked with other events."
   ]
  },
  {
   "cell_type": "markdown",
   "id": "c8ed48e7",
   "metadata": {},
   "source": [
    "##### Study on the top 20 firstnames in movies over the year"
   ]
  },
  {
   "cell_type": "markdown",
   "id": "a66df263",
   "metadata": {},
   "source": [
    "An other relevant study could be to see a trend in firstnames. We are not just focusing on the new firstnames or the ones highlighted by movies but we would like to see if the major trends in reality also appear in movies. This will guide us to name our human with it's most likely name depending on the year and the location."
   ]
  },
  {
   "cell_type": "code",
   "execution_count": null,
   "id": "c27f9bfc",
   "metadata": {},
   "outputs": [],
   "source": [
    "import plotly.graph_objects as go\n",
    "\n",
    "# Choose a year\n",
    "year = 2022\n",
    "\n",
    "# Define the valid date range for your dataset\n",
    "min_valid_date = \"1850-01-01\"\n",
    "max_valid_date = \"2023-11-11\"\n",
    "characterDF[\"Year\"] = pd.to_datetime(characterDF[\"Movie release date\"]).dt.year\n",
    "\n",
    "# Apply the function to the \"Character Name\" column\n",
    "characterDF[\"Character firstname\"] = characterDF[\"Character Name\"].apply(lambda x: DatasetTreatment.extract_top_firstname(x,valid_firstnames,name_occurrences_dict))\n",
    "Firstname_characterDF = characterDF\n",
    "Firstname_characterDF.dropna(subset=[\"Character firstname\"], inplace=True)\n",
    "\n",
    "# Create a new DataFrame with the number of occurrences of each firstname groupping by the counting given in baby_nameDF of this firstname for each year\n",
    "# keep only the firstnames present in the film (characterDF[\"Character firstname\"])\n",
    "name_occurrences_by_year = baby_nameDF.groupby([\"Firstname\", \"Year\", \"Sexe\"])[\"Number\"].sum().reset_index()\n",
    "name_occurrences_by_year = name_occurrences_by_year[name_occurrences_by_year[\"Firstname\"].isin(characterDF[\"Character firstname\"].unique())]\n",
    "name_occurrences_by_year[\"Year\"] = pd.to_datetime(name_occurrences_by_year[\"Year\"], format='%Y')\n",
    "\n",
    "# Create bar chart\n",
    "fig = go.Figure(go.Bar(\n",
    "    x=name_occurrences_by_year[name_occurrences_by_year[\"Year\"].dt.year == year].sort_values(by=\"Number\",ascending=True).tail(20)[\"Number\"],\n",
    "    y=name_occurrences_by_year[name_occurrences_by_year[\"Year\"].dt.year == year].sort_values(by=\"Number\",ascending=True).tail(20)[\"Firstname\"],\n",
    "    orientation='h',\n",
    "    text=name_occurrences_by_year[name_occurrences_by_year[\"Year\"].dt.year == year].sort_values(by=\"Number\",ascending=True).tail(20)[\"Number\"],\n",
    "    textposition='outside',\n",
    "    marker=dict(\n",
    "        color=name_occurrences_by_year[name_occurrences_by_year[\"Year\"].dt.year == year].sort_values(by=\"Number\",ascending=True).tail(20)[\"Sexe\"].map({'M': 'rgb(51, 102, 255)', 'F': 'salmon', 'MF': 'grey'})\n",
    "    )\n",
    "))\n",
    "\n",
    "fig.update_layout(\n",
    "    xaxis_title=\"Number of occurrences\",\n",
    "    yaxis_title=\"First name\",\n",
    "    title=\"Top 20 First Names in {}\".format(year),\n",
    "    plot_bgcolor='rgba(0,0,0,0)'\n",
    ")\n",
    "\n",
    "fig.update_yaxes(\n",
    "    tickfont=dict(\n",
    "        size=10\n",
    "    )\n",
    ")\n",
    "\n",
    "# fig.show()"
   ]
  },
  {
   "cell_type": "markdown",
   "id": "0e1e9e3e",
   "metadata": {},
   "source": [
    "![top20firstname](IMAGES/top20firstname.png)"
   ]
  },
  {
   "cell_type": "markdown",
   "id": "6b938b08",
   "metadata": {},
   "source": [
    "On this trend, a simple way of doing it is to see the top 20 firstnames in movies over the year. We want to see who are the most recurrent firsnames in top50 each year and if we have at the end 50 name (Assumption on the fact that no evolution was seen in the top50 over the year) or way more.(Assumption on the fact that the top50 is not stable over the year)."
   ]
  },
  {
   "cell_type": "code",
   "execution_count": null,
   "id": "45aeac8f",
   "metadata": {},
   "outputs": [],
   "source": [
    "# Long to compute: around 4min\n",
    "NumberUniqueFirstname = pd.DataFrame(columns=[\"Top\", \"Unique\"])\n",
    "data_list = []\n",
    "\n",
    "for i in range(1, 1001):\n",
    "    tmp = name_occurrences_by_year.groupby(\"Year\").apply(lambda x: x.sort_values(by=\"Number\", ascending=False).head(i))\n",
    "    unique_count = tmp[\"Firstname\"].nunique()\n",
    "    data_list.append([i, unique_count])\n",
    "\n",
    "NumberUniqueFirstname = pd.concat([NumberUniqueFirstname, pd.DataFrame(data_list, columns=[\"Top\", \"Unique\"])], ignore_index=True)"
   ]
  },
  {
   "cell_type": "code",
   "execution_count": null,
   "id": "0d9ee28c",
   "metadata": {},
   "outputs": [],
   "source": [
    "# Line plot of number of unique firstnames in top i (between 1 and 1000) over the years\n",
    "fig = px.line(NumberUniqueFirstname, x=\"Top\", y=\"Unique\", title='Number of Unique Firstnames in Top i over the Years')\n",
    "\n",
    "# Calculate tickvals and ticktext for every 100 values on the x-axis\n",
    "tickvals = list(range(0, 1001, 100))\n",
    "ticktext = [str(val) for val in tickvals]\n",
    "\n",
    "fig.update_layout(\n",
    "    xaxis_title=\"Top i\",\n",
    "    yaxis_title=\"Number of Unique Firstnames\",\n",
    "    plot_bgcolor='rgba(0,0,0,0)',\n",
    "    xaxis=dict(showgrid=True, gridcolor='lightgrey', zeroline=False, tickvals=tickvals, ticktext=ticktext),\n",
    "    yaxis=dict(showgrid=True, gridcolor='lightgrey', zeroline=False, type='log', dtick=1),\n",
    ")\n",
    "\n",
    "# Add scatter markers for each 100 Top\n",
    "for top in range(100, 1001, 100):\n",
    "    fig.add_trace(go.Scatter(\n",
    "        x=[top],\n",
    "        y=[NumberUniqueFirstname.loc[NumberUniqueFirstname['Top'] == top, 'Unique'].values[0]],\n",
    "        mode='markers+text',\n",
    "        text=[NumberUniqueFirstname.loc[NumberUniqueFirstname['Top'] == top, 'Unique'].values[0]],\n",
    "        textposition='top center',\n",
    "        marker=dict(color='blue', size=5),\n",
    "        showlegend=False,\n",
    "    ))\n",
    "\n",
    "fig.show()"
   ]
  },
  {
   "cell_type": "markdown",
   "id": "d5836b83",
   "metadata": {},
   "source": [
    "![uniquefirstname](IMAGES/uniquefirstname.png)"
   ]
  },
  {
   "cell_type": "markdown",
   "id": "5fb13269",
   "metadata": {},
   "source": [
    "This above graph helps us to understand that over the years, the first tops in firstnames evolved a lot and hence it will be interesting for us to analyse deeper these trends."
   ]
  },
  {
   "cell_type": "markdown",
   "id": "9350fc61",
   "metadata": {},
   "source": [
    "### Trying to see if the tendency is that movies are in advance or copy what existed previously."
   ]
  },
  {
   "cell_type": "markdown",
   "id": "a902e2d2",
   "metadata": {},
   "source": [
    "To lighten the study, we will only focus on the top 400 firstnames in the US. The goal of this study is to have a better understanding of the firstnames in movies compared to what we have in reality. At the end, we are more focusing on if they both follow the same trends with a certain delay or not. This probable correlation will help us to name our human."
   ]
  },
  {
   "cell_type": "code",
   "execution_count": null,
   "id": "89c8db87",
   "metadata": {},
   "outputs": [],
   "source": [
    "TOP = 400\n",
    "\n",
    "# keep the top 400 firstname in baby_nameDF\n",
    "firstname_occurrences_by_year = Firstname_characterDF.groupby([\"Year\", \"Character firstname\", \"Actor gender\"]).size().reset_index(name=\"Number of Occurrences\")\n",
    "# add a column of firstname_occurrences_by_year where it is the Total number of occurences of this firstname in the dataset\n",
    "firstname_occurrences_by_year[\"Total number of occurences\"] = firstname_occurrences_by_year.groupby([\"Character firstname\", \"Actor gender\"])[\"Number of Occurrences\"].transform(\"sum\")\n",
    "\n",
    "top400_firstnamesDF = baby_nameDF.merge(firstname_occurrences_by_year, left_on=\"Firstname\", right_on=\"Character firstname\", how=\"left\")\n",
    "top400_firstnamesDF = top400_firstnamesDF[top400_firstnamesDF[\"Year_x\"].astype(float)==top400_firstnamesDF[\"Year_y\"].astype(float)]\n",
    "top400_firstnamesDF[\"Year\"] = top400_firstnamesDF[\"Year_x\"]\n",
    "top400_firstnamesDF = top400_firstnamesDF.drop(columns=[\"Year_x\",\"Year_y\"])\n",
    "top400_firstnamesDF[\"Firstname\"] = top400_firstnamesDF[\"Firstname\"]\n",
    "top400_firstnamesDF = top400_firstnamesDF.drop(columns=[\"Character firstname\"])\n",
    "top400_firstnamesDF = top400_firstnamesDF.rename(columns={\"Number\":\"Number of birth\",\"Number of Occurrences\":\"Number of occurences in movies\"})\n",
    "top400_firstnamesDF =top400_firstnamesDF.drop(columns=[\"Actor gender\"])\n",
    "\n",
    "# keep the top 400 unique firstname in top400_firstnamesDF in column Number of occurences in movies\n",
    "keep_top_400 = top400_firstnamesDF.drop_duplicates(subset=[\"Firstname\"])\n",
    "keep_top_400 = keep_top_400.sort_values(by=\"Total number of occurences\",ascending=False).head(TOP)\n",
    "top400_firstnamesDF = top400_firstnamesDF[top400_firstnamesDF[\"Firstname\"].isin(keep_top_400[\"Firstname\"])]\n",
    "\n",
    "sum_by_name_gender = top400_firstnamesDF.groupby([\"Firstname\", \"Sexe\"])[\"Number of birth\"].sum().reset_index().rename(columns={\"Number of birth\": \"Number\"})\n",
    "idx_max_gender = sum_by_name_gender.groupby(\"Firstname\")[\"Number\"].idxmax()\n",
    "max_gender_lines = sum_by_name_gender.loc[idx_max_gender]\n",
    "\n",
    "top400_firstnamesDF = top400_firstnamesDF.merge(max_gender_lines, on=[\"Firstname\", \"Sexe\"], how=\"inner\")"
   ]
  },
  {
   "cell_type": "markdown",
   "id": "8fc5e9fc",
   "metadata": {},
   "source": [
    "To understand what we will be doing at a bigger scale, we will first do it on one individual. Aribitraly, we chose Christopher.\n",
    "So Christopher, show us what you got!\n",
    "Is it a trendy name in the US? Was it? Will it be? (no, we're kidding we're not forecasting the name of your eventual future child)\n",
    "Does movies have an impact on the name of Christopher in the babyname frequency?"
   ]
  },
  {
   "cell_type": "code",
   "execution_count": null,
   "id": "96c0cf12",
   "metadata": {},
   "outputs": [],
   "source": [
    "firstname = \"Christopher\"\n",
    "\n",
    "fig1 = make_subplots(\n",
    "    rows=1,\n",
    "    cols=1,\n",
    "    specs=[[{\"secondary_y\": True}]]\n",
    ")\n",
    "\n",
    "# Sort the dataframes by \"Year\" for consistency\n",
    "df1 = top400_firstnamesDF[top400_firstnamesDF[\"Firstname\"] == firstname].sort_values(by=\"Year\")\n",
    "df2 = top400_firstnamesDF[top400_firstnamesDF[\"Firstname\"] == firstname].sort_values(by=\"Year\")\n",
    "\n",
    "# Add a trace for the first line (e.g., blue)\n",
    "trace1 = go.Scatter(x=df1[\"Year\"], y=df1[\"Number of birth\"], mode='lines', name=\"Number of Birth\", line=dict(color='blue'))\n",
    "\n",
    "# Add a trace for the second line (e.g., red)\n",
    "trace2 = go.Scatter(x=df2[\"Year\"], y=df2[\"Number of occurences in movies\"], mode='lines', name=\"Number of Occurrences in Movies\", line=dict(color='red'), yaxis=\"y2\")\n",
    "\n",
    "# Update the subplot and axis properties\n",
    "fig1.add_trace(trace1, row=1, col=1)\n",
    "fig1.add_trace(trace2, row=1, col=1, secondary_y=True)\n",
    "\n",
    "fig1.update_xaxes(title_text='Year', row=1, col=1)\n",
    "fig1.update_xaxes(showticklabels=True, row=1, col=1)  # Show x-axis tick labels\n",
    "\n",
    "fig1.update_yaxes(showticklabels=False, row=1, col=1)\n",
    "fig1.update_yaxes(showticklabels=False, row=1, col=1, secondary_y=True)\n",
    "\n",
    "fig1.update_layout(\n",
    "    xaxis_title=\"Year\",\n",
    "    yaxis_title=\"Number of Birth\",\n",
    "    title_text=firstname,\n",
    "    plot_bgcolor='rgba(0,0,0,0)'\n",
    "    )\n",
    "\n",
    "# Show the figure\n",
    "fig1.show()"
   ]
  },
  {
   "cell_type": "markdown",
   "id": "d28d2851",
   "metadata": {},
   "source": [
    "![christopher_number.png](IMAGES/christopher_number.png)"
   ]
  },
  {
   "cell_type": "markdown",
   "id": "9e70ae33",
   "metadata": {},
   "source": [
    "Well done Christopher! Looks like the babyname occurence of Christopher is in advance of the movie occurence. And fast observation guide to see that there is a delay of 30 years. Could we assume that at 30 years, we have in the movies a correct interpretation of the baynames repartition 30 years before? Difficult to say for the moment.\n",
    "Oh by the way, is it really the number that is relevant to observe? Or should we look at the frequency of the name in the population?\n",
    "Actually, it is not really useful or interesting to interpret on numbers, so we plot their frequencies"
   ]
  },
  {
   "cell_type": "code",
   "execution_count": null,
   "id": "d9db7971",
   "metadata": {},
   "outputs": [],
   "source": [
    "# Calculate the sum of the number of births and number of firstnames for each year\n",
    "births_by_year = baby_nameDF.groupby(\"Year\")[\"Number\"].sum().reset_index()\n",
    "firstnames_by_year = baby_nameDF.groupby(\"Year\")[\"Firstname\"].count().reset_index()\n",
    "\n",
    "firstname = \"Christopher\"\n",
    "\n",
    "# Sort the dataframes by \"Year\" for consistency\n",
    "df1 = top400_firstnamesDF[top400_firstnamesDF[\"Firstname\"] == firstname].sort_values(by=\"Year\")\n",
    "df2 = top400_firstnamesDF[top400_firstnamesDF[\"Firstname\"] == firstname].sort_values(by=\"Year\")\n",
    "\n",
    "# Calculate the frequency for each year using apply\n",
    "df1[\"Frequency\"] = df1.apply(lambda row: row[\"Number of birth\"] / births_by_year[births_by_year[\"Year\"] == row[\"Year\"]][\"Number\"].values[0], axis=1)\n",
    "df2[\"Frequency\"] = df2.apply(lambda row: row[\"Number of occurences in movies\"] / firstnames_by_year[firstnames_by_year[\"Year\"] == row[\"Year\"]][\"Firstname\"].values[0], axis=1)\n",
    "\n",
    "# Rename the columns\n",
    "df1 = df1.rename(columns={\"Frequency\": \"Frequency of Birth\"})\n",
    "df2 = df2.rename(columns={\"Frequency\": \"Frequency in Movies\"})\n",
    "\n",
    "fig1 = make_subplots(\n",
    "    rows=1,\n",
    "    cols=1,\n",
    "    specs=[[{\"secondary_y\": True}]]\n",
    ")\n",
    "\n",
    "# Add a trace for the first line (e.g., blue)\n",
    "trace1 = go.Scatter(x=df1[\"Year\"], y=df1[\"Frequency of Birth\"], mode='lines', name=\"Frequency of Birth\", line=dict(color='blue'))\n",
    "\n",
    "# Add a trace for the second line (e.g., red)\n",
    "trace2 = go.Scatter(x=df2[\"Year\"], y=df2[\"Frequency in Movies\"], mode='lines', name=\"Frequency of Occurrences in Movies\", line=dict(color='red'), yaxis=\"y2\")\n",
    "\n",
    "# Update the subplot and axis properties\n",
    "fig1.add_trace(trace1, row=1, col=1)\n",
    "fig1.add_trace(trace2, row=1, col=1, secondary_y=True)\n",
    "\n",
    "fig1.update_xaxes(title_text='Year', row=1, col=1)\n",
    "fig1.update_xaxes(showticklabels=True, row=1, col=1)  # Show x-axis tick labels\n",
    "\n",
    "# Hide y-axis labels for both traces\n",
    "fig1.update_yaxes(showticklabels=False, row=1, col=1)\n",
    "fig1.update_yaxes(showticklabels=False, row=1, col=1, secondary_y=True)\n",
    "\n",
    "# Set the subplot title as the firstname\n",
    "fig1.update_layout(\n",
    "    xaxis_title=\"Year\",\n",
    "    yaxis_title=\"Number of Birth\",\n",
    "    title_text=firstname,\n",
    "    plot_bgcolor='rgba(0,0,0,0)'\n",
    ")\n",
    "\n",
    "# Show the figure\n",
    "fig1.show()"
   ]
  },
  {
   "cell_type": "markdown",
   "id": "9c029528",
   "metadata": {},
   "source": [
    "![christopher_freq.png](IMAGES/christopher_freq.png)"
   ]
  },
  {
   "cell_type": "markdown",
   "id": "5f844fbc",
   "metadata": {},
   "source": [
    "Looks like the results are mitigating on this above graph! We can't conclude the same way or with the same insurance. Later analysis on P3 will be to ass the trust interval on this correlation.\n",
    "Below, we are processing the same thing as on Christopher but on 400 firstnames!\n",
    "The diagram could look like a picture on kitchen apron (am I the only one to think that?) but it is not. 2 curves for each firstnames help us to see if a correlation is present and if yes, is it with a delay or not?\n",
    "Hence, we don't care about the real frequency, we just want to see at once if a trend is shared. \n",
    "Last, this graph was chosen because we also want to emphasize on the firstname (like the kitchen apron where each one wants to see if his firstname is present on the graph), so the firstname are ordered alphabetically!\n",
    "Try to catch your firstname (if you think it could be in top400 firstnames over the years) and see if your parents chose this firstname because a great movie with your firstname was released before your birth?"
   ]
  },
  {
   "cell_type": "code",
   "execution_count": null,
   "id": "1ec3152b",
   "metadata": {},
   "outputs": [],
   "source": [
    "fig = make_subplots(\n",
    "    rows=20,\n",
    "    cols=20,\n",
    "    subplot_titles=sorted(top400_firstnamesDF[\"Firstname\"].unique()),\n",
    "    specs=[[{\"secondary_y\": True}] * 20] * 20\n",
    ")\n",
    "\n",
    "legends_added = False  # A flag to ensure legends are added only once\n",
    "\n",
    "for i, firstname in enumerate(sorted(top400_firstnamesDF[\"Firstname\"].unique())):\n",
    "    row = i // 20 + 1\n",
    "    col = i % 20 + 1\n",
    "    \n",
    "    # Sort the dataframes by \"Year\" for consistency\n",
    "    df1 = top400_firstnamesDF[top400_firstnamesDF[\"Firstname\"] == firstname].sort_values(by=\"Year\")\n",
    "    df2 = top400_firstnamesDF[top400_firstnamesDF[\"Firstname\"] == firstname].sort_values(by=\"Year\")\n",
    "\n",
    "    # Calculate the frequency for each year using apply\n",
    "    df1[\"Frequency\"] = df1.apply(lambda row: row[\"Number of birth\"] / births_by_year[births_by_year[\"Year\"] == row[\"Year\"]][\"Number\"].values[0], axis=1)\n",
    "    df2[\"Frequency\"] = df2.apply(lambda row: row[\"Number of occurences in movies\"] / firstnames_by_year[firstnames_by_year[\"Year\"] == row[\"Year\"]][\"Firstname\"].values[0], axis=1)\n",
    "\n",
    "    # Rename the columns\n",
    "    df1 = df1.rename(columns={\"Frequency\": \"Frequency of Birth\"})\n",
    "    df2 = df2.rename(columns={\"Frequency\": \"Frequency in Movies\"})\n",
    "\n",
    "    fig1 = make_subplots(\n",
    "        rows=1,\n",
    "        cols=1,\n",
    "        specs=[[{\"secondary_y\": True}]]\n",
    "    )\n",
    "\n",
    "    if row==1:\n",
    "        # Add a trace for the first line (e.g., blue)\n",
    "        trace1 = go.Scatter(x=df1[\"Year\"], y=df1[\"Frequency of Birth\"], mode='lines', name=\"Frequency of Birth\", line=dict(color='blue'),legendgroup='Frequency of birth')\n",
    "        # Add a trace for the second line (e.g., red)\n",
    "        trace2 = go.Scatter(x=df2[\"Year\"], y=df2[\"Frequency in Movies\"], mode='lines', name=\"Frequency of Occurrences in Movies\", line=dict(color='orange'),legendgroup='Frequency of occurence in movies', yaxis=\"y2\")\n",
    "\n",
    "    # Add a trace for the first line (e.g., blue)\n",
    "    trace1 = go.Scatter(x=df1[\"Year\"], y=df1[\"Frequency of Birth\"], mode='lines', name=\"Frequency of Birth\", line=dict(color='blue'),legendgroup='Frequency of birth',showlegend=False)\n",
    "    # Add a trace for the second line (e.g., red)\n",
    "    trace2 = go.Scatter(x=df2[\"Year\"], y=df2[\"Frequency in Movies\"], mode='lines', name=\"Frequency of Occurrences in Movies\", line=dict(color='orange'),legendgroup='Frequency of occurence in movies',showlegend=False, yaxis=\"y2\")\n",
    "\n",
    "    # Add the traces to the subplot\n",
    "    fig.add_trace(trace1, row=row, col=col)\n",
    "    fig.add_trace(trace2, row=row, col=col, secondary_y=True)\n",
    "\n",
    "    fig.update_xaxes(title_text='', row=row, col=col)  # Remove x-axis label\n",
    "    fig.update_yaxes(title_text='', row=row, col=col)  # Remove y-axis label for the primary y-axis\n",
    "    fig.update_yaxes(title_text='', row=row, col=col, secondary_y=True)  # Remove y-axis label for the secondary y-axis\n",
    "    fig.update_xaxes(showticklabels=False, showgrid=False, row=row, col=col)\n",
    "    fig.update_yaxes(showticklabels=False, showgrid=False, row=row, col=col)\n",
    "    fig.update_yaxes(showticklabels=False, showgrid=False, row=row, col=col, secondary_y=True)\n",
    "\n",
    "    # Set the subplot title as the firstname using update_xaxes\n",
    "    # fig.update_xaxes(title_text=firstname, row=row, col=col)\n",
    "\n",
    "# Update the figure properties\n",
    "fig.update_annotations(font_size=8)\n",
    "fig.update_layout(\n",
    "    height=1000,\n",
    "    width=1400,  # Increase the width to accommodate the legend\n",
    "    title_text=\"Firstname occurrence frequency in top400 names over the years\",\n",
    "    plot_bgcolor=\"white\",\n",
    "    showlegend=True,  # Show the full plot legend\n",
    "    legend=dict(\n",
    "        orientation=\"v\",  # Set orientation to vertical for a legend on the right\n",
    "        x=1.05,  # Adjust the x position as needed\n",
    "        y=0.5,  # Adjust the y position as needed\n",
    "        itemsizing='constant',  # Set the size of legend items to be constant\n",
    "        tracegroupgap=10,  # Add some space between the legend groups\n",
    "        traceorder=\"normal\",  # Set the order of the legend items\n",
    "        bgcolor=\"white\",  # Set the background color of the legend\n",
    "        bordercolor=\"black\",  # Set the border color of the legend\n",
    "        borderwidth=1,  # Set the border width of the legend\n",
    "        font=dict(size=8),  # Set the font size of the legend\n",
    "        title=dict(text=\"Legend\"),  # Set the title of the legend\n",
    "    ),\n",
    "    font=dict(size=8),\n",
    "    xaxis=dict(showticklabels=False, showgrid=False),\n",
    "    xaxis_title=\"\",\n",
    "    title_font_size=20,  # set font size of subplot titles\n",
    ")\n",
    "\n",
    "# Add a single legend for all subplots\n",
    "fig.add_trace(go.Scatter(x=[None], y=[None], mode='lines', name=\"Frequency of Birth\", line=dict(color='blue'), legendgroup='Frequency of birth'))\n",
    "fig.add_trace(go.Scatter(x=[None], y=[None], mode='lines', name=\"Frequency of Occurrences in Movies\", line=dict(color='orange'), legendgroup='Frequency of occurence in movies'))\n",
    "\n",
    "# Assign the same legend group to all traces\n",
    "for trace in fig.data:\n",
    "    trace.legendgroup = trace.name\n",
    "\n",
    "# Show the figure\n",
    "fig.show()"
   ]
  },
  {
   "cell_type": "markdown",
   "id": "36d6f982",
   "metadata": {},
   "source": [
    "Great, but now we are tired of searching for another firstname, we want to see the general trend. We would like to see if some firstnames are in advance of movies in babynames distribution or the contrary. We are less focusing on the firstnames but more on the potential delay of correlation between movies and reality."
   ]
  },
  {
   "cell_type": "code",
   "execution_count": null,
   "id": "4f8be477",
   "metadata": {},
   "outputs": [],
   "source": [
    "%%capture\n",
    "correlationDF = pd.DataFrame(columns=[\"Firstname\", \"Correlation\"])\n",
    "\n",
    "for i, firstname in enumerate(sorted(top400_firstnamesDF[\"Firstname\"].unique())):\n",
    "    row = i // 20 + 1\n",
    "    col = i % 20 + 1\n",
    "    \n",
    "    # Sort the dataframes by \"Year\" for consistency\n",
    "    df1 = top400_firstnamesDF[top400_firstnamesDF[\"Firstname\"] == firstname].sort_values(by=\"Year\")\n",
    "    df2 = top400_firstnamesDF[top400_firstnamesDF[\"Firstname\"] == firstname].sort_values(by=\"Year\")\n",
    "\n",
    "    # Calculate the frequency for each year using apply\n",
    "    df1[\"Frequency\"] = df1.apply(lambda row: row[\"Number of birth\"] / births_by_year[births_by_year[\"Year\"] == row[\"Year\"]][\"Number\"].values[0], axis=1)\n",
    "    df2[\"Frequency\"] = df2.apply(lambda row: row[\"Number of occurences in movies\"] / firstnames_by_year[firstnames_by_year[\"Year\"] == row[\"Year\"]][\"Firstname\"].values[0], axis=1)\n",
    "\n",
    "    # Rename the columns\n",
    "    df1 = df1.rename(columns={\"Frequency\": \"Frequency of Birth\"})\n",
    "    df2 = df2.rename(columns={\"Frequency\": \"Frequency in Movies\"})\n",
    "    \n",
    "    correlationDF = pd.concat([correlationDF, pd.DataFrame([[firstname, df1[\"Frequency of Birth\"].corr(df2[\"Frequency in Movies\"])]], columns=[\"Firstname\", \"Correlation\"])])"
   ]
  },
  {
   "cell_type": "code",
   "execution_count": null,
   "id": "034f267b",
   "metadata": {},
   "outputs": [],
   "source": [
    "# Create an empty DataFrame to store the results\n",
    "cross_correlation_results = pd.DataFrame(columns=[\"FirstName\", \"Cross-Correlation\", \"Time Delay\"])\n",
    "\n",
    "# Iterate through the first names\n",
    "for firstname in top400_firstnamesDF[\"Firstname\"].unique():\n",
    "    # Sort the dataframes by \"Year\" for consistency\n",
    "    df1 = top400_firstnamesDF[top400_firstnamesDF[\"Firstname\"] == firstname].sort_values(by=\"Year\")\n",
    "    df2 = top400_firstnamesDF[top400_firstnamesDF[\"Firstname\"] == firstname].sort_values(by=\"Year\")\n",
    "\n",
    "    # Calculate the frequency for each year using apply\n",
    "    df1[\"Frequency\"] = df1.apply(lambda row: row[\"Number of birth\"] / births_by_year[births_by_year[\"Year\"] == row[\"Year\"]][\"Number\"].values[0], axis=1)\n",
    "    df2[\"Frequency\"] = df2.apply(lambda row: row[\"Number of occurences in movies\"] / firstnames_by_year[firstnames_by_year[\"Year\"] == row[\"Year\"]][\"Firstname\"].values[0], axis=1)\n",
    "\n",
    "    # Rename the columns\n",
    "    df1 = df1.rename(columns={\"Frequency\": \"Frequency of Birth\"})\n",
    "    df2 = df2.rename(columns={\"Frequency\": \"Frequency in Movies\"})\n",
    "\n",
    "    # Calculate the cross-correlation and time delay\n",
    "    cross_correlation = np.correlate(df1[\"Frequency of Birth\"], df2[\"Frequency in Movies\"], mode='full')\n",
    "    time_delay = np.argmax(cross_correlation) - (len(df2) - 1)  # Calculate the time delay\n",
    "\n",
    "    # Create a new DataFrame with the result for this firstname\n",
    "    result_df = pd.DataFrame({\"FirstName\": [firstname], \"Cross-Correlation\": [cross_correlation], \"Time Delay\": [time_delay]})\n",
    "\n",
    "    # Concatenate the result with the main DataFrame\n",
    "    cross_correlation_results = pd.concat([cross_correlation_results, result_df], ignore_index=True)"
   ]
  },
  {
   "cell_type": "code",
   "execution_count": null,
   "id": "d1c4e824",
   "metadata": {},
   "outputs": [],
   "source": [
    "# Prepare Data\n",
    "df = cross_correlation_results\n",
    "\n",
    "# Group the data by 'Time Delay' and aggregate the 'FirstName' into a sorted list\n",
    "dflist = df.groupby('Time Delay')['FirstName'].apply(lambda x: sorted(x)).reset_index()\n",
    "\n",
    "# Rename the columns for clarity\n",
    "dflist.columns = ['Time Delay', 'FirstNameList']\n",
    "\n",
    "# Remove all 0 Time Delay in dflist and store them in another DataFrame\n",
    "dflist_0 = dflist[dflist[\"Time Delay\"] == 0]\n",
    "dflist = dflist[dflist[\"Time Delay\"] != 0]\n",
    "dflist['colors'] = dflist['Time Delay'].astype(float)\n",
    "\n",
    "# Convert the list of first names into a comma-separated string\n",
    "dflist['FirstNameList'] = dflist['FirstNameList'].apply(lambda names: ', '.join(names))\n",
    "\n",
    "# Sort the DataFrame by the 'Time Delay' column in ascending order\n",
    "dflist = dflist.sort_values(by=\"Time Delay\", ascending=True).reset_index(drop=True)\n",
    "\n",
    "# Create Diverging Bars Plot with the RdYlGn colormap using the log_colors\n",
    "fig = px.bar(\n",
    "    dflist,\n",
    "    x='Time Delay',\n",
    "    y=dflist.index,  # Use the index as y-axis values\n",
    "    color='colors',  # Use the log transformed values for color\n",
    "    text='FirstNameList',  # Now it contains comma-separated names\n",
    "    orientation='h',\n",
    "    width=1500,  # Increase the width to provide more space for the legend\n",
    "    height=1000,\n",
    "    color_continuous_scale='RdYlGn',  # Use a diverging colormap\n",
    "    color_continuous_midpoint= 4.14,\n",
    ")\n",
    "fig.update_traces(\n",
    "    textfont_size=12, \n",
    "    textangle=0, \n",
    "    textposition=\"outside\",\n",
    "    cliponaxis=True,\n",
    ")\n",
    "fig.update_xaxes(side=\"top\")  # Move the x-axis to the top\n",
    "\n",
    "# Update the layout for better appearance\n",
    "fig.update_layout(\n",
    "    yaxis_title='',\n",
    "    xaxis_title='Time Delay (Year)',\n",
    "    title='Comparison of Time Delay for Firstnames between Birth and Movies',\n",
    "    xaxis=dict(\n",
    "        title_font=dict(size=10),  # Set the x-axis title font size\n",
    "        tickfont=dict(size=8),\n",
    "    ),\n",
    "    font=dict(size=20),  # Set the main title font size\n",
    "    title_x=0.5,  # Center-align the title\n",
    "    yaxis=dict(\n",
    "        tickvals=dflist.index,\n",
    "        ticktext=dflist['FirstNameList'],  # Use 'FirstName' column for tick labels\n",
    "        tickfont=dict(size=8),\n",
    "        showticklabels=False,\n",
    "        showgrid=False\n",
    "    ),\n",
    "    showlegend=False,\n",
    "    plot_bgcolor=\"white\",\n",
    "    margin=dict(t=150, b=40),  # Adjust the top and bottom margins as needed\n",
    ")\n",
    "\n",
    "# Set the coloraxis title to reflect the log scale\n",
    "fig.update_coloraxes(colorbar_title=\"Time Delay\")\n",
    "fig.update_coloraxes(colorbar_tickfont_size=8)  # Set the color axis font size\n",
    "fig.update_coloraxes(colorbar_len=0.6, colorbar_thickness=20)  # Adjust the color bar size\n",
    "\n",
    "\n",
    "#Add annotations\n",
    "str1=\"Movies in advance of Birth\"\n",
    "str2=\"Movies after Birth\"\n",
    "fig.add_annotation(x=-12, y=60, text=str1, font=dict(size=16), showarrow=False)\n",
    "fig.add_annotation(x=7, y=23, text=str2, font=dict(size=16), showarrow=False)\n",
    "\n",
    "first_names = dflist_0[\"FirstNameList\"].values[0]\n",
    "formatted_names = \",\\n\".join(\", \".join(first_names[i:i+10]) for i in range(0, len(first_names), 10))\n",
    "print(\"The first names that have 0 time delay are:\")\n",
    "print(formatted_names)\n",
    "\n",
    "fig.show()"
   ]
  },
  {
   "cell_type": "markdown",
   "id": "c5bee8f8",
   "metadata": {},
   "source": [
    "This is a more proper way to improve our thoughts on the potential correlation of the firstnames in movies and in reality. As from the beginning, we want to see the trends, we will have to continue on this way for the final analysis. This new argument that will help us to affine our analysis:\n",
    "- We are not focusing on feminity or masculinity of the firstname\n",
    "- We are not focusing on the origin/country of the firstname\n",
    "- We could look to see if trendy firstnames in reality have a trend delay in movies"
   ]
  },
  {
   "cell_type": "markdown",
   "id": "7ff81495",
   "metadata": {},
   "source": [
    "# 3. What would be the ideal dataset to give to aliens so they have the best picture of our civilization"
   ]
  },
  {
   "cell_type": "code",
   "execution_count": null,
   "id": "6c2ad192",
   "metadata": {},
   "outputs": [],
   "source": []
  }
 ],
 "metadata": {
  "kernelspec": {
   "display_name": "Python 3 (ipykernel)",
   "language": "python",
   "name": "python3"
  },
  "language_info": {
   "codemirror_mode": {
    "name": "ipython",
    "version": 3
   },
   "file_extension": ".py",
   "mimetype": "text/x-python",
   "name": "python",
   "nbconvert_exporter": "python",
   "pygments_lexer": "ipython3",
   "version": "3.11.5"
  }
 },
 "nbformat": 4,
 "nbformat_minor": 5
}
